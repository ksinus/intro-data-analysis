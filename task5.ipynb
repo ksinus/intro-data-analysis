{
 "cells": [
  {
   "cell_type": "markdown",
   "metadata": {
    "pycharm": {
     "name": "#%% md\n"
    }
   },
   "source": [
    "# <a href=\"https://mipt-stats.gitlab.io/courses/ad_fivt.html\">Введение в анализ данных</a>\n",
    "## Домашнее задание 5. Анализ вакансий.\n",
    "\n",
    "Второй курс &mdash; самое время задуматься о будущей профессии и проанализировать существующие предложения. Дело тут даже не в том, чтобы найти интересную стажировку. В первую очередь сейчас стоит подумать о том, в какую сторону развиваться дальше. Например, если вы хотите работать в какой-либо конкретной профессии, то наверняка стоит развивать какие-то определенные навыки, и даже выбрать подходящую кафедру. Анализ существующих вакансий поможет определить, какие навыки вам нужны.\n",
    "\n",
    "### <font color=\"blue\"><i>Легкая часть</i></font>\n"
   ]
  },
  {
   "cell_type": "code",
   "execution_count": null,
   "metadata": {
    "pycharm": {
     "name": "#%%\n"
    }
   },
   "outputs": [],
   "source": [
    "import numpy as np\n",
    "import pandas as pd\n",
    "import matplotlib.pyplot as plt\n",
    "import seaborn as sns\n",
    "\n",
    "sns.set(style='whitegrid', font_scale=1.3, palette='Set2')\n",
    "%matplotlib inline\n",
    "\n",
    "import requests\n",
    "from time import sleep\n",
    "import json"
   ]
  },
  {
   "cell_type": "markdown",
   "metadata": {},
   "source": [
    "### Задача 1.\n",
    "\n",
    "Исследуем профессию Data Scientist. Найдите как можно больше вакансий по этой профессии в Москве. Учтите, что имеет смысл искать также по другим ключевым словам, например `аналитик данных`.\n",
    "\n",
    "Сделаем тестовый запрос, чтобы понять основные параметры, по которым будем обрабатывать страницы:"
   ]
  },
  {
   "cell_type": "code",
   "execution_count": 6,
   "metadata": {
    "pycharm": {
     "name": "#%%\n"
    }
   },
   "outputs": [],
   "source": [
    "URL = 'https://api.hh.ru/vacancies'\n",
    "ds_params = dict(text=\"\\\"Data Scientist\\\" OR\"\n",
    "                      \"\\\"Data Analysis\\\" OR\"\n",
    "                      \"\\\"Data Analyst\\\" OR\"\n",
    "                      \"\\\"Data Science\\\" OR\"\n",
    "                      \"\\\"ML\\\" OR\"\n",
    "                      \"\\\"Data Engineer\\\" OR\"\n",
    "                      \"\\\"Big Data\\\" OR\"\n",
    "                      \"\\\"Machine learning\\\" OR\"\n",
    "                      \"\\\"Наука о данных\\\" OR\"\n",
    "                      \"\\\"Анализ Данных\\\" OR\"\n",
    "                      \"\\\"Инженер Данных\\\" OR\"\n",
    "                      \"\\\"Kaggle\\\" OR\"\n",
    "                      \"\\\"Аналитик Данных\\\" OR\"\n",
    "                      \"\\\"Машинное обучение\\\"\", area=1, page={}, per_page=100)\n",
    "ds_req = requests.get(URL, ds_params)\n",
    "ds_data = json.loads(ds_req.content.decode())"
   ]
  },
  {
   "cell_type": "markdown",
   "metadata": {
    "pycharm": {
     "name": "#%% md\n"
    }
   },
   "source": [
    "Согласно документации по API пользователю не может быть выдано более $2000$ вакансий. Таким образом, для дальнейшего анализа нам остаётся в лучшем случае имеено такое число.\n",
    "\n",
    "Далее пройдёмся по всем страницам и соберём полный список вакансий:"
   ]
  },
  {
   "cell_type": "code",
   "execution_count": 7,
   "metadata": {
    "pycharm": {
     "name": "#%%\n"
    }
   },
   "outputs": [],
   "source": [
    "ds_pages = []\n",
    "for n in range(0, ds_data['pages']):\n",
    "    ds_params['page'] = n\n",
    "    req = requests.get(URL, ds_params)\n",
    "    data = json.loads(req.content.decode())\n",
    "    ds_pages.append(pd.json_normalize(data['items']))\n",
    "    sleep(0.5)"
   ]
  },
  {
   "cell_type": "markdown",
   "metadata": {
    "pycharm": {
     "name": "#%% md\n"
    }
   },
   "source": [
    "Соберём таблицы вместе и выведем, чтобы представлять, как выглядят сырые данные:"
   ]
  },
  {
   "cell_type": "code",
   "execution_count": 8,
   "metadata": {
    "pycharm": {
     "name": "#%%\n"
    }
   },
   "outputs": [
    {
     "data": {
      "text/html": [
       "<div>\n",
       "<style scoped>\n",
       "    .dataframe tbody tr th:only-of-type {\n",
       "        vertical-align: middle;\n",
       "    }\n",
       "\n",
       "    .dataframe tbody tr th {\n",
       "        vertical-align: top;\n",
       "    }\n",
       "\n",
       "    .dataframe thead th {\n",
       "        text-align: right;\n",
       "    }\n",
       "</style>\n",
       "<table border=\"1\" class=\"dataframe\">\n",
       "  <thead>\n",
       "    <tr style=\"text-align: right;\">\n",
       "      <th></th>\n",
       "      <th>id</th>\n",
       "      <th>premium</th>\n",
       "      <th>name</th>\n",
       "      <th>department</th>\n",
       "      <th>has_test</th>\n",
       "      <th>response_letter_required</th>\n",
       "      <th>salary</th>\n",
       "      <th>response_url</th>\n",
       "      <th>sort_point_distance</th>\n",
       "      <th>published_at</th>\n",
       "      <th>...</th>\n",
       "      <th>address.metro</th>\n",
       "      <th>salary.from</th>\n",
       "      <th>salary.to</th>\n",
       "      <th>salary.currency</th>\n",
       "      <th>salary.gross</th>\n",
       "      <th>department.id</th>\n",
       "      <th>department.name</th>\n",
       "      <th>employer.logo_urls</th>\n",
       "      <th>insider_interview.id</th>\n",
       "      <th>insider_interview.url</th>\n",
       "    </tr>\n",
       "  </thead>\n",
       "  <tbody>\n",
       "    <tr>\n",
       "      <th>0</th>\n",
       "      <td>52324250</td>\n",
       "      <td>False</td>\n",
       "      <td>Middle Data Scientist (Big Data)</td>\n",
       "      <td>NaN</td>\n",
       "      <td>False</td>\n",
       "      <td>False</td>\n",
       "      <td>NaN</td>\n",
       "      <td>None</td>\n",
       "      <td>None</td>\n",
       "      <td>2022-03-17T14:31:11+0300</td>\n",
       "      <td>...</td>\n",
       "      <td>NaN</td>\n",
       "      <td>NaN</td>\n",
       "      <td>NaN</td>\n",
       "      <td>NaN</td>\n",
       "      <td>NaN</td>\n",
       "      <td>NaN</td>\n",
       "      <td>NaN</td>\n",
       "      <td>NaN</td>\n",
       "      <td>NaN</td>\n",
       "      <td>NaN</td>\n",
       "    </tr>\n",
       "    <tr>\n",
       "      <th>1</th>\n",
       "      <td>51703352</td>\n",
       "      <td>False</td>\n",
       "      <td>Аналитик данных (Data science)</td>\n",
       "      <td>NaN</td>\n",
       "      <td>False</td>\n",
       "      <td>False</td>\n",
       "      <td>NaN</td>\n",
       "      <td>None</td>\n",
       "      <td>None</td>\n",
       "      <td>2022-03-17T12:39:28+0300</td>\n",
       "      <td>...</td>\n",
       "      <td>NaN</td>\n",
       "      <td>NaN</td>\n",
       "      <td>NaN</td>\n",
       "      <td>NaN</td>\n",
       "      <td>NaN</td>\n",
       "      <td>NaN</td>\n",
       "      <td>NaN</td>\n",
       "      <td>NaN</td>\n",
       "      <td>NaN</td>\n",
       "      <td>NaN</td>\n",
       "    </tr>\n",
       "    <tr>\n",
       "      <th>2</th>\n",
       "      <td>52234562</td>\n",
       "      <td>False</td>\n",
       "      <td>Data Engineer / Big data (Удаленно)</td>\n",
       "      <td>NaN</td>\n",
       "      <td>False</td>\n",
       "      <td>False</td>\n",
       "      <td>NaN</td>\n",
       "      <td>None</td>\n",
       "      <td>None</td>\n",
       "      <td>2022-03-17T15:02:03+0300</td>\n",
       "      <td>...</td>\n",
       "      <td>NaN</td>\n",
       "      <td>NaN</td>\n",
       "      <td>NaN</td>\n",
       "      <td>NaN</td>\n",
       "      <td>NaN</td>\n",
       "      <td>NaN</td>\n",
       "      <td>NaN</td>\n",
       "      <td>NaN</td>\n",
       "      <td>NaN</td>\n",
       "      <td>NaN</td>\n",
       "    </tr>\n",
       "    <tr>\n",
       "      <th>3</th>\n",
       "      <td>52480091</td>\n",
       "      <td>False</td>\n",
       "      <td>Data analyst / Аналитик данных</td>\n",
       "      <td>NaN</td>\n",
       "      <td>False</td>\n",
       "      <td>False</td>\n",
       "      <td>NaN</td>\n",
       "      <td>None</td>\n",
       "      <td>None</td>\n",
       "      <td>2022-03-17T13:45:04+0300</td>\n",
       "      <td>...</td>\n",
       "      <td>NaN</td>\n",
       "      <td>NaN</td>\n",
       "      <td>NaN</td>\n",
       "      <td>NaN</td>\n",
       "      <td>NaN</td>\n",
       "      <td>NaN</td>\n",
       "      <td>NaN</td>\n",
       "      <td>NaN</td>\n",
       "      <td>NaN</td>\n",
       "      <td>NaN</td>\n",
       "    </tr>\n",
       "    <tr>\n",
       "      <th>4</th>\n",
       "      <td>53816693</td>\n",
       "      <td>False</td>\n",
       "      <td>Data Scientist</td>\n",
       "      <td>NaN</td>\n",
       "      <td>False</td>\n",
       "      <td>False</td>\n",
       "      <td>NaN</td>\n",
       "      <td>None</td>\n",
       "      <td>None</td>\n",
       "      <td>2022-03-17T18:46:11+0300</td>\n",
       "      <td>...</td>\n",
       "      <td>NaN</td>\n",
       "      <td>NaN</td>\n",
       "      <td>NaN</td>\n",
       "      <td>NaN</td>\n",
       "      <td>NaN</td>\n",
       "      <td>NaN</td>\n",
       "      <td>NaN</td>\n",
       "      <td>NaN</td>\n",
       "      <td>NaN</td>\n",
       "      <td>NaN</td>\n",
       "    </tr>\n",
       "  </tbody>\n",
       "</table>\n",
       "<p>5 rows × 66 columns</p>\n",
       "</div>"
      ],
      "text/plain": [
       "         id  premium                                 name  department  \\\n",
       "0  52324250    False     Middle Data Scientist (Big Data)         NaN   \n",
       "1  51703352    False       Аналитик данных (Data science)         NaN   \n",
       "2  52234562    False  Data Engineer / Big data (Удаленно)         NaN   \n",
       "3  52480091    False       Data analyst / Аналитик данных         NaN   \n",
       "4  53816693    False                       Data Scientist         NaN   \n",
       "\n",
       "   has_test  response_letter_required  salary response_url  \\\n",
       "0     False                     False     NaN         None   \n",
       "1     False                     False     NaN         None   \n",
       "2     False                     False     NaN         None   \n",
       "3     False                     False     NaN         None   \n",
       "4     False                     False     NaN         None   \n",
       "\n",
       "  sort_point_distance              published_at  ... address.metro  \\\n",
       "0                None  2022-03-17T14:31:11+0300  ...           NaN   \n",
       "1                None  2022-03-17T12:39:28+0300  ...           NaN   \n",
       "2                None  2022-03-17T15:02:03+0300  ...           NaN   \n",
       "3                None  2022-03-17T13:45:04+0300  ...           NaN   \n",
       "4                None  2022-03-17T18:46:11+0300  ...           NaN   \n",
       "\n",
       "   salary.from salary.to salary.currency salary.gross department.id  \\\n",
       "0          NaN       NaN             NaN          NaN           NaN   \n",
       "1          NaN       NaN             NaN          NaN           NaN   \n",
       "2          NaN       NaN             NaN          NaN           NaN   \n",
       "3          NaN       NaN             NaN          NaN           NaN   \n",
       "4          NaN       NaN             NaN          NaN           NaN   \n",
       "\n",
       "  department.name employer.logo_urls insider_interview.id  \\\n",
       "0             NaN                NaN                  NaN   \n",
       "1             NaN                NaN                  NaN   \n",
       "2             NaN                NaN                  NaN   \n",
       "3             NaN                NaN                  NaN   \n",
       "4             NaN                NaN                  NaN   \n",
       "\n",
       "  insider_interview.url  \n",
       "0                   NaN  \n",
       "1                   NaN  \n",
       "2                   NaN  \n",
       "3                   NaN  \n",
       "4                   NaN  \n",
       "\n",
       "[5 rows x 66 columns]"
      ]
     },
     "execution_count": 8,
     "metadata": {},
     "output_type": "execute_result"
    }
   ],
   "source": [
    "ds_pages_df = pd.concat(ds_pages)\n",
    "ds_pages_df.head()"
   ]
  },
  {
   "cell_type": "markdown",
   "metadata": {
    "pycharm": {
     "name": "#%% md\n"
    }
   },
   "source": [
    "В полученную выборку некоторые вакансии могли попасть несколько раз. Удалите дубликаты.\n",
    "\n",
    "Воспользуемся тем, что у одинаковых объявлений одинаковые id:"
   ]
  },
  {
   "cell_type": "code",
   "execution_count": 5,
   "metadata": {
    "pycharm": {
     "name": "#%%\n"
    }
   },
   "outputs": [],
   "source": [
    "ds_pages_df.reset_index(inplace=True)\n",
    "ds_pages_df.drop_duplicates(subset=['id'], inplace=True)\n",
    "ds_pages_df.drop('index', axis=1, inplace=True)"
   ]
  },
  {
   "cell_type": "markdown",
   "metadata": {
    "pycharm": {
     "name": "#%% md\n"
    }
   },
   "source": [
    "Загрузите подробное описание каждой вакансии и создайте удобную таблицу данных."
   ]
  },
  {
   "cell_type": "code",
   "execution_count": 10,
   "metadata": {
    "pycharm": {
     "name": "#%%\n"
    }
   },
   "outputs": [],
   "source": [
    "ds_vacancies_info= []\n",
    "ds_key_skills = []\n",
    "ds_coord_lat = []\n",
    "ds_coord_lng = []\n",
    "ds_exp = []\n",
    "ds_employer_name = []\n",
    "\n",
    "for s in range(0, ds_pages_df.shape[0]):\n",
    "    vacancy = ds_pages_df['id'].iloc[s]\n",
    "    vacancy_url = f'https://api.hh.ru/vacancies/{vacancy}'\n",
    "    req = requests.get(vacancy_url)\n",
    "    vacancy_info = json.loads(req.content.decode())\n",
    "\n",
    "    # на случай, если сервер перестанет отдавать ответы\n",
    "    if 'errors' in vacancy_info:\n",
    "        print(\"уходи, дудосер ٩(ఠ益ఠ)۶\")\n",
    "        break\n",
    "\n",
    "    ds_vacancies_info.append(vacancy_info['description'])\n",
    "    ds_key_skills.append([skill['name'] for skill in vacancy_info['key_skills']])\n",
    "\n",
    "    # обрабатываем айди-имя работодателя\n",
    "    if vacancy_info['employer'] is not None \\\n",
    "                and 'name' in vacancy_info['employer']:\n",
    "        emp_name = vacancy_info['employer']['name']\n",
    "        ds_employer_name.append(emp_name)\n",
    "    else:\n",
    "        ds_employer_name.append(None)\n",
    "\n",
    "    # обрабатываем опыт работы\n",
    "    if vacancy_info['experience'] is not None \\\n",
    "            and 'id' in vacancy_info['experience']:\n",
    "        ds_exp.append(vacancy_info['experience']['id'])\n",
    "    else:\n",
    "        ds_exp.append(None)\n",
    "\n",
    "    # обрабатываем координату работы\n",
    "    if vacancy_info['address'] is not None \\\n",
    "        and 'lat' in vacancy_info['address'] \\\n",
    "            and 'lng' in vacancy_info['address'] :\n",
    "        ds_coord_lat.append(vacancy_info['address']['lat'])\n",
    "        ds_coord_lng.append(vacancy_info['address']['lng'])\n",
    "\n",
    "    sleep(0.5)"
   ]
  },
  {
   "cell_type": "markdown",
   "metadata": {
    "pycharm": {
     "name": "#%% md\n"
    }
   },
   "source": [
    "Оставим важные для анализа поля. Для меня как для человека, который недавно искал работу, важна зарплата и описание вакансии вкупе с ключевыми навыками. Оставлю так же имя работодателя и требуемый опыт работы."
   ]
  },
  {
   "cell_type": "code",
   "execution_count": 11,
   "metadata": {
    "pycharm": {
     "name": "#%%\n"
    }
   },
   "outputs": [],
   "source": [
    "target_fields = ['id', 'name', 'salary.from', 'salary.to', 'salary.currency', 'salary.gross']\n",
    "# TODO добавить адрес и работодателя потом\n",
    "target_ds = ds_pages_df.loc[:, target_fields]\n",
    "# добавляем необходимые для анализа поля\n",
    "target_ds['vacancy_info'] = ds_vacancies_info\n",
    "target_ds['key_skills'] = ds_key_skills\n",
    "target_ds['experience'] = ds_exp\n",
    "target_ds['employer_name'] = ds_employer_name"
   ]
  },
  {
   "cell_type": "markdown",
   "metadata": {},
   "source": [
    "**Полученную таблицу необходимо сохранить в формате xlsx и отправить боту вместе с решением.**"
   ]
  },
  {
   "cell_type": "code",
   "execution_count": 111,
   "metadata": {
    "pycharm": {
     "name": "#%%\n"
    }
   },
   "outputs": [],
   "source": [
    "target_ds.to_excel('ds_vacancy_info.xlsx')"
   ]
  },
  {
   "cell_type": "markdown",
   "metadata": {},
   "source": [
    "**Вопрос 1.** Сколько сейчас доступно вакансий по вашему запросу?"
   ]
  },
  {
   "cell_type": "code",
   "execution_count": 13,
   "metadata": {},
   "outputs": [
    {
     "data": {
      "text/plain": [
       "5324"
      ]
     },
     "execution_count": 13,
     "metadata": {},
     "output_type": "execute_result"
    }
   ],
   "source": [
    "data['found']"
   ]
  },
  {
   "cell_type": "markdown",
   "metadata": {},
   "source": [
    "Но, в связи с ограничениями API, к анализу доступно меньше, а именно, $2000$.\n",
    "\n",
    "**Вопрос 2.** Какие навыки чаще всего встречаются в вакансиях по данной специальности?\n",
    "\n",
    "Для этого найдите соответствующее поле в данных, проанализируйте его и составьте список навыков и количество упоминаний каждого. Визуализируйте полученную информацию по топ-15 навыков."
   ]
  },
  {
   "cell_type": "code",
   "execution_count": 14,
   "metadata": {},
   "outputs": [],
   "source": [
    "ds_skills_useability = {}\n",
    "# идём по каждой вакансии, считаем упоминаемость навыков\n",
    "for i in range(0, len(ds_key_skills)):\n",
    "    for skill in ds_key_skills[i][:]:\n",
    "        normalized_skill = skill.lower()\n",
    "        if normalized_skill in ds_skills_useability:\n",
    "            ds_skills_useability[normalized_skill] += 1\n",
    "        else:\n",
    "            ds_skills_useability[normalized_skill] = 1"
   ]
  },
  {
   "cell_type": "markdown",
   "metadata": {
    "pycharm": {
     "name": "#%% md\n"
    }
   },
   "source": [
    "Заметим, что навыки вроде 'Анализ данных' или подвиды SQL представляют для основной картины по навыкам несущественную роль. Объединим признаки по группам:"
   ]
  },
  {
   "cell_type": "code",
   "execution_count": 16,
   "metadata": {
    "pycharm": {
     "name": "#%%\n"
    }
   },
   "outputs": [
    {
     "data": {
      "text/plain": [
       "Text(0.5, 1.0, 'Анализ топ-15 навыков из резюме Data Science')"
      ]
     },
     "execution_count": 16,
     "metadata": {},
     "output_type": "execute_result"
    },
    {
     "data": {
      "image/png": "[encoded data removed]",
      "text/plain": [
       "<Figure size 1152x432 with 1 Axes>"
      ]
     },
     "metadata": {},
     "output_type": "display_data"
    }
   ],
   "source": [
    "sk_tmp = ds_skills_useability.copy()\n",
    "sk_tmp['sql'] += sk_tmp['ms sql'] + sk_tmp['postgresql']\n",
    "sk_tmp.pop('ms sql')\n",
    "sk_tmp.pop('postgresql')\n",
    "sk_tmp.pop('анализ данных')\n",
    "sk_tmp.pop('data analysis')\n",
    "# формируем топ\n",
    "sorted_useability = pd.DataFrame(sorted(sk_tmp.items(), key=lambda item: item[1], reverse=True),\n",
    "                                 columns=['Навык', 'Упоминаемость'])\n",
    "\n",
    "plt.figure(figsize=(16, 6))\n",
    "sns.set(style='darkgrid')\n",
    "plt.scatter(data=sorted_useability[0:15],\n",
    "            x='Навык',\n",
    "            y='Упоминаемость',\n",
    "            marker='.',\n",
    "            s=200,\n",
    "            color='crimson')\n",
    "plt.xlabel('Навык', fontsize=15)\n",
    "plt.ylabel('Упоминаемость в резюме', fontsize=15)\n",
    "plt.xticks(rotation=15, ha='right')\n",
    "plt.title('Анализ топ-15 навыков из резюме Data Science', fontsize=15)"
   ]
  },
  {
   "cell_type": "markdown",
   "metadata": {
    "pycharm": {
     "name": "#%% md\n"
    }
   },
   "source": [
    "Таким образом, популярны инструменты работы с базами данных и инструменты визуализации."
   ]
  },
  {
   "cell_type": "markdown",
   "metadata": {},
   "source": [
    "**Вопрос 3.** Какую зарплату готовы платить работодатели? Соберите некоторым образом статистику и постройте гистограмму.\n",
    "\n",
    "При работе с данными о заработной плате обратите внимание на валюту и <a target=\"_blank\" href=\"https://yandex.ru/search/?text=gross%2Fnet&clid=1955455&win=446&lr=213&noreask=1\">gross/net</a>.\n",
    "\n",
    "Рассмотрим состояние данных о зарплате и постараемся привести их к более единому виду."
   ]
  },
  {
   "cell_type": "code",
   "execution_count": 17,
   "metadata": {},
   "outputs": [
    {
     "data": {
      "text/plain": [
       "508"
      ]
     },
     "execution_count": 17,
     "metadata": {},
     "output_type": "execute_result"
    }
   ],
   "source": [
    "target_ds['salary.from'].count()"
   ]
  },
  {
   "cell_type": "code",
   "execution_count": 18,
   "metadata": {
    "pycharm": {
     "name": "#%%\n"
    }
   },
   "outputs": [
    {
     "data": {
      "text/plain": [
       "588"
      ]
     },
     "execution_count": 18,
     "metadata": {},
     "output_type": "execute_result"
    }
   ],
   "source": [
    "not_null_gross = target_ds['salary.gross'].count()\n",
    "not_null_gross"
   ]
  },
  {
   "cell_type": "code",
   "execution_count": 19,
   "metadata": {
    "pycharm": {
     "name": "#%%\n"
    }
   },
   "outputs": [
    {
     "data": {
      "text/plain": [
       "390"
      ]
     },
     "execution_count": 19,
     "metadata": {},
     "output_type": "execute_result"
    }
   ],
   "source": [
    "target_ds['salary.to'].count()"
   ]
  },
  {
   "cell_type": "markdown",
   "metadata": {
    "pycharm": {
     "name": "#%% md\n"
    }
   },
   "source": [
    "Таким образом, заметим, что среди вакансий меньше чем в $30\\%$ указана одна из двух границ вилок.\n",
    "Оставим только необходимые для анализа поля:"
   ]
  },
  {
   "cell_type": "code",
   "execution_count": 229,
   "metadata": {
    "pycharm": {
     "name": "#%%\n"
    }
   },
   "outputs": [],
   "source": [
    "salary_fields = ['salary.from', 'salary.to', 'salary.currency', 'salary.gross']\n",
    "salary_info = target_ds.loc[:, salary_fields]\n",
    "salary_info.dropna(inplace=True)"
   ]
  },
  {
   "cell_type": "markdown",
   "metadata": {
    "pycharm": {
     "name": "#%% md\n"
    }
   },
   "source": [
    "Рассмотрим число предложений с gross и net соответственно:"
   ]
  },
  {
   "cell_type": "code",
   "execution_count": 21,
   "metadata": {
    "pycharm": {
     "name": "#%%\n"
    }
   },
   "outputs": [
    {
     "name": "stdout",
     "output_type": "stream",
     "text": [
      "192 396\n"
     ]
    }
   ],
   "source": [
    "cnt_gross = target_ds['salary.gross'].sum()\n",
    "print(cnt_gross, not_null_gross - cnt_gross)"
   ]
  },
  {
   "cell_type": "markdown",
   "metadata": {
    "pycharm": {
     "name": "#%% md\n"
    }
   },
   "source": [
    "Таким образом, работодатели чаще предпочитают указывать net в заработных платах.\n",
    "\n",
    "В связи с тем, что европейский рынок рынок предлагает традиционно более высокую вилку, чем российский, расмотрим отдельно зарплаты в рублях и зарплаты в долларах и евро.\n",
    "Посмотрим график по зарплате в рублях:"
   ]
  },
  {
   "cell_type": "code",
   "execution_count": 230,
   "metadata": {
    "pycharm": {
     "name": "#%%\n"
    }
   },
   "outputs": [
    {
     "data": {
      "text/plain": [
       "<matplotlib.legend.Legend at 0x7f2bdb99a760>"
      ]
     },
     "execution_count": 230,
     "metadata": {},
     "output_type": "execute_result"
    },
    {
     "data": {
      "image/png": "[encoded data removed]",
      "text/plain": [
       "<Figure size 1152x576 with 1 Axes>"
      ]
     },
     "metadata": {},
     "output_type": "display_data"
    }
   ],
   "source": [
    "plt.figure(figsize=(16, 8))\n",
    "sns.set(style='darkgrid')\n",
    "rub_salary = salary_info[salary_info['salary.currency'] == 'RUR']\n",
    "fig = sns.scatterplot(\n",
    "    data=rub_salary,\n",
    "    x='salary.from',\n",
    "    y='salary.to',\n",
    "    s=70,\n",
    "    linewidth=0,\n",
    "    hue='salary.gross',\n",
    "    palette='viridis',\n",
    "    alpha=0.6,\n",
    ")\n",
    "\n",
    "plt.xlim((0, 360000))\n",
    "plt.ylim((0, 800000))\n",
    "plt.ticklabel_format(style='plain')\n",
    "plt.xlabel('Нижняя граница вилки', fontsize=15)\n",
    "plt.ylabel('Верхняя граница вилки', fontsize=15)\n",
    "plt.title('Распределение зарплат в вакансиях, рубли', fontsize=15)\n",
    "plt.legend(title='gross')"
   ]
  },
  {
   "cell_type": "markdown",
   "metadata": {
    "pycharm": {
     "name": "#%% md\n"
    }
   },
   "source": [
    "Таким образом мы можем видеть, что нет явного превосходства одной группы зарплат над другой. Почти на каждое gross предложение есть похожее по вилке net. Тем временем, gross зарплаты не выбиваются в отдельную, более высокую по количеству денег категорию, таким образом, сэкономленные налоги не оказываются в кармане сотрудника.\n",
    "\n",
    "Построим гистограмму распределения зарплат. В качестве значения для гистограммы возьмём среднее арифметическое между двумя границами:"
   ]
  },
  {
   "cell_type": "code",
   "execution_count": 234,
   "metadata": {
    "pycharm": {
     "name": "#%%\n"
    }
   },
   "outputs": [
    {
     "data": {
      "text/plain": [
       "Text(0.5, 1.0, 'Распределение размера зарплаты, рубли')"
      ]
     },
     "execution_count": 234,
     "metadata": {},
     "output_type": "execute_result"
    },
    {
     "data": {
      "image/png": "[encoded data removed]",
      "text/plain": [
       "<Figure size 1152x576 with 1 Axes>"
      ]
     },
     "metadata": {},
     "output_type": "display_data"
    }
   ],
   "source": [
    "plt.figure(figsize=(16, 8))\n",
    "sns.set(style='whitegrid')\n",
    "\n",
    "fig = sns.histplot(\n",
    "    data=rub_salary,\n",
    "    x=0.5 * (rub_salary['salary.from'] + rub_salary['salary.to']),\n",
    "    hue='salary.gross',\n",
    "    linewidth=0,\n",
    "    bins=50,\n",
    "    palette='viridis',\n",
    "    alpha=0.6,\n",
    ")\n",
    "\n",
    "xmin = 0\n",
    "xmax = 400000\n",
    "plt.xlim((xmin, xmax))\n",
    "fig.set_xticks(np.arange(xmin, xmax, 50000))\n",
    "plt.xlabel('Зарплата', fontsize=15)\n",
    "plt.ylabel('Число вакансий', fontsize=15)\n",
    "plt.title('Распределение размера зарплаты, рубли', fontsize=15)"
   ]
  },
  {
   "cell_type": "markdown",
   "metadata": {
    "pycharm": {
     "name": "#%% md\n"
    }
   },
   "source": [
    "Мы видим, что основная масса работодателей предпочитает нанимать сотрудников за $50-250$ тысяч рублей. Данная статистика соответствует информации по зарплатам, которую я смогла найти от реальных сотрудников на сайте `https://www.glassdoor.com/`. Заметим, что тенденция для зарплаты с налогами и без одинаковая, что ещё раз подтверждает вывод, сделанный по предыдущему графику.\n",
    "\n",
    "Вычислим медианные границы:"
   ]
  },
  {
   "cell_type": "code",
   "execution_count": 235,
   "metadata": {
    "pycharm": {
     "name": "#%%\n"
    }
   },
   "outputs": [
    {
     "data": {
      "text/plain": [
       "salary.from      80000.0\n",
       "salary.to       130000.0\n",
       "salary.gross         0.0\n",
       "dtype: float64"
      ]
     },
     "execution_count": 235,
     "metadata": {},
     "output_type": "execute_result"
    }
   ],
   "source": [
    "rub_salary[rub_salary['salary.gross'] == False].median()"
   ]
  },
  {
   "cell_type": "code",
   "execution_count": 236,
   "metadata": {
    "pycharm": {
     "name": "#%%\n"
    }
   },
   "outputs": [
    {
     "data": {
      "text/plain": [
       "salary.from     100000.0\n",
       "salary.to       142500.0\n",
       "salary.gross         1.0\n",
       "dtype: float64"
      ]
     },
     "execution_count": 236,
     "metadata": {},
     "output_type": "execute_result"
    }
   ],
   "source": [
    "rub_salary[rub_salary['salary.gross'] == True].median()"
   ]
  },
  {
   "cell_type": "markdown",
   "metadata": {
    "pycharm": {
     "name": "#%% md\n"
    }
   },
   "source": [
    "Медианная зарплата:"
   ]
  },
  {
   "cell_type": "code",
   "execution_count": 26,
   "metadata": {
    "pycharm": {
     "name": "#%%\n"
    }
   },
   "outputs": [
    {
     "data": {
      "text/plain": [
       "110000.0"
      ]
     },
     "execution_count": 26,
     "metadata": {},
     "output_type": "execute_result"
    }
   ],
   "source": [
    "np.median(0.5 * (rub_salary['salary.from'] + rub_salary['salary.to']))"
   ]
  },
  {
   "cell_type": "markdown",
   "metadata": {},
   "source": [
    "**Повторим те же действия для зарплат в иностранной валюте.**\n",
    "Для удобства приведём все зарплаты к доллару:"
   ]
  },
  {
   "cell_type": "code",
   "execution_count": null,
   "metadata": {
    "pycharm": {
     "is_executing": true,
     "name": "#%%\n"
    }
   },
   "outputs": [],
   "source": [
    "usd_eur_salary = salary_info.loc[salary_info['salary.currency'] != 'RUR']\n",
    "# взято по официальному курсу\n",
    "usd_div_eur = 0.91441\n",
    "usd_eur_salary.loc[usd_eur_salary['salary.currency'] == 'EUR', ['salary.to', 'salary.from']] *= usd_div_eur\n",
    "usd_eur_salary.loc[usd_eur_salary['salary.currency'] == 'EUR', 'salary.currency'] = 'USD'"
   ]
  },
  {
   "cell_type": "markdown",
   "metadata": {
    "pycharm": {
     "name": "#%% md\n"
    }
   },
   "source": [
    "Посмотрим, как работодатели, которые платят в иностранной валюте, предпочитают указывать: net или gross."
   ]
  },
  {
   "cell_type": "code",
   "execution_count": 28,
   "metadata": {
    "pycharm": {
     "name": "#%%\n"
    }
   },
   "outputs": [
    {
     "name": "stdout",
     "output_type": "stream",
     "text": [
      "11 18\n"
     ]
    }
   ],
   "source": [
    "not_null_gross = usd_eur_salary['salary.gross'].count()\n",
    "cnt_gross = usd_eur_salary['salary.gross'].sum()\n",
    "print(cnt_gross, not_null_gross - cnt_gross)"
   ]
  },
  {
   "cell_type": "markdown",
   "metadata": {
    "pycharm": {
     "name": "#%% md\n"
    }
   },
   "source": [
    "Видим, что процент gross выше, чем в рублёвом случае. В традициях иностранных рынков указывать зарплату без налогов, что связано со сложной (прогрессивной) системой налогообложения и различными налоговыми законодательствах в географически близких странах европы."
   ]
  },
  {
   "cell_type": "code",
   "execution_count": 29,
   "metadata": {
    "pycharm": {
     "name": "#%%\n"
    }
   },
   "outputs": [
    {
     "data": {
      "image/png": "[encoded data removed]",
      "text/plain": [
       "<Figure size 1152x576 with 1 Axes>"
      ]
     },
     "metadata": {},
     "output_type": "display_data"
    }
   ],
   "source": [
    "plt.figure(figsize=(16, 8))\n",
    "sns.set(style='darkgrid')\n",
    "fig = sns.scatterplot(\n",
    "    data=usd_eur_salary,\n",
    "    x='salary.from',\n",
    "    y='salary.to',\n",
    "    s=70,\n",
    "    linewidth=0,\n",
    "    hue='salary.gross',\n",
    "    palette='viridis',\n",
    "    alpha=0.6,\n",
    ")\n",
    "\n",
    "plt.ticklabel_format(style='plain')\n",
    "plt.xlabel('Нижняя граница вилки', fontsize=15)\n",
    "plt.ylabel('Верхняя граница вилки', fontsize=15)\n",
    "plt.title('Распределение зарплат в вакансиях, доллары', fontsize=15)\n",
    "plt.legend(title='gross')\n",
    "plt.show()"
   ]
  },
  {
   "cell_type": "markdown",
   "metadata": {
    "pycharm": {
     "name": "#%% md\n"
    }
   },
   "source": [
    "Здесь мы наблюдаем, что вакансии gross находятся в среднем правее и ниже, чем группа net. Это означает, что в среднем по gross зарплата выше, но ширина вилки -- ниже, в отличие от рублёвых зарплат.\n",
    "\n",
    "Поскольку мы имеем дело с маленькой выборкой по долларовым ЗП, гистограмма не является информативной."
   ]
  },
  {
   "cell_type": "code",
   "execution_count": 30,
   "metadata": {
    "pycharm": {
     "name": "#%%\n"
    }
   },
   "outputs": [
    {
     "data": {
      "text/plain": [
       "salary.from     2500.0\n",
       "salary.to       3750.0\n",
       "salary.gross       0.0\n",
       "dtype: float64"
      ]
     },
     "execution_count": 30,
     "metadata": {},
     "output_type": "execute_result"
    }
   ],
   "source": [
    "usd_eur_salary[usd_eur_salary['salary.gross'] == False].median()"
   ]
  },
  {
   "cell_type": "code",
   "execution_count": 31,
   "metadata": {
    "pycharm": {
     "name": "#%%\n"
    }
   },
   "outputs": [
    {
     "data": {
      "text/plain": [
       "salary.from     3657.64\n",
       "salary.to       7000.00\n",
       "salary.gross       1.00\n",
       "dtype: float64"
      ]
     },
     "execution_count": 31,
     "metadata": {},
     "output_type": "execute_result"
    }
   ],
   "source": [
    "usd_eur_salary[usd_eur_salary['salary.gross'] == True].median()"
   ]
  },
  {
   "cell_type": "markdown",
   "metadata": {
    "pycharm": {
     "name": "#%% md\n"
    }
   },
   "source": [
    "Медианная зарплата:"
   ]
  },
  {
   "cell_type": "code",
   "execution_count": 32,
   "metadata": {
    "pycharm": {
     "name": "#%%\n"
    }
   },
   "outputs": [
    {
     "data": {
      "text/plain": [
       "3657.64"
      ]
     },
     "execution_count": 32,
     "metadata": {},
     "output_type": "execute_result"
    }
   ],
   "source": [
    "np.median(0.5 * (usd_eur_salary['salary.from'] + usd_eur_salary['salary.to']))"
   ]
  },
  {
   "cell_type": "markdown",
   "metadata": {
    "pycharm": {
     "name": "#%% md\n"
    }
   },
   "source": [
    "Таким образом, разброс зарплат сильнее, чем у рублёвых. Но строгие выводы делать сложно, так как в выборке представлено небольшое число USD вакансий.\n",
    "По текущему курсу медианная зарплата $3.5 - 4.0$ раза выше, чем рублёвая."
   ]
  },
  {
   "cell_type": "markdown",
   "metadata": {
    "pycharm": {
     "name": "#%% md\n"
    }
   },
   "source": [
    "**Вывод:**\n",
    "1. Таким образом, существенная часть работодателей хочет нанимать к себе людей, которые знают SQL, Python, английский язык. Важно умение работать в команде, иметь сильные аналитические навыки. Так же необходимо владеть системами контроля версий, иногда $-$ обладать управленческими навыками и уметь презентовать свои исследования.\n",
    "2. Зарплата рублёвого аналитика лежит в диапазоне $50-200k$ рублей, медианная оплата $100-115k$ в зависимости от различных скачиваний данных. Медианная зарплата в долларах составляет около $3800$$.\n",
    "  Такой разброс обеспечен тем, что при анализе зарплат не были учитаны факторы занятости, количество обязанностей на месте работы, а так же уровень аналитика, на который ищут сотрудника. Все эти пункты требовали бы более детального анализа текстового описания вакансии. Так же в выборку попали вакансии как опытных специалистов, так и на стажёров, что так же вносит вклад на разброс зарплат и ширину интервала.\n",
    "3. Зарплата без gross/net в рублях отличается меньше, чем в долларах, скорее всего, это связано с различной величиной налогов.\n",
    "4. Это не было рассмотрено выше, но можно сказать, что поиск по ключевым словам довольно-таки точен, но есть ряд особенностей, которые можно потенциально улучшить: если слово \"аналитик\" встречается в названии вакансии, то это почти всегда то, что нас интересует. Если же ключевые слова встречаются в описании, прогноз менее точен, так как часто, например, ML компании ищут себе менеджера, и в вакансии рассказывают о себе как о компании. Этот пример демонстрирует самую популярную причину нахождения ложных вакансий из тех, что я наблюдала."
   ]
  },
  {
   "cell_type": "markdown",
   "metadata": {},
   "source": [
    "#### Задача 1.2\n",
    "\n",
    "Проведите аналогичный анализ для наиболее привлекательной для вас профессии в любом регионе. Если это Data Scientist, то для анализа выберите другую.\n",
    "\n",
    "Рассмотрю профессию менеджера в городе Санкт-Петербург. Повторим аналогичные действия. Рассматриваю одно ключевое слово, так как менеджера иначе как менеджером назвать сложно :)"
   ]
  },
  {
   "cell_type": "code",
   "execution_count": 172,
   "metadata": {
    "pycharm": {
     "name": "#%%\n"
    }
   },
   "outputs": [],
   "source": [
    "URL = 'https://api.hh.ru/vacancies'\n",
    "params = dict(text=\"\\\"Менеджер\\\"\", area=1, page={}, per_page=100)\n",
    "req = requests.get(URL, params)\n",
    "m_data = json.loads(req.content.decode())"
   ]
  },
  {
   "cell_type": "code",
   "execution_count": 173,
   "metadata": {
    "pycharm": {
     "name": "#%%\n"
    }
   },
   "outputs": [],
   "source": [
    "m_pages = []\n",
    "for n in range(0, m_data['pages']):\n",
    "    params['page'] = n\n",
    "    req = requests.get(URL, params)\n",
    "    m_data = json.loads(req.content.decode())\n",
    "    m_pages.append(pd.json_normalize(m_data['items']))\n",
    "    sleep(0.5)"
   ]
  },
  {
   "cell_type": "code",
   "execution_count": 178,
   "metadata": {
    "pycharm": {
     "name": "#%%\n"
    }
   },
   "outputs": [],
   "source": [
    "m_pages_df = pd.concat(m_pages)\n",
    "\n",
    "m_pages_df.reset_index(inplace=True)\n",
    "m_pages_df.drop_duplicates(subset=['id'], inplace=True)\n",
    "m_pages_df.drop('index', axis=1, inplace=True)"
   ]
  },
  {
   "cell_type": "markdown",
   "metadata": {
    "pycharm": {
     "name": "#%% md\n"
    }
   },
   "source": [
    "**Вопрос 1.** Сколько сейчас доступно вакансий по вашему запросу?"
   ]
  },
  {
   "cell_type": "code",
   "execution_count": 179,
   "metadata": {
    "pycharm": {
     "name": "#%%\n"
    }
   },
   "outputs": [
    {
     "data": {
      "text/plain": [
       "37507"
      ]
     },
     "execution_count": 179,
     "metadata": {},
     "output_type": "execute_result"
    }
   ],
   "source": [
    "m_data['found']"
   ]
  },
  {
   "cell_type": "markdown",
   "metadata": {
    "pycharm": {
     "name": "#%% md\n"
    }
   },
   "source": [
    "**Вопрос 2.** Какие навыки чаще всего встречаются в вакансиях по данной специальности?\n",
    "\n",
    "Для этого найдите соответствующее поле в данных, проанализируйте его и составьте список навыков и количество упоминаний каждого. Визуализируйте полученную информацию по топ-15 навыков."
   ]
  },
  {
   "cell_type": "code",
   "execution_count": 186,
   "metadata": {
    "pycharm": {
     "name": "#%%\n"
    }
   },
   "outputs": [
    {
     "data": {
      "application/vnd.jupyter.widget-view+json": {
       "model_id": "873f51b421e442fdb75d0385c41ffd72",
       "version_major": 2,
       "version_minor": 0
      },
      "text/plain": [
       "  0%|          | 0/2000 [00:00<?, ?it/s]"
      ]
     },
     "metadata": {},
     "output_type": "display_data"
    }
   ],
   "source": [
    "from tqdm.notebook import tqdm\n",
    "bar = tqdm(range(0, m_pages_df.shape[0]))"
   ]
  },
  {
   "cell_type": "code",
   "execution_count": null,
   "metadata": {
    "pycharm": {
     "name": "#%%\n"
    }
   },
   "outputs": [],
   "source": [
    "m_vacancies_info= []\n",
    "m_key_skills = []\n",
    "m_exp = []\n",
    "m_employer_name = []"
   ]
  },
  {
   "cell_type": "code",
   "execution_count": 206,
   "metadata": {
    "pycharm": {
     "name": "#%%\n"
    }
   },
   "outputs": [],
   "source": [
    "for s in range(0, m_pages_df.shape[0]):\n",
    "    vacancy = m_pages_df['id'].iloc[s]\n",
    "    vacancy_url = f'https://api.hh.ru/vacancies/{vacancy}'\n",
    "    req = requests.get(vacancy_url)\n",
    "    vacancy_info = json.loads(req.content.decode())\n",
    "\n",
    "    # на случай, если сервер перестанет отдавать ответы\n",
    "    if 'errors' in vacancy_info:\n",
    "        print(\"уходи, дудосер ٩(ఠ益ఠ)۶\")\n",
    "        break\n",
    "\n",
    "    m_vacancies_info.append(vacancy_info['description'])\n",
    "    m_key_skills.append([skill['name'] for skill in vacancy_info['key_skills']])\n",
    "\n",
    "    # обрабатываем айди-имя работодателя\n",
    "    if vacancy_info['employer'] is not None \\\n",
    "            and 'name' in vacancy_info['employer']:\n",
    "        emp_name = vacancy_info['employer']['name']\n",
    "        m_employer_name.append(emp_name)\n",
    "    else:\n",
    "        m_employer_name.append(None)\n",
    "\n",
    "    # обрабатываем опыт работы\n",
    "    if vacancy_info['experience'] is not None \\\n",
    "            and 'id' in vacancy_info['experience']:\n",
    "        m_exp.append(vacancy_info['experience']['id'])\n",
    "    else:\n",
    "        m_exp.append(None)\n",
    "\n",
    "    bar.update()\n",
    "    sleep(0.5)"
   ]
  },
  {
   "cell_type": "code",
   "execution_count": 207,
   "metadata": {
    "pycharm": {
     "name": "#%%\n"
    }
   },
   "outputs": [],
   "source": [
    "target_fields = ['id', 'name', 'salary.from', 'salary.to', 'salary.currency', 'salary.gross']\n",
    "target_m = m_pages_df.loc[:, target_fields]\n",
    "target_m['vacancy_info'] = m_vacancies_info\n",
    "target_m['key_skills'] = m_key_skills"
   ]
  },
  {
   "cell_type": "markdown",
   "metadata": {
    "pycharm": {
     "name": "#%% md\n"
    }
   },
   "source": [
    "Сохраняем в таблицу:"
   ]
  },
  {
   "cell_type": "code",
   "execution_count": 216,
   "metadata": {
    "pycharm": {
     "name": "#%%\n"
    }
   },
   "outputs": [],
   "source": [
    "target_m.to_excel('manager_df.xlsx')"
   ]
  },
  {
   "cell_type": "markdown",
   "metadata": {
    "pycharm": {
     "name": "#%% md\n"
    }
   },
   "source": [
    "Рассмотрим навыки:"
   ]
  },
  {
   "cell_type": "code",
   "execution_count": 209,
   "metadata": {
    "pycharm": {
     "name": "#%%\n"
    }
   },
   "outputs": [],
   "source": [
    "m_skills_useability = {}\n",
    "# идём по каждой вакансии, считаем упоминаемость навыков\n",
    "for i in range(0, len(m_key_skills)):\n",
    "    for skill in m_key_skills[i][:]:\n",
    "        normalized_skill = skill.lower()\n",
    "        if normalized_skill in m_skills_useability:\n",
    "            m_skills_useability[normalized_skill] += 1\n",
    "        else:\n",
    "            m_skills_useability[normalized_skill] = 1"
   ]
  },
  {
   "cell_type": "code",
   "execution_count": 210,
   "metadata": {
    "pycharm": {
     "name": "#%%\n"
    }
   },
   "outputs": [
    {
     "data": {
      "text/plain": [
       "Text(0.5, 1.0, 'Анализ топ-15 навыков из резюме менеджеров')"
      ]
     },
     "execution_count": 210,
     "metadata": {},
     "output_type": "execute_result"
    },
    {
     "data": {
      "image/png": "[encoded data removed]",
      "text/plain": [
       "<Figure size 1152x288 with 1 Axes>"
      ]
     },
     "metadata": {},
     "output_type": "display_data"
    }
   ],
   "source": [
    "sk_tmp = m_skills_useability.copy()\n",
    "dict_sorted = sorted(sk_tmp.items(), key=lambda item: item[1], reverse=True)\n",
    "sorted_useability = pd.DataFrame(dict_sorted, columns=['Навык', 'Упоминаемость'])\n",
    "\n",
    "plt.figure(figsize=(16, 4))\n",
    "sns.set(style='darkgrid')\n",
    "plt.scatter(data=sorted_useability[0:15],\n",
    "            x='Навык',\n",
    "            y='Упоминаемость',\n",
    "            marker='.',\n",
    "            s=200,\n",
    "            color='crimson')\n",
    "plt.xlabel('Навык', fontsize=15)\n",
    "plt.ylabel('Упоминаемость в резюме', fontsize=15)\n",
    "plt.xticks(rotation=15, ha='right')\n",
    "plt.title('Анализ топ-15 навыков из резюме менеджеров', fontsize=15)"
   ]
  },
  {
   "cell_type": "markdown",
   "metadata": {
    "pycharm": {
     "name": "#%% md\n"
    }
   },
   "source": [
    "**Вопрос 3.** Какую зарплату готовы платить работодатели? Соберите некоторым образом статистику и постройте гистограмму.\n",
    "Оставляем необходимые поля:"
   ]
  },
  {
   "cell_type": "code",
   "execution_count": 240,
   "metadata": {
    "pycharm": {
     "name": "#%%\n"
    }
   },
   "outputs": [],
   "source": [
    "salary_fields = ['salary.from', 'salary.to', 'salary.currency', 'salary.gross']\n",
    "salary_info = target_m.loc[:, salary_fields]\n",
    "salary_info.dropna(inplace=True)"
   ]
  },
  {
   "cell_type": "markdown",
   "metadata": {
    "pycharm": {
     "name": "#%% md\n"
    }
   },
   "source": [
    "Рассмотрим число предложений с gross и net соответственно:"
   ]
  },
  {
   "cell_type": "code",
   "execution_count": 241,
   "metadata": {
    "pycharm": {
     "name": "#%%\n"
    }
   },
   "outputs": [
    {
     "name": "stdout",
     "output_type": "stream",
     "text": [
      "381 1480\n"
     ]
    }
   ],
   "source": [
    "not_null_gross = target_m['salary.gross'].count()\n",
    "cnt_gross = target_m['salary.gross'].sum()\n",
    "print(cnt_gross, not_null_gross - cnt_gross)"
   ]
  },
  {
   "cell_type": "markdown",
   "metadata": {
    "pycharm": {
     "name": "#%% md\n"
    }
   },
   "source": [
    "Таким образом, и в случае вакансий с менеджментом, работодатели предпочитают указывать зарплату net."
   ]
  },
  {
   "cell_type": "markdown",
   "metadata": {
    "pycharm": {
     "name": "#%% md\n"
    }
   },
   "source": [
    "Посмотрим график по зарплате в рублях:"
   ]
  },
  {
   "cell_type": "code",
   "execution_count": 242,
   "metadata": {
    "pycharm": {
     "name": "#%%\n"
    }
   },
   "outputs": [
    {
     "data": {
      "text/plain": [
       "<matplotlib.legend.Legend at 0x7f2b97578310>"
      ]
     },
     "execution_count": 242,
     "metadata": {},
     "output_type": "execute_result"
    },
    {
     "data": {
      "image/png": "[encoded data removed]",
      "text/plain": [
       "<Figure size 1152x576 with 1 Axes>"
      ]
     },
     "metadata": {},
     "output_type": "display_data"
    }
   ],
   "source": [
    "plt.figure(figsize=(16, 8))\n",
    "sns.set(style='darkgrid')\n",
    "rub_salary = salary_info[salary_info['salary.currency'] == 'RUR']\n",
    "fig = sns.scatterplot(\n",
    "    data=rub_salary,\n",
    "    x='salary.from',\n",
    "    y='salary.to',\n",
    "    s=70,\n",
    "    linewidth=0,\n",
    "    hue='salary.gross',\n",
    "    palette='viridis',\n",
    "    alpha=0.6,\n",
    ")\n",
    "\n",
    "plt.xlim((0, 260000))\n",
    "plt.ylim((0, 800000))\n",
    "plt.ticklabel_format(style='plain')\n",
    "plt.xlabel('Нижняя граница вилки', fontsize=15)\n",
    "plt.ylabel('Верхняя граница вилки', fontsize=15)\n",
    "plt.title('Распределение зарплат в вакансиях, рубли', fontsize=15)\n",
    "plt.legend(title='gross')"
   ]
  },
  {
   "cell_type": "markdown",
   "metadata": {
    "pycharm": {
     "name": "#%% md\n"
    }
   },
   "source": [
    "Таким образом, в отличие от зарплаты аналитика, зарплаты менеджеров указывают с бОльшей шириной вилки."
   ]
  },
  {
   "cell_type": "markdown",
   "metadata": {
    "pycharm": {
     "name": "#%% md\n"
    }
   },
   "source": []
  },
  {
   "cell_type": "code",
   "execution_count": 243,
   "metadata": {
    "pycharm": {
     "name": "#%%\n"
    }
   },
   "outputs": [
    {
     "data": {
      "text/plain": [
       "Text(0.5, 1.0, 'Распределение размера зарплаты, рубли')"
      ]
     },
     "execution_count": 243,
     "metadata": {},
     "output_type": "execute_result"
    },
    {
     "data": {
      "image/png": "[encoded data removed]",
      "text/plain": [
       "<Figure size 1152x576 with 1 Axes>"
      ]
     },
     "metadata": {},
     "output_type": "display_data"
    }
   ],
   "source": [
    "plt.figure(figsize=(16, 8))\n",
    "sns.set(style='whitegrid')\n",
    "\n",
    "fig = sns.histplot(\n",
    "    data=rub_salary,\n",
    "    x=0.5 * (rub_salary['salary.from'] + rub_salary['salary.to']),\n",
    "    hue='salary.gross',\n",
    "    linewidth=0,\n",
    "\n",
    "    palette='viridis',\n",
    "    alpha=0.6,\n",
    ")\n",
    "\n",
    "xmin = 0\n",
    "xmax = 260000\n",
    "plt.xlim((xmin, xmax))\n",
    "fig.set_xticks(np.arange(xmin, xmax, 25000))\n",
    "plt.xlabel('Зарплата', fontsize=15)\n",
    "plt.ylabel('Число вакансий', fontsize=15)\n",
    "plt.title('Распределение размера зарплаты, рубли', fontsize=15)"
   ]
  },
  {
   "cell_type": "markdown",
   "metadata": {
    "pycharm": {
     "name": "#%% md\n"
    }
   },
   "source": [
    "Интересно, что распределение зарплат в данном случае хорошо описывается нормальным распределением со смещённым центром. Возможно, это связано с тем, что мы имеем бОльшую выборку.\n",
    "\n",
    "Вычислим медианные границы:"
   ]
  },
  {
   "cell_type": "code",
   "execution_count": 244,
   "metadata": {
    "pycharm": {
     "name": "#%%\n"
    }
   },
   "outputs": [
    {
     "data": {
      "text/plain": [
       "salary.from      70000.0\n",
       "salary.to       137000.0\n",
       "salary.gross         0.0\n",
       "dtype: float64"
      ]
     },
     "execution_count": 244,
     "metadata": {},
     "output_type": "execute_result"
    }
   ],
   "source": [
    "rub_salary[rub_salary['salary.gross'] == False].median()"
   ]
  },
  {
   "cell_type": "code",
   "execution_count": 245,
   "metadata": {
    "pycharm": {
     "name": "#%%\n"
    }
   },
   "outputs": [
    {
     "data": {
      "text/plain": [
       "salary.from      60700.0\n",
       "salary.to       125000.0\n",
       "salary.gross         1.0\n",
       "dtype: float64"
      ]
     },
     "execution_count": 245,
     "metadata": {},
     "output_type": "execute_result"
    }
   ],
   "source": [
    "rub_salary[rub_salary['salary.gross'] == True].median()"
   ]
  },
  {
   "cell_type": "code",
   "execution_count": 246,
   "metadata": {
    "pycharm": {
     "name": "#%%\n"
    }
   },
   "outputs": [
    {
     "data": {
      "text/plain": [
       "100000.0"
      ]
     },
     "execution_count": 246,
     "metadata": {},
     "output_type": "execute_result"
    }
   ],
   "source": [
    "np.median(0.5 * (rub_salary['salary.from'] + rub_salary['salary.to']))"
   ]
  },
  {
   "cell_type": "markdown",
   "metadata": {
    "pycharm": {
     "name": "#%% md\n"
    }
   },
   "source": [
    "Заметим, что медианная зп менеджера отличается всего лишь на 10 тысяч рублей от медианной зарплаты аналитика."
   ]
  },
  {
   "cell_type": "markdown",
   "metadata": {
    "pycharm": {
     "name": "#%% md\n"
    }
   },
   "source": [
    "Повторим те же действия для зарплат в долларах:"
   ]
  },
  {
   "cell_type": "code",
   "execution_count": null,
   "metadata": {
    "pycharm": {
     "is_executing": true,
     "name": "#%%\n"
    }
   },
   "outputs": [],
   "source": [
    "usd_eur_salary = salary_info.loc[salary_info['salary.currency'] != 'RUR']\n",
    "# взято по официальному курсу\n",
    "usd_div_eur = 0.91441\n",
    "usd_eur_salary.loc[usd_eur_salary['salary.currency'] == 'EUR', ['salary.to', 'salary.from']] *= usd_div_eur\n",
    "usd_eur_salary.loc[usd_eur_salary['salary.currency'] == 'EUR', 'salary.currency'] = 'USD'"
   ]
  },
  {
   "cell_type": "code",
   "execution_count": 248,
   "metadata": {
    "pycharm": {
     "name": "#%%\n"
    }
   },
   "outputs": [
    {
     "name": "stdout",
     "output_type": "stream",
     "text": [
      "0 8\n"
     ]
    }
   ],
   "source": [
    "not_null_gross = usd_eur_salary['salary.gross'].count()\n",
    "cnt_gross = usd_eur_salary['salary.gross'].sum()\n",
    "print(cnt_gross, not_null_gross - cnt_gross)"
   ]
  },
  {
   "cell_type": "markdown",
   "metadata": {
    "pycharm": {
     "name": "#%% md\n"
    }
   },
   "source": [
    "Поскольку указано всего лишь 8 зарплат, построим только scatterplot. Выборка слишком мала, чтобы делать по ней какие-то выводы."
   ]
  },
  {
   "cell_type": "code",
   "execution_count": 251,
   "metadata": {
    "pycharm": {
     "name": "#%%\n"
    }
   },
   "outputs": [
    {
     "data": {
      "text/plain": [
       "salary.from     1400.0\n",
       "salary.to       3000.0\n",
       "salary.gross       0.0\n",
       "dtype: float64"
      ]
     },
     "execution_count": 251,
     "metadata": {},
     "output_type": "execute_result"
    }
   ],
   "source": [
    "usd_eur_salary[usd_eur_salary['salary.gross'] == False].median()"
   ]
  },
  {
   "cell_type": "code",
   "execution_count": 253,
   "metadata": {
    "pycharm": {
     "name": "#%%\n"
    }
   },
   "outputs": [
    {
     "data": {
      "text/plain": [
       "1975.0"
      ]
     },
     "execution_count": 253,
     "metadata": {},
     "output_type": "execute_result"
    }
   ],
   "source": [
    "np.median(0.5 * (usd_eur_salary['salary.from'] + usd_eur_salary['salary.to']))"
   ]
  },
  {
   "cell_type": "markdown",
   "metadata": {
    "pycharm": {
     "name": "#%% md\n"
    }
   },
   "source": [
    "По тем данным, что у нас есть, зарплата в долларах для менеджера не даёт такого большого денежного преимущества, как оплата в долларах для аналитика."
   ]
  },
  {
   "cell_type": "markdown",
   "metadata": {
    "pycharm": {
     "name": "#%% md\n"
    }
   },
   "source": [
    "**Вывод:**\n",
    "1. Заметим, что менеджеры более востребованы на рынке, чем аналитики, что естественно вытекает из их ролей в бизнес-процесах.\n",
    "2. Зарплаты менеджеров указываются преимущественно в рублях, в отличие от зарплат аналитиков, где можно было собрать не такую маленькую выборку.\n",
    "3. Медианная ЗП аналитика всего лишь на 10 тысяч превышает медианную оплату менеджера.\n",
    "4. На вакансию менеджеров ждут тех, кто умеет общаться с заказчиками и коллегами, работать в компанде и владеть навыками продажи."
   ]
  },
  {
   "cell_type": "markdown",
   "metadata": {},
   "source": [
    "\n",
    "---\n",
    "### <font color=\"orange\"><i>Сложная часть</i></font>\n",
    "\n",
    "### Задача 2.   \n",
    "\n",
    "Для *одной* из рассмотренных ранее профессий ответьте на следующие вопросы:  \n",
    "- Какой опыт требуется для данной вакансии?\n",
    "- Какие работодатели в топе? \n",
    "- В каком районе Москвы данная вакансия пользуется наибольшим и наименьшим спросом?\n",
    "\n",
    "Не забудьте про визуализацию, для этого используйте библиотеку plotly. В частности, постройте распределений вакансий на карте.\n",
    "\n",
    "Для построения последних двух графиков вам могут понадобиться <a target=\"_blank\" href=\"https://ru.wikipedia.org/wiki/Список_станций_Московского_метрополитена\">внешние данные</a>.\n",
    "\n",
    "**В качестве анализа выберем Data Science**\n"
   ]
  },
  {
   "cell_type": "markdown",
   "metadata": {
    "pycharm": {
     "name": "#%% md\n"
    }
   },
   "source": [
    "1. Проанализируем требуемый опыт."
   ]
  },
  {
   "cell_type": "code",
   "execution_count": null,
   "metadata": {
    "pycharm": {
     "is_executing": true,
     "name": "#%%\n"
    }
   },
   "outputs": [],
   "source": [
    "plt.figure(figsize=(10, 6))\n",
    "sns.set(style='whitegrid')\n",
    "fig = sns.countplot(x=ds_exp, color='crimson', alpha=0.8)\n",
    "plt.legend()\n",
    "fig.set_xticklabels(('От 1 до 3 лет', 'От 3 до 6 лет', 'Без опыта', 'Более 6 лет'))\n",
    "plt.xlabel('Число резюме', fontsize=15)\n",
    "plt.ylabel('Опыт работы', fontsize=15)\n",
    "plt.title('Требуемый опыт работы для Data Science', fontsize=15)"
   ]
  },
  {
   "cell_type": "markdown",
   "metadata": {
    "pycharm": {
     "name": "#%% md\n"
    }
   },
   "source": [
    "Таким образом, на рынке более востребованы Middle+, Middle и Junior специалисты."
   ]
  },
  {
   "cell_type": "markdown",
   "metadata": {
    "pycharm": {
     "name": "#%% md\n"
    }
   },
   "source": [
    "2. Проанализируем топ работодателей"
   ]
  },
  {
   "cell_type": "code",
   "execution_count": null,
   "metadata": {
    "pycharm": {
     "is_executing": true,
     "name": "#%%\n"
    }
   },
   "outputs": [],
   "source": [
    "company = {}\n",
    "for name in ds_employer_name:\n",
    "    if name in company:\n",
    "        company[name] += 1\n",
    "    else:\n",
    "        company[name] = 1\n",
    "sorted_top_empl = pd.DataFrame(sorted(company.items(), key=lambda item: item[1], reverse=True),\n",
    "                               columns=['Работодатель', 'Число вакансий'])\n",
    "# переименую, чтобы занимали меньше места\n",
    "sorted_top_empl['Работодатель'][4] = 'Центробанк'\n",
    "sorted_top_empl['Работодатель'][7] = 'Минцифры'"
   ]
  },
  {
   "cell_type": "code",
   "execution_count": 109,
   "metadata": {
    "pycharm": {
     "name": "#%%\n"
    }
   },
   "outputs": [
    {
     "data": {
      "text/plain": [
       "Text(0.5, 1.0, 'Топ-15 нанимателей по числу вакансий')"
      ]
     },
     "execution_count": 109,
     "metadata": {},
     "output_type": "execute_result"
    },
    {
     "data": {
      "image/png": "[encoded data removed]",
      "text/plain": [
       "<Figure size 1152x576 with 1 Axes>"
      ]
     },
     "metadata": {},
     "output_type": "display_data"
    }
   ],
   "source": [
    "plt.figure(figsize=(16, 8))\n",
    "sns.set(style='darkgrid')\n",
    "plt.scatter(data=sorted_top_empl[0:15],\n",
    "            x='Работодатель',\n",
    "            y='Число вакансий',\n",
    "            marker='.',\n",
    "            s=500,\n",
    "            color='crimson')\n",
    "plt.xlabel('Работодатель', fontsize=15)\n",
    "plt.ylabel('Число вакансий', fontsize=15)\n",
    "plt.xticks(rotation=15, ha='right')\n",
    "plt.title('Топ-15 нанимателей по числу вакансий', fontsize=15)"
   ]
  },
  {
   "cell_type": "markdown",
   "metadata": {
    "pycharm": {
     "name": "#%% md\n"
    }
   },
   "source": [
    "Таким образом, чаще всего аналитиков ищут IT-компании и банки."
   ]
  },
  {
   "cell_type": "markdown",
   "metadata": {
    "pycharm": {
     "name": "#%% md\n"
    }
   },
   "source": [
    "3. Изобразим на карте распределение вакансий в двух масштабах."
   ]
  },
  {
   "cell_type": "code",
   "execution_count": null,
   "metadata": {
    "pycharm": {
     "is_executing": true,
     "name": "#%%\n"
    }
   },
   "outputs": [],
   "source": [
    "import plotly.express as px\n",
    "fig = px.scatter_mapbox(lat=ds_pages_df['address.lat'],\n",
    "                        lon=ds_pages_df['address.lng'],\n",
    "                        color_discrete_sequence=[\"purple\"],\n",
    "                        zoom=11,\n",
    "                        width=1000 ,\n",
    "                        height=700,\n",
    "                        center = dict(\n",
    "                            lat = 55.753995,\n",
    "                            lon = 37.614069,\n",
    "                        ),\n",
    "                        mapbox_style=\"open-street-map\")\n",
    "fig.show()"
   ]
  },
  {
   "cell_type": "code",
   "execution_count": 13,
   "metadata": {
    "pycharm": {
     "is_executing": true,
     "name": "#%%\n"
    }
   },
   "outputs": [
    {
     "data": {
      "application/vnd.plotly.v1+json": {
       "config": {
        "plotlyServerURL": "https://plot.ly"
       },
       "data": [
        {
         "hovertemplate": "lat=%{lat}<br>lon=%{lon}<extra></extra>",
         "lat": [
          55.821573,
          55.737527,
          null,
          55.683386,
          55.751133,
          null,
          null,
          55.711108,
          55.711108,
          55.711108,
          55.747485,
          55.795287,
          55.674585,
          45.037107,
          null,
          55.633816,
          null,
          null,
          55.796931,
          55.730421,
          null,
          null,
          55.737502,
          null,
          55.727582,
          null,
          null,
          55.711483,
          null,
          null,
          null,
          55.797974,
          null,
          null,
          null,
          null,
          null,
          55.792589,
          55.776137,
          null,
          55.848402,
          null,
          null,
          55.776527,
          55.776137,
          55.766233,
          55.751133,
          55.754203,
          55.7916104316,
          55.737502,
          null,
          null,
          null,
          55.756042,
          55.711483,
          null,
          55.790367,
          55.758109,
          null,
          null,
          null,
          null,
          55.7472329566,
          55.76527,
          null,
          55.736179,
          null,
          null,
          55.767494,
          55.730963,
          55.698584,
          null,
          55.838091,
          55.769783,
          null,
          null,
          null,
          45.037107,
          55.84024,
          55.804936,
          55.836438,
          null,
          55.633816,
          null,
          55.776527,
          null,
          null,
          null,
          null,
          null,
          null,
          55.776198,
          null,
          55.738591,
          null,
          null,
          55.716798,
          55.778122,
          null,
          55.834052,
          55.778122,
          null,
          55.792194,
          null,
          55.786004,
          55.78606,
          55.744698,
          55.800726,
          null,
          55.782517,
          null,
          55.747485,
          null,
          null,
          55.753103,
          59.960134,
          null,
          55.805756,
          55.768537,
          55.695022,
          null,
          null,
          null,
          null,
          55.653136,
          null,
          null,
          null,
          55.772168,
          null,
          55.69209,
          55.841165,
          55.750535,
          55.749451,
          55.789077,
          null,
          null,
          null,
          55.79014,
          55.756148,
          null,
          null,
          null,
          55.770071,
          55.776006,
          null,
          55.748716,
          55.736214,
          55.791582,
          null,
          55.731551,
          null,
          55.796931,
          null,
          55.726223,
          55.711361,
          55.776006,
          null,
          null,
          null,
          null,
          null,
          null,
          55.757957,
          55.748265,
          null,
          null,
          55.728702,
          null,
          null,
          null,
          null,
          55.741338,
          null,
          55.84024,
          null,
          null,
          52.23209,
          55.737938,
          null,
          null,
          null,
          null,
          55.755181,
          55.792589,
          55.762297,
          55.769145,
          null,
          55.791972,
          null,
          null,
          null,
          55.634181,
          null,
          55.771591,
          55.698584,
          55.720443,
          null,
          null,
          55.792194,
          55.775094,
          null,
          55.789704,
          null,
          null,
          55.633816,
          55.755991,
          null,
          null,
          55.796931,
          55.736174,
          55.699467,
          55.791972,
          null,
          55.74975,
          null,
          55.637327,
          55.792108,
          null,
          55.771358,
          null,
          55.74975,
          55.814396,
          55.778669,
          null,
          55.771591,
          null,
          null,
          null,
          55.7423399102,
          null,
          null,
          null,
          55.698548,
          55.698548,
          55.737502,
          55.633816,
          55.66076,
          null,
          null,
          null,
          55.6844851077,
          null,
          null,
          null,
          null,
          null,
          null,
          55.731551,
          55.732007,
          55.77592,
          null,
          55.755388,
          null,
          55.731551,
          null,
          55.781626,
          null,
          55.741004,
          null,
          null,
          null,
          null,
          null,
          null,
          55.7667953125,
          55.9283,
          55.767899,
          null,
          null,
          null,
          55.729731,
          55.857503,
          null,
          null,
          null,
          null,
          55.77194,
          null,
          null,
          null,
          55.803241,
          55.846745,
          null,
          55.768025,
          55.754471,
          null,
          55.707547,
          55.788515,
          null,
          null,
          null,
          55.688116,
          null,
          null,
          null,
          null,
          null,
          null,
          55.789704,
          null,
          null,
          55.776978,
          55.758904,
          null,
          null,
          55.846745,
          null,
          null,
          55.84024,
          null,
          51.230569,
          55.81168,
          55.7751,
          null,
          null,
          55.745848,
          55.84024,
          55.84024,
          null,
          55.716022,
          null,
          55.791582,
          55.747485,
          null,
          null,
          null,
          55.788515,
          null,
          55.75052,
          55.745848,
          null,
          55.770284,
          55.678458,
          55.803241,
          null,
          null,
          null,
          null,
          null,
          55.794887,
          null,
          55.794887,
          55.789704,
          null,
          55.741242,
          55.753833,
          null,
          null,
          34.687526,
          55.763336,
          55.779064,
          52.23209,
          null,
          55.796931,
          55.76527,
          55.720905,
          null,
          55.769808,
          55.800979,
          null,
          null,
          55.866445,
          null,
          55.762004,
          55.781489,
          55.653136,
          55.718288,
          null,
          null,
          null,
          null,
          null,
          55.729275,
          55.781489,
          null,
          55.73552,
          null,
          null,
          null,
          55.695022,
          55.762004,
          55.737502,
          55.778122,
          55.84024,
          null,
          null,
          55.770284,
          55.738885,
          55.737502,
          55.817466,
          null,
          55.741242,
          55.748706,
          55.79013,
          null,
          null,
          null,
          55.797974,
          null,
          null,
          55.762004,
          null,
          null,
          55.755373,
          null,
          55.695022,
          55.84024,
          55.77314,
          55.752825,
          null,
          null,
          null,
          null,
          55.736179,
          55.742119,
          null,
          55.779064,
          null,
          null,
          55.756153,
          null,
          55.737502,
          55.788677,
          55.776796,
          null,
          53.909318,
          null,
          null,
          55.734866,
          null,
          55.695022,
          55.790965,
          55.781818,
          null,
          null,
          null,
          55.7532150137,
          null,
          55.764536,
          55.737527,
          null,
          55.744982,
          55.719597,
          null,
          55.745716,
          55.764536,
          null,
          null,
          55.745716,
          55.757744,
          null,
          null,
          55.746203,
          null,
          null,
          55.794887,
          55.807709,
          null,
          55.737502,
          null,
          null,
          55.749633,
          null,
          55.806095,
          null,
          null,
          55.7676,
          null,
          55.685706,
          55.753103,
          null,
          null,
          55.65015,
          55.743446,
          55.761969,
          55.822964,
          null,
          null,
          55.714653,
          null,
          55.747485,
          null,
          55.697742,
          55.742605,
          55.746112,
          null,
          null,
          null,
          null,
          55.737502,
          null,
          null,
          55.791486,
          55.791486,
          55.771591,
          55.737502,
          null,
          55.695022,
          55.775479,
          55.747074,
          55.695022,
          55.695027,
          55.684031,
          55.664187,
          55.729275,
          null,
          null,
          55.695022,
          55.696595,
          null,
          55.80481,
          null,
          null,
          55.791486,
          null,
          55.7421189998,
          55.703992,
          null,
          55.763569,
          55.792589,
          null,
          55.844748,
          null,
          null,
          null,
          null,
          null,
          null,
          55.745716,
          55.660744,
          55.746963,
          null,
          null,
          55.856563,
          null,
          55.850408,
          null,
          55.798293,
          null,
          null,
          null,
          55.75671,
          null,
          55.796931,
          55.810106,
          55.774087,
          null,
          null,
          55.783924,
          55.762242,
          55.772634,
          null,
          55.723749,
          55.736341,
          55.791253,
          null,
          55.769788,
          55.74751,
          null,
          null,
          null,
          null,
          null,
          null,
          55.794887,
          55.779499,
          55.695454,
          55.650145,
          55.75052,
          null,
          null,
          55.742205,
          null,
          55.787913,
          55.701029,
          null,
          55.811219,
          55.776006,
          55.804056,
          null,
          55.731242,
          null,
          null,
          55.695022,
          null,
          null,
          null,
          55.767099,
          55.789082,
          55.755991,
          null,
          55.650145,
          null,
          null,
          55.77755,
          null,
          null,
          55.798966,
          55.767412346,
          55.767412346,
          55.710124,
          55.75322,
          55.748143,
          55.695022,
          55.838091,
          55.707989,
          55.772168,
          56.023168,
          0,
          null,
          55.705858,
          55.745716,
          null,
          55.804805,
          55.767412346,
          null,
          55.633993,
          55.761122,
          55.739823,
          55.708354,
          null,
          55.814396,
          55.776077,
          55.857781,
          55.803352,
          null,
          55.698584,
          55.757779,
          null,
          55.74751,
          55.650145,
          null,
          55.7209,
          null,
          55.737101,
          55.725164,
          55.783944,
          null,
          55.8142588747,
          55.857781,
          null,
          55.77792,
          null,
          55.776234,
          null,
          null,
          55.569052,
          null,
          null,
          null,
          null,
          55.74751,
          55.74751,
          55.762004,
          55.71124,
          55.722953,
          null,
          55.841165,
          null,
          55.787644,
          55.750028,
          55.768122,
          55.840245,
          null,
          55.683508,
          55.708841,
          null,
          55.747074,
          null,
          null,
          55.746228,
          null,
          55.75826,
          null,
          55.74751,
          55.71124,
          55.676367,
          55.814264,
          null,
          55.884853,
          55.693662,
          55.8142588747,
          55.751999,
          55.643886,
          55.745848,
          55.791354,
          55.74751,
          null,
          null,
          55.7421189998,
          null,
          55.761122,
          null,
          null,
          null,
          55.771393,
          null,
          null,
          55.783423,
          55.664472,
          55.804936,
          55.779064,
          55.771327,
          55.736179,
          null,
          55.722953,
          null,
          55.800529,
          55.761153,
          null,
          null,
          55.795818,
          null,
          null,
          55.773444,
          55.773444,
          55.732433,
          55.747074,
          55.709779,
          55.737309,
          null,
          55.699345,
          55.65015,
          55.723749,
          null,
          55.789704,
          null,
          null,
          null,
          55.84024,
          55.741698,
          55.695022,
          55.734866,
          null,
          55.762242,
          55.800726,
          null,
          null,
          55.74751,
          55.752095,
          55.720814,
          null,
          55.918434,
          55.839855,
          55.70983,
          55.723202,
          null,
          55.653136,
          55.797974,
          55.786004,
          null,
          null,
          null,
          55.698584,
          null,
          55.771591,
          null,
          null,
          null,
          55.804936,
          55.795287,
          null,
          55.781818,
          55.7925871108,
          55.699345,
          null,
          55.738814,
          55.875753,
          null,
          55.785539,
          55.728241,
          55.778487,
          55.368760983,
          null,
          55.807709,
          55.778021,
          55.739732,
          55.722193,
          55.745716,
          null,
          55.765346,
          null,
          null,
          55.783686,
          55.918434,
          55.742119,
          55.695022,
          55.779064,
          55.866445,
          55.761685,
          null,
          null,
          55.757744,
          null,
          55.770284,
          55.720585,
          55.778669,
          null,
          55.737527,
          55.769312,
          55.7667953125,
          null,
          55.737502,
          55.777317,
          55.747485,
          null,
          55.809742,
          null,
          null,
          55.7108304003,
          55.732433,
          55.90088,
          55.749511,
          null,
          null,
          55.727166,
          null,
          55.745716,
          55.761122,
          null,
          0,
          null,
          null,
          55.707989,
          null,
          null,
          null,
          null,
          null,
          55.6746342605,
          null,
          55.764455,
          55.736904,
          55.712492,
          null,
          null,
          55.756842,
          55.719597,
          55.773702,
          55.77317,
          55.669747,
          55.771591,
          null,
          null,
          55.817466,
          55.74751,
          null,
          null,
          null,
          55.585026,
          null,
          null,
          55.769535,
          55.840442,
          null,
          55.836438,
          55.796273,
          null,
          null,
          55.804471,
          null,
          55.836554,
          55.750028,
          null,
          null,
          55.678458,
          null,
          55.776193,
          null,
          55.727166,
          55.800863,
          55.728297,
          55.799178,
          null,
          null,
          55.751381,
          null,
          55.785068,
          55.74361,
          55.777251,
          55.7421189998,
          55.76721,
          null,
          55.77637,
          55.825275,
          55.752217,
          55.737182,
          55.759218,
          null,
          null,
          55.74751,
          55.796223,
          null,
          null,
          null,
          null,
          55.706472,
          null,
          null,
          null,
          null,
          55.683021,
          55.763356,
          55.766121,
          null,
          null,
          null,
          55.757744,
          55.770284,
          55.796223,
          55.770284,
          55.763224,
          55.879192,
          55.804471,
          55.621074,
          55.779631,
          null,
          null,
          null,
          null,
          null,
          null,
          55.734248,
          null,
          55.722953,
          null,
          null,
          55.678418,
          55.780213,
          55.735439,
          55.660744,
          null,
          null,
          null,
          55.768122,
          null,
          null,
          55.733123,
          55.66076,
          55.777251,
          55.747115,
          55.665584,
          55.70666,
          55.785068,
          null,
          55.77317,
          55.769423,
          55.677428,
          55.677428,
          55.77317,
          55.755013,
          null,
          null,
          55.776006,
          55.77317,
          55.782309,
          55.755013,
          55.750028,
          55.747378,
          55.725595,
          55.834305,
          55.762779,
          55.749511,
          null,
          55.778461,
          null,
          null,
          null,
          55.750028,
          55.73924,
          55.728854,
          null,
          55.875784,
          55.807319,
          55.721123,
          55.736174,
          55.633816,
          55.737101,
          55.664182,
          null,
          null,
          55.862398,
          null,
          55.815858,
          55.727607,
          55.821097,
          null,
          null,
          null,
          55.818463,
          55.749633,
          null,
          55.749248,
          55.77032,
          null,
          null,
          55.77594,
          null,
          null,
          55.7361458788,
          null,
          null,
          null,
          55.748143,
          55.672961,
          null,
          null,
          null,
          55.737527,
          null,
          55.7345221349,
          null,
          null,
          null,
          55.739635,
          55.763923,
          55.723749,
          null,
          55.84024,
          null,
          null,
          null,
          null,
          55.774796,
          null,
          null,
          55.796931,
          null,
          55.768426,
          55.719601,
          55.778669,
          55.836438,
          55.737938,
          null,
          55.749511,
          55.815858,
          55.834168,
          null,
          null,
          55.708354,
          55.757779,
          null,
          null,
          null,
          55.796607,
          null,
          null,
          55.741667,
          55.74751,
          55.883499,
          55.748179,
          null,
          55.66076,
          55.653136,
          55.7867001126,
          55.734481,
          55.743066,
          null,
          55.711316,
          null,
          55.762414,
          55.795287,
          55.804789,
          null,
          55.695611,
          55.801369,
          55.71446,
          55.690106,
          null,
          55.770284,
          55.732398,
          55.761441,
          null,
          null,
          null,
          null,
          null,
          55.749451,
          null,
          null,
          55.773236,
          55.776527,
          55.766131,
          55.532604,
          55.74751,
          55.783367,
          55.74823,
          null,
          55.718654,
          null,
          null,
          55.72632,
          null,
          null,
          55.74751,
          null,
          55.736463,
          null,
          55.719601,
          null,
          55.719601,
          55.761619,
          null,
          null,
          55.695022,
          55.695022,
          55.764389,
          55.682635,
          null,
          55.710595,
          55.74751,
          55.728626,
          55.723947,
          null,
          55.77317,
          null,
          55.783554,
          55.7777154271,
          55.777778,
          55.75052,
          null,
          55.797974,
          55.742696,
          55.695027,
          55.77317,
          null,
          null,
          null,
          55.741744,
          55.751796,
          55.979133,
          55.785068,
          55.794887,
          55.770284,
          null,
          null,
          null,
          55.786004,
          55.708841,
          55.757744,
          null,
          55.698584,
          55.698011,
          null,
          55.746228,
          55.795287,
          null,
          null,
          55.612868,
          null,
          55.762242,
          null,
          null,
          null,
          55.75052,
          null,
          55.764389,
          null,
          null,
          null,
          null,
          null,
          55.921612,
          55.650145,
          55.841215,
          55.695022,
          55.796223,
          55.709967,
          55.87589,
          null,
          55.754471,
          null,
          null,
          55.73925,
          null,
          55.776527,
          null,
          null,
          55.770076,
          55.716798,
          55.73925,
          55.804471,
          55.678458,
          null,
          55.793829,
          55.723435,
          55.754471,
          55.730421,
          55.800559,
          55.653136,
          null,
          null,
          55.761254,
          55.887473,
          null,
          55.771591,
          null,
          55.633816,
          null,
          null,
          null,
          55.740654,
          null,
          55.746,
          null,
          55.754968,
          null,
          55.72236,
          55.791714,
          55.6336426413,
          null,
          55.837207,
          55.713136,
          55.792189,
          55.633973,
          null,
          null,
          null,
          55.727166,
          55.773793,
          null,
          55.857235,
          null,
          55.761791,
          55.75671,
          null,
          null,
          null,
          null,
          55.636153,
          null,
          55.633816,
          55.756503,
          null,
          55.754203,
          null,
          null,
          null,
          null,
          null,
          null,
          null,
          null,
          55.765027,
          55.785068,
          null,
          null,
          null,
          55.771211,
          55.764729,
          55.737502,
          55.76053,
          55.672925,
          null,
          55.848352,
          55.796562,
          null,
          55.74071,
          55.695022,
          null,
          55.796931,
          55.742205,
          null,
          null,
          null,
          55.728702,
          55.732433,
          null,
          55.777793,
          55.769833,
          55.736179,
          null,
          null,
          55.683386,
          null,
          55.771591,
          55.695022,
          55.840897,
          null,
          55.759218,
          55.755181,
          null,
          null,
          55.750535,
          55.704002,
          null,
          55.768972,
          59.960134,
          55.759218,
          55.755181,
          55.792194,
          55.78731,
          55.786187,
          55.784931,
          null,
          55.672488,
          null,
          55.633816,
          55.755181,
          null,
          null,
          55.729275,
          null,
          null,
          null,
          55.79942,
          55.770284,
          55.755181,
          55.695109,
          55.7499950934,
          55.5371698941,
          null,
          null,
          null,
          55.74823,
          null,
          null,
          55.765595,
          55.783904,
          55.695611,
          55.770284,
          null,
          null,
          55.765027,
          55.746791,
          55.806429,
          55.665477,
          55.761041,
          null,
          null,
          null,
          null,
          55.683787,
          55.824895,
          55.856558,
          null,
          55.759238,
          null,
          null,
          55.695022,
          null,
          null,
          55.746593,
          null,
          null,
          55.732433,
          null,
          55.789704,
          55.7003499414,
          null,
          null,
          null,
          null,
          55.80909,
          null,
          55.790934,
          55.739433,
          55.856558,
          55.655209,
          null,
          55.5773339236,
          null,
          null,
          null,
          null,
          55.757779,
          null,
          null,
          null,
          55.856558,
          null,
          55.751381,
          55.752825,
          55.717594,
          null,
          0,
          null,
          null,
          55.800726,
          55.7267,
          55.888897,
          null,
          null,
          55.703992,
          null,
          55.785518,
          55.809661,
          null,
          null,
          55.814462,
          null,
          null,
          null,
          55.789628,
          55.781737,
          55.754502,
          55.736174,
          55.76015,
          55.730852,
          null,
          55.933564,
          null,
          null,
          null,
          null,
          55.728723,
          55.728723,
          55.695022,
          null,
          55.662136,
          null,
          null,
          null,
          null,
          55.6745154516,
          55.769145,
          55.711483,
          55.754471,
          55.79013,
          55.731551,
          55.652207,
          55.687076,
          null,
          55.765711,
          55.794887,
          null,
          null,
          null,
          55.766653,
          null,
          55.76212,
          55.74751,
          55.788824,
          null,
          null,
          null,
          null,
          55.762004,
          null,
          null,
          55.799077,
          55.743684,
          55.730421,
          null,
          null,
          null,
          55.7472329566,
          55.664472,
          55.735697,
          55.685046,
          55.695022,
          55.796931,
          55.795955,
          55.744145,
          null,
          null,
          null,
          null,
          null,
          55.800443,
          null,
          null,
          55.736417,
          55.790464,
          null,
          55.787143,
          55.796931,
          55.706472,
          null,
          55.765595,
          55.870779,
          55.728145,
          null,
          55.764754,
          55.661862,
          null,
          55.695022,
          null,
          null,
          55.786004,
          null,
          null,
          null,
          55.734724,
          null,
          null,
          55.781362,
          null,
          55.695022,
          null,
          55.773631,
          null,
          55.634140348,
          null,
          55.718288,
          55.977788,
          55.741434,
          null,
          null,
          null,
          55.695027,
          null,
          null,
          55.77317,
          null,
          55.736179,
          null,
          null,
          null,
          55.785513,
          55.742119,
          null,
          null,
          55.780937,
          55.720915,
          55.736316,
          null,
          null,
          null,
          null,
          null,
          55.674585,
          null,
          null,
          null,
          55.695022,
          58.016147,
          55.808644,
          55.742119,
          null,
          55.695611,
          55.778644,
          null,
          55.848104,
          55.770173,
          55.742119,
          55.756548,
          null,
          55.748716,
          null,
          55.732205,
          55.699862,
          55.765169,
          55.72416,
          null,
          55.7587444828,
          null,
          55.796931,
          null,
          55.664472,
          55.692318,
          null,
          55.751979,
          null,
          55.863207,
          55.792134,
          55.808644,
          55.732408,
          null,
          null,
          null,
          null,
          55.789704,
          55.728702,
          55.804805,
          55.72416,
          55.698548,
          55.692318,
          null,
          55.718288,
          null,
          55.771591,
          null,
          55.692318,
          55.701633,
          55.739433,
          55.77592,
          55.695611,
          55.691958,
          null,
          null,
          null,
          null,
          null,
          55.777793,
          null,
          null,
          null,
          55.73371,
          null,
          null,
          null,
          null,
          null,
          55.720915,
          55.921405,
          55.777793,
          54.85802,
          null,
          null,
          55.777793,
          null,
          55.738591,
          null,
          null,
          null,
          null,
          null,
          null,
          null,
          null,
          null,
          55.795175,
          55.715094,
          null,
          55.741338,
          null,
          55.757779,
          55.653309,
          null,
          null,
          55.748422,
          null,
          55.731551,
          55.609329,
          null,
          null,
          54.85802,
          null,
          null,
          55.737502,
          null,
          null,
          null,
          null,
          55.764749,
          55.778461,
          null,
          55.727166,
          null,
          null,
          55.790428,
          null,
          55.861312,
          55.729731,
          55.796764,
          55.695022,
          null,
          null,
          null,
          null,
          null,
          55.74751,
          55.770568,
          55.839855,
          null,
          null,
          55.759,
          null,
          null,
          55.808761,
          null,
          55.7844101141,
          55.805528,
          null,
          null,
          null,
          55.652791,
          55.74409,
          55.725113,
          55.725113,
          null,
          55.746461,
          null,
          null,
          null,
          55.74823,
          null,
          55.582508,
          null,
          55.705894,
          0,
          null,
          55.77317,
          55.750504,
          null,
          55.970035,
          55.728986,
          null,
          null,
          55.768122,
          null,
          null,
          55.723207,
          55.711803,
          null,
          null,
          null,
          null,
          null,
          55.740988,
          55.708841,
          null,
          55.776527,
          55.672686,
          55.7421189998,
          55.757744,
          55.768659,
          55.77317,
          55.651354,
          null,
          55.815145,
          55.771591,
          null,
          55.805528,
          null,
          null,
          null,
          null,
          null,
          55.733052,
          55.771591,
          null,
          null,
          null,
          null,
          55.737451,
          55.748762,
          null,
          55.756077,
          55.738333,
          null,
          null,
          55.777793,
          null,
          null,
          null,
          null,
          55.7968,
          null,
          55.778669,
          55.721503,
          55.789704,
          55.736179,
          null,
          55.756077,
          null,
          null,
          null,
          null,
          55.735414,
          55.67292,
          55.756908,
          55.737502,
          55.766131,
          55.732154,
          null,
          55.836438,
          55.75207,
          55.772234,
          null,
          55.772168,
          null,
          null,
          null,
          null,
          null,
          55.777049,
          null,
          55.74751,
          55.745716,
          55.770284,
          55.65015,
          55.777049,
          null,
          55.744642,
          null,
          null,
          null,
          null,
          null,
          55.747277,
          55.749511,
          56.418173,
          null,
          null,
          55.730421,
          null,
          55.815782,
          null,
          55.752171,
          55.790514,
          55.72236,
          null,
          null,
          null,
          55.66404,
          55.672488,
          null,
          null,
          55.802194,
          null,
          null,
          null,
          null,
          55.70387,
          55.69209,
          55.755991,
          null,
          null,
          55.634552,
          55.764891,
          null,
          0,
          55.791582,
          null,
          55.766273,
          55.840209,
          null,
          55.771591,
          55.777793,
          null,
          null,
          55.77317,
          null,
          null,
          55.723587,
          null,
          55.788677,
          55.693505,
          null,
          null,
          null,
          55.832672,
          55.761969,
          55.767914,
          55.842221,
          55.777586,
          55.758109,
          null,
          null,
          null,
          55.664182,
          55.683793,
          null,
          55.73667,
          55.737694,
          null,
          null,
          55.782547,
          55.60101,
          55.75211,
          null,
          55.805553,
          55.754471,
          null,
          55.796607,
          55.77717,
          55.736174,
          null,
          null,
          55.752825,
          55.678418,
          null,
          null,
          55.708506,
          null,
          55.746791,
          null,
          55.7751,
          null,
          55.790494,
          55.770244,
          55.837287,
          55.746593,
          null,
          55.678544,
          null,
          55.7782926509,
          55.672686,
          null,
          null,
          null,
          55.764688,
          null,
          55.7963265708,
          null,
          null,
          55.675352,
          null,
          55.767412346,
          55.807329,
          55.749451,
          null,
          55.901929,
          55.84024,
          55.781489,
          null,
          55.683518,
          55.770071,
          55.760884,
          55.788824,
          null,
          55.683518,
          55.7421189998,
          55.754203,
          59.960134,
          55.911537,
          null,
          null,
          null,
          null,
          null,
          null,
          null,
          55.77317,
          null,
          55.74,
          null,
          55.753625,
          null,
          null,
          null,
          null,
          55.724079,
          null,
          null,
          55.786971,
          55.76996,
          55.74825,
          55.777793,
          null,
          55.8142588747,
          55.765083,
          55.839835,
          null,
          55.796607,
          55.774006,
          null,
          null,
          55.7421189998,
          55.77717,
          55.761831,
          null,
          55.772168,
          55.8571775618,
          55.76053,
          null,
          55.712315,
          55.849711,
          55.750504,
          null,
          null,
          null,
          null,
          null,
          null,
          null,
          null,
          55.762409,
          55.762409,
          55.671747,
          55.695611,
          55.775965,
          null,
          55.784808087,
          null,
          55.683787,
          55.708374,
          55.7609692634,
          null,
          null,
          55.768208,
          55.74185,
          55.733447,
          55.777793,
          55.869794,
          null,
          55.792356,
          55.750504,
          55.653309,
          null,
          null,
          null,
          55.735778,
          null,
          null,
          55.759329,
          55.650439,
          55.718288,
          55.708354,
          55.686629,
          55.691866,
          55.77594,
          null,
          55.751675,
          null,
          null,
          55.815838
         ],
         "legendgroup": "",
         "lon": [
          37.498725,
          37.505166,
          null,
          37.622863,
          37.533724,
          null,
          null,
          37.504717,
          37.504717,
          37.504717,
          37.581298,
          37.600343,
          37.503459,
          39.079913,
          null,
          37.431936,
          null,
          null,
          37.537847,
          37.634793,
          null,
          null,
          37.504789,
          null,
          37.630203,
          null,
          null,
          37.655859,
          null,
          null,
          null,
          37.529519,
          null,
          null,
          null,
          null,
          null,
          37.527588,
          37.673987,
          null,
          37.379914,
          null,
          null,
          37.679394,
          37.673987,
          37.581101,
          37.533724,
          37.556388,
          37.7072773988,
          37.504789,
          null,
          null,
          null,
          37.559523,
          37.655859,
          null,
          37.589805,
          37.555804,
          null,
          null,
          null,
          null,
          37.5365582907,
          37.596534,
          null,
          37.533194,
          null,
          null,
          37.641144,
          37.646687,
          37.624453,
          null,
          37.417167,
          37.629565,
          null,
          null,
          null,
          39.079913,
          37.492024,
          37.589922,
          37.48172,
          null,
          37.431936,
          null,
          37.679394,
          null,
          null,
          null,
          null,
          null,
          null,
          37.675604,
          null,
          37.411005,
          null,
          null,
          37.64489,
          37.626502,
          null,
          37.41087,
          37.626502,
          null,
          37.515964,
          null,
          37.639168,
          37.638871,
          37.566809,
          37.554933,
          null,
          37.58208,
          null,
          37.581307,
          null,
          null,
          37.610296,
          30.325264,
          null,
          37.58897,
          37.607951,
          37.66274,
          null,
          null,
          null,
          null,
          37.554035,
          null,
          null,
          null,
          37.648465,
          null,
          37.34762,
          37.650433,
          37.536526,
          37.542824,
          37.588808,
          null,
          null,
          null,
          37.661473,
          37.566638,
          null,
          null,
          null,
          37.622756,
          37.5531,
          null,
          37.657682,
          37.531693,
          37.705607,
          null,
          37.644261,
          null,
          37.537847,
          null,
          37.576906,
          37.652768,
          37.5531,
          null,
          null,
          null,
          null,
          null,
          null,
          37.624543,
          37.581406,
          null,
          null,
          37.63473,
          null,
          null,
          null,
          null,
          37.531127,
          null,
          37.492024,
          null,
          null,
          21.007139,
          37.571516,
          null,
          null,
          null,
          null,
          37.654529,
          37.527588,
          37.57174,
          37.643183,
          null,
          37.603235,
          null,
          null,
          null,
          37.439158,
          null,
          37.665336,
          37.624453,
          37.652831,
          null,
          null,
          37.515964,
          37.506523,
          null,
          37.558212,
          null,
          null,
          37.431936,
          37.56512,
          null,
          null,
          37.537847,
          37.533185,
          37.625594,
          37.603235,
          null,
          37.542581,
          null,
          37.597702,
          37.540748,
          null,
          37.595483,
          null,
          37.542581,
          37.385861,
          37.587964,
          null,
          37.665336,
          null,
          null,
          null,
          37.5596811964,
          null,
          null,
          null,
          37.359415,
          37.359415,
          37.504789,
          37.431936,
          37.54356,
          null,
          null,
          null,
          37.6265388541,
          null,
          null,
          null,
          null,
          null,
          null,
          37.644261,
          37.562254,
          37.617959,
          null,
          37.560664,
          null,
          37.644261,
          null,
          37.580894,
          null,
          37.609622,
          null,
          null,
          null,
          null,
          null,
          null,
          37.6002758307,
          37.518111,
          37.604125,
          null,
          null,
          null,
          37.64613,
          37.583203,
          null,
          null,
          null,
          null,
          37.675127,
          null,
          null,
          null,
          37.490865,
          37.563808,
          null,
          37.623483,
          37.648573,
          null,
          37.65116,
          37.567482,
          null,
          null,
          null,
          37.615677,
          null,
          null,
          null,
          null,
          null,
          null,
          37.558212,
          null,
          null,
          37.60752,
          37.656326,
          null,
          null,
          37.563808,
          null,
          null,
          37.492024,
          null,
          6.787428,
          37.635664,
          37.506523,
          null,
          null,
          37.599471,
          37.492024,
          37.492024,
          null,
          37.64648,
          null,
          37.705607,
          37.581298,
          null,
          null,
          null,
          37.567482,
          null,
          37.539401,
          37.599471,
          null,
          37.42006,
          37.632287,
          37.490865,
          null,
          null,
          null,
          null,
          null,
          37.712812,
          null,
          37.712812,
          37.558212,
          null,
          37.609056,
          37.662111,
          null,
          null,
          33.042165,
          37.60487,
          37.586922,
          21.007139,
          null,
          37.537847,
          37.596534,
          37.600729,
          null,
          37.596192,
          37.531765,
          null,
          null,
          37.404348,
          null,
          37.626448,
          37.572118,
          37.537973,
          37.792232,
          null,
          null,
          null,
          null,
          null,
          37.626313,
          37.572118,
          null,
          37.642474,
          null,
          null,
          null,
          37.66274,
          37.626448,
          37.504789,
          37.626502,
          37.492024,
          null,
          null,
          37.42006,
          37.612802,
          37.504789,
          37.655679,
          null,
          37.609056,
          37.580544,
          37.380354,
          null,
          null,
          null,
          37.529519,
          null,
          null,
          37.626448,
          null,
          null,
          37.56282,
          null,
          37.66274,
          37.492024,
          37.587182,
          37.610817,
          null,
          null,
          null,
          null,
          37.533194,
          37.558957,
          null,
          37.586922,
          null,
          null,
          37.63915,
          null,
          37.504789,
          37.589159,
          37.730122,
          null,
          27.596713,
          null,
          null,
          37.566189,
          null,
          37.66274,
          37.705643,
          37.59869,
          null,
          null,
          null,
          37.6337923644,
          null,
          37.579592,
          37.505166,
          null,
          37.507708,
          37.611626,
          null,
          37.663539,
          37.579592,
          null,
          null,
          37.663539,
          37.645744,
          null,
          null,
          37.722765,
          null,
          null,
          37.712812,
          37.478037,
          null,
          37.504789,
          null,
          null,
          37.537434,
          null,
          37.590785,
          null,
          null,
          37.600801,
          null,
          37.606963,
          37.610296,
          null,
          null,
          37.539626,
          37.63553,
          37.652328,
          37.625433,
          null,
          null,
          37.883581,
          null,
          37.581298,
          null,
          37.625424,
          37.599902,
          37.535502,
          null,
          null,
          null,
          null,
          37.504789,
          null,
          null,
          37.581173,
          37.581173,
          37.665336,
          37.504789,
          null,
          37.66274,
          37.698825,
          37.536589,
          37.66274,
          37.662812,
          37.342634,
          37.598672,
          37.626313,
          null,
          null,
          37.66274,
          37.790525,
          null,
          37.566243,
          null,
          null,
          37.581173,
          null,
          37.558828254,
          37.6259,
          null,
          37.569638,
          37.527588,
          null,
          37.575531,
          null,
          null,
          null,
          null,
          null,
          null,
          37.663539,
          37.612353,
          37.536356,
          null,
          null,
          37.599507,
          null,
          37.44409,
          null,
          37.604646,
          null,
          null,
          null,
          37.562533,
          null,
          37.537847,
          37.656281,
          37.62917,
          null,
          null,
          37.719675,
          37.640156,
          37.677059,
          null,
          37.654808,
          37.640641,
          37.587542,
          null,
          37.629565,
          37.534954,
          null,
          null,
          null,
          null,
          null,
          null,
          37.712812,
          37.711249,
          37.390999,
          37.539626,
          37.539401,
          null,
          null,
          37.672603,
          null,
          37.609074,
          37.625397,
          null,
          37.509748,
          37.5531,
          37.745969,
          null,
          37.561086,
          null,
          null,
          37.66274,
          null,
          null,
          null,
          37.678658,
          37.497629,
          37.56512,
          null,
          37.539626,
          null,
          null,
          37.649445,
          null,
          null,
          37.594036,
          37.6403500661,
          37.6403500661,
          37.654601,
          37.622513,
          37.540488,
          37.66274,
          37.417167,
          37.522522,
          37.648465,
          37.437137,
          0,
          null,
          37.725487,
          37.663539,
          null,
          37.515461,
          37.6403500661,
          null,
          37.442868,
          37.718947,
          37.783141,
          37.652705,
          null,
          37.385861,
          37.677203,
          37.6024,
          37.294592,
          null,
          37.624453,
          37.582619,
          null,
          37.534954,
          37.539626,
          null,
          37.651268,
          null,
          37.597199,
          37.396272,
          37.624642,
          null,
          37.386275623,
          37.6024,
          null,
          37.637668,
          null,
          37.675505,
          null,
          null,
          37.47951,
          null,
          null,
          null,
          null,
          37.534954,
          37.534954,
          37.626448,
          37.652436,
          37.665641,
          null,
          37.650433,
          null,
          37.500468,
          37.534397,
          37.627535,
          37.492024,
          null,
          37.573968,
          37.622621,
          null,
          37.536589,
          null,
          null,
          37.546093,
          null,
          37.631379,
          null,
          37.534954,
          37.652436,
          37.296937,
          37.735117,
          null,
          37.637856,
          37.349749,
          37.386275623,
          37.585143,
          37.512496,
          37.599471,
          37.483059,
          37.534954,
          null,
          null,
          37.558828254,
          null,
          37.718947,
          null,
          null,
          null,
          37.567392,
          null,
          null,
          37.707745,
          37.599238,
          37.589922,
          37.586922,
          37.595465,
          37.533194,
          null,
          37.665641,
          null,
          37.584676,
          37.520402,
          null,
          null,
          37.765839,
          null,
          null,
          37.63164,
          37.63164,
          37.534595,
          37.536589,
          37.438547,
          37.636662,
          null,
          37.359406,
          37.539626,
          37.654808,
          null,
          37.558212,
          null,
          null,
          null,
          37.492024,
          37.642402,
          37.66274,
          37.566189,
          null,
          37.640156,
          37.554933,
          null,
          null,
          37.534954,
          37.66512,
          37.600711,
          null,
          37.427147,
          37.490263,
          37.802922,
          37.653343,
          null,
          37.554035,
          37.529519,
          37.639168,
          null,
          null,
          null,
          37.624453,
          null,
          37.665336,
          null,
          null,
          null,
          37.589922,
          37.600343,
          null,
          37.59869,
          37.5275900117,
          37.359406,
          null,
          37.663135,
          37.447279,
          null,
          37.484882,
          37.586563,
          37.672379,
          38.9979630417,
          null,
          37.478037,
          37.57086,
          37.605508,
          37.630284,
          37.663539,
          null,
          37.532098,
          null,
          null,
          37.560107,
          37.427147,
          37.558957,
          37.66274,
          37.586922,
          37.404348,
          37.658527,
          null,
          null,
          37.645744,
          null,
          37.42006,
          37.609227,
          37.587964,
          null,
          37.505166,
          37.608751,
          37.6002758307,
          null,
          37.504789,
          37.586113,
          37.581298,
          null,
          37.560943,
          null,
          null,
          37.8010823829,
          37.534595,
          37.420877,
          37.537083,
          null,
          null,
          37.469871,
          null,
          37.663539,
          37.718947,
          null,
          0,
          null,
          null,
          37.599705,
          null,
          null,
          null,
          null,
          null,
          37.5033590877,
          null,
          37.561059,
          37.618695,
          37.631892,
          null,
          null,
          37.610323,
          37.611626,
          37.546004,
          37.665857,
          37.532143,
          37.665336,
          null,
          null,
          37.655679,
          37.534954,
          null,
          null,
          null,
          37.473626,
          null,
          null,
          37.628783,
          37.655526,
          null,
          37.48172,
          37.599687,
          null,
          null,
          37.590335,
          null,
          37.408489,
          37.534397,
          null,
          null,
          37.632287,
          null,
          37.55664,
          null,
          37.469871,
          37.554717,
          37.566593,
          37.604771,
          null,
          null,
          37.635314,
          null,
          37.65558,
          37.56735,
          37.586006,
          37.558828254,
          37.59339,
          null,
          37.571426,
          37.499857,
          37.595132,
          37.57254,
          37.665704,
          null,
          null,
          37.534954,
          37.59984,
          null,
          null,
          null,
          null,
          37.597001,
          null,
          null,
          null,
          null,
          37.618435,
          37.551259,
          37.582529,
          null,
          null,
          null,
          37.645744,
          37.42006,
          37.59984,
          37.42006,
          37.524839,
          37.595114,
          37.590335,
          37.473797,
          37.633464,
          null,
          null,
          null,
          null,
          null,
          null,
          37.662614,
          null,
          37.665641,
          null,
          null,
          37.632278,
          37.593075,
          37.584981,
          37.612353,
          null,
          null,
          null,
          37.627535,
          null,
          null,
          37.611751,
          37.54356,
          37.586006,
          37.539087,
          37.543704,
          37.618695,
          37.65558,
          null,
          37.665857,
          37.559371,
          37.509451,
          37.509451,
          37.665857,
          37.697639,
          null,
          null,
          37.5531,
          37.665857,
          37.600504,
          37.697639,
          37.534397,
          37.538521,
          37.449677,
          37.408534,
          37.620941,
          37.537083,
          null,
          37.585925,
          null,
          null,
          null,
          37.534397,
          37.611311,
          37.62033,
          null,
          37.44532,
          37.544764,
          37.636976,
          37.533185,
          37.431936,
          37.597199,
          37.598663,
          null,
          null,
          37.658967,
          null,
          37.527543,
          37.534047,
          37.641045,
          null,
          null,
          null,
          37.614752,
          37.537434,
          null,
          37.541027,
          37.661446,
          null,
          null,
          37.510942,
          null,
          null,
          37.5950155939,
          null,
          null,
          null,
          37.540488,
          37.630562,
          null,
          null,
          null,
          37.505166,
          null,
          37.6623097288,
          null,
          null,
          null,
          37.634434,
          37.606379,
          37.654808,
          null,
          37.492024,
          null,
          null,
          null,
          null,
          37.556316,
          null,
          null,
          37.537847,
          null,
          37.647091,
          37.609288,
          37.587964,
          37.48172,
          37.571516,
          null,
          37.537083,
          37.527543,
          37.626322,
          null,
          null,
          37.652705,
          37.582619,
          null,
          null,
          null,
          37.580032,
          null,
          null,
          37.716504,
          37.534954,
          37.434568,
          37.540245,
          null,
          37.54356,
          37.554035,
          37.6344718565,
          37.585089,
          37.638647,
          null,
          37.652777,
          null,
          37.551968,
          37.600343,
          37.642483,
          null,
          37.662371,
          37.672522,
          37.62431,
          37.569306,
          null,
          37.42006,
          37.68306,
          37.558733,
          null,
          null,
          null,
          null,
          null,
          37.542824,
          null,
          null,
          37.620474,
          37.679394,
          37.531954,
          37.578945,
          37.534954,
          37.59692,
          37.540497,
          null,
          37.689896,
          null,
          null,
          37.399399,
          null,
          null,
          37.534954,
          null,
          37.53261,
          null,
          37.609288,
          null,
          37.609288,
          37.640659,
          null,
          null,
          37.66274,
          37.66274,
          37.556137,
          37.624615,
          null,
          37.688036,
          37.534954,
          37.6448,
          37.497872,
          null,
          37.665857,
          null,
          37.632871,
          37.6025680159,
          37.607125,
          37.539401,
          null,
          37.529519,
          37.648762,
          37.662812,
          37.665857,
          null,
          null,
          null,
          37.524776,
          37.532637,
          37.26899,
          37.65558,
          37.712812,
          37.42006,
          null,
          null,
          null,
          37.639168,
          37.622612,
          37.645744,
          null,
          37.624453,
          37.625127,
          null,
          37.546093,
          37.600343,
          null,
          null,
          37.61512,
          null,
          37.640156,
          null,
          null,
          null,
          37.539401,
          null,
          37.556137,
          null,
          null,
          null,
          null,
          null,
          37.534918,
          37.539626,
          37.649579,
          37.66274,
          37.59984,
          37.625208,
          37.595025,
          null,
          37.648573,
          null,
          null,
          37.508229,
          null,
          37.679394,
          null,
          null,
          37.595079,
          37.64489,
          37.508229,
          37.590335,
          37.632287,
          null,
          37.601448,
          37.650873,
          37.648573,
          37.634793,
          37.585691,
          37.554035,
          null,
          null,
          37.60911,
          37.661527,
          null,
          37.665336,
          null,
          37.431936,
          null,
          null,
          null,
          37.609254,
          null,
          37.392437,
          null,
          37.509262,
          null,
          37.653873,
          37.54232,
          37.4320425605,
          null,
          37.452965,
          37.620222,
          37.515955,
          37.453315,
          null,
          null,
          null,
          37.469871,
          37.603577,
          null,
          37.51838,
          null,
          37.458364,
          37.562533,
          null,
          null,
          null,
          null,
          37.364185,
          null,
          37.431936,
          37.626439,
          null,
          37.556388,
          null,
          null,
          null,
          null,
          null,
          null,
          null,
          null,
          37.617276,
          37.65558,
          null,
          null,
          null,
          37.651313,
          37.571641,
          37.504789,
          37.619764,
          37.625181,
          null,
          37.544108,
          37.536922,
          null,
          37.634173,
          37.66274,
          null,
          37.537847,
          37.672603,
          null,
          null,
          null,
          37.63473,
          37.534595,
          null,
          37.585556,
          37.426492,
          37.533194,
          null,
          null,
          37.622863,
          null,
          37.665336,
          37.66274,
          37.48543,
          null,
          37.665704,
          37.654529,
          null,
          null,
          37.536526,
          37.656514,
          null,
          37.627705,
          30.325264,
          37.665704,
          37.654529,
          37.515964,
          37.634326,
          37.73694,
          37.557259,
          null,
          37.63146,
          null,
          37.431936,
          37.654529,
          null,
          null,
          37.626313,
          null,
          null,
          null,
          37.585856,
          37.42006,
          37.654529,
          37.42324,
          37.5377911032,
          37.7602081502,
          null,
          null,
          null,
          37.540497,
          null,
          null,
          37.364032,
          37.585682,
          37.662371,
          37.42006,
          null,
          null,
          37.617276,
          37.540991,
          37.705598,
          37.473303,
          37.637245,
          null,
          null,
          null,
          null,
          37.554169,
          37.38534,
          37.599498,
          null,
          37.409244,
          null,
          null,
          37.66274,
          null,
          null,
          37.537371,
          null,
          null,
          37.534595,
          null,
          37.558212,
          37.6243595351,
          null,
          null,
          null,
          null,
          37.482439,
          null,
          37.82087,
          37.623295,
          37.599498,
          37.475935,
          null,
          37.5550906905,
          null,
          null,
          null,
          null,
          37.582619,
          null,
          null,
          null,
          37.599498,
          null,
          37.635314,
          37.610817,
          37.68791,
          null,
          0,
          null,
          null,
          37.554933,
          37.576798,
          37.59515,
          null,
          null,
          37.6259,
          null,
          37.665408,
          37.598842,
          null,
          null,
          37.385412,
          null,
          null,
          null,
          37.659326,
          37.592384,
          37.642016,
          37.533185,
          37.602562,
          37.645411,
          null,
          37.514104,
          null,
          null,
          null,
          null,
          37.568596,
          37.568596,
          37.66274,
          null,
          37.547046,
          null,
          null,
          null,
          null,
          37.5032306429,
          37.643183,
          37.655859,
          37.648573,
          37.380354,
          37.644261,
          37.598384,
          37.664653,
          null,
          37.59118,
          37.712812,
          null,
          null,
          null,
          37.644091,
          null,
          37.570599,
          37.534954,
          37.590048,
          null,
          null,
          null,
          null,
          37.626448,
          null,
          null,
          37.529825,
          37.555148,
          37.634793,
          null,
          null,
          null,
          37.5365582907,
          37.599238,
          37.61371,
          37.350692,
          37.66274,
          37.537847,
          37.642572,
          37.58464,
          null,
          null,
          null,
          null,
          null,
          37.587281,
          null,
          null,
          37.475468,
          37.584712,
          null,
          37.542383,
          37.537847,
          37.597001,
          null,
          37.364032,
          37.44135,
          37.64622,
          null,
          37.561392,
          37.546561,
          null,
          37.66274,
          null,
          null,
          37.639168,
          null,
          null,
          null,
          37.622423,
          null,
          null,
          37.562074,
          null,
          37.66274,
          null,
          37.60558,
          null,
          37.4413865424,
          null,
          37.792232,
          37.372117,
          37.509173,
          null,
          null,
          null,
          37.662812,
          null,
          null,
          37.665857,
          null,
          37.533194,
          null,
          null,
          null,
          37.665408,
          37.558957,
          null,
          null,
          37.587263,
          37.650828,
          37.625612,
          null,
          null,
          null,
          null,
          null,
          37.503459,
          null,
          null,
          null,
          37.66274,
          56.233261,
          37.629403,
          37.558957,
          null,
          37.662371,
          37.674418,
          null,
          37.633868,
          37.66053,
          37.558957,
          37.595402,
          null,
          37.657682,
          null,
          37.545635,
          37.561679,
          37.525549,
          37.605499,
          null,
          37.629169876,
          null,
          37.537847,
          null,
          37.599238,
          37.347485,
          null,
          37.670905,
          null,
          37.604762,
          37.709623,
          37.629403,
          37.563305,
          null,
          null,
          null,
          null,
          37.558212,
          37.63473,
          37.566234,
          37.605499,
          37.359415,
          37.347485,
          null,
          37.792232,
          null,
          37.665336,
          null,
          37.347485,
          37.576798,
          37.623295,
          37.617968,
          37.662371,
          37.527956,
          null,
          null,
          null,
          null,
          null,
          37.585556,
          null,
          null,
          null,
          37.699094,
          null,
          null,
          null,
          null,
          null,
          37.650828,
          37.526807,
          37.585556,
          83.105662,
          null,
          null,
          37.585556,
          null,
          37.587335,
          null,
          null,
          null,
          null,
          null,
          null,
          null,
          null,
          null,
          37.725164,
          37.790309,
          null,
          37.531127,
          null,
          37.582619,
          37.537901,
          null,
          null,
          37.54188,
          null,
          37.644261,
          37.533697,
          null,
          null,
          83.105662,
          null,
          null,
          37.504789,
          null,
          null,
          null,
          null,
          37.615354,
          37.585925,
          null,
          37.469871,
          null,
          null,
          37.377291,
          null,
          37.626322,
          37.64613,
          37.599013,
          37.66274,
          null,
          null,
          null,
          null,
          null,
          37.534954,
          37.42138,
          37.490263,
          null,
          null,
          37.746256,
          null,
          null,
          37.612946,
          null,
          37.6221709098,
          37.521327,
          null,
          null,
          null,
          37.590632,
          37.663503,
          37.624112,
          37.624112,
          null,
          37.536356,
          null,
          null,
          null,
          37.540497,
          null,
          37.726071,
          null,
          37.613153,
          0,
          null,
          37.665857,
          37.653182,
          null,
          37.450872,
          37.643408,
          null,
          null,
          37.627535,
          null,
          null,
          37.561113,
          37.389158,
          null,
          null,
          null,
          null,
          null,
          37.612946,
          37.622612,
          null,
          37.679394,
          37.610583,
          37.558828254,
          37.645744,
          37.64922,
          37.665857,
          37.538431,
          null,
          37.637461,
          37.665336,
          null,
          37.521327,
          null,
          null,
          null,
          null,
          null,
          37.66495,
          37.665336,
          null,
          null,
          null,
          null,
          37.635485,
          37.538062,
          null,
          37.566018,
          37.637021,
          null,
          null,
          37.585556,
          null,
          null,
          null,
          null,
          37.549453,
          null,
          37.587964,
          37.615767,
          37.558212,
          37.533194,
          null,
          37.566018,
          null,
          null,
          null,
          null,
          37.641351,
          37.625181,
          37.566054,
          37.504789,
          37.531954,
          37.588763,
          null,
          37.499381,
          37.601367,
          37.663503,
          null,
          37.648456,
          null,
          null,
          null,
          null,
          null,
          37.622396,
          null,
          37.534954,
          37.711347,
          37.42006,
          37.540587,
          37.622396,
          null,
          37.552148,
          null,
          null,
          null,
          null,
          null,
          37.645717,
          37.537083,
          37.517581,
          null,
          null,
          37.634793,
          null,
          37.771274,
          null,
          37.532852,
          37.584829,
          37.653873,
          null,
          null,
          null,
          37.597971,
          37.63146,
          null,
          null,
          37.604529,
          null,
          null,
          null,
          null,
          37.623896,
          37.34762,
          37.56512,
          null,
          null,
          37.430983,
          37.615425,
          null,
          0,
          37.705607,
          null,
          37.67652,
          37.486616,
          null,
          37.665336,
          37.585556,
          null,
          null,
          37.665857,
          null,
          null,
          37.527256,
          null,
          37.589159,
          37.660548,
          null,
          null,
          null,
          37.483427,
          37.652328,
          37.603478,
          37.5016,
          37.737731,
          37.555804,
          null,
          null,
          null,
          37.598663,
          37.554169,
          null,
          37.625298,
          37.660718,
          null,
          null,
          37.629834,
          37.471102,
          37.641935,
          null,
          37.57121,
          37.648573,
          null,
          37.580032,
          37.607116,
          37.533185,
          null,
          null,
          37.610817,
          37.632278,
          null,
          null,
          37.602588,
          null,
          37.540991,
          null,
          37.506523,
          null,
          37.393559,
          37.647343,
          37.447917,
          37.537371,
          null,
          37.883258,
          null,
          37.5869229731,
          37.610583,
          null,
          null,
          null,
          37.623297,
          null,
          37.5811253241,
          null,
          null,
          37.580957,
          null,
          37.6403500661,
          37.544755,
          37.542824,
          null,
          37.570042,
          37.492024,
          37.572118,
          null,
          37.337505,
          37.622756,
          37.616773,
          37.590048,
          null,
          37.337505,
          37.558828254,
          37.556388,
          30.325264,
          37.542617,
          null,
          null,
          null,
          null,
          null,
          null,
          null,
          37.665857,
          null,
          37.618183,
          null,
          37.625882,
          null,
          null,
          null,
          null,
          37.504582,
          null,
          null,
          37.634362,
          37.595914,
          37.540829,
          37.585556,
          null,
          37.386275623,
          37.600028,
          37.674382,
          null,
          37.580032,
          37.596336,
          null,
          null,
          37.558828254,
          37.607116,
          37.683221,
          null,
          37.648465,
          37.6055757355,
          37.619764,
          null,
          37.654017,
          37.507592,
          37.653182,
          null,
          null,
          null,
          null,
          null,
          null,
          null,
          null,
          37.551959,
          37.551959,
          37.519737,
          37.662371,
          37.542222,
          null,
          37.67295966,
          null,
          37.554169,
          37.626915,
          37.7176425496,
          null,
          null,
          37.623393,
          37.629295,
          37.611473,
          37.585556,
          37.57691,
          null,
          37.527606,
          37.653182,
          37.537901,
          null,
          null,
          null,
          37.663961,
          null,
          null,
          37.610341,
          37.683302,
          37.792232,
          37.652705,
          37.4402,
          37.564653,
          37.510942,
          null,
          37.653873,
          null,
          null,
          37.581316
         ],
         "marker": {
          "color": "purple"
         },
         "mode": "markers",
         "name": "",
         "showlegend": false,
         "subplot": "mapbox",
         "type": "scattermapbox"
        }
       ],
       "layout": {
        "height": 700,
        "legend": {
         "tracegroupgap": 0
        },
        "mapbox": {
         "center": {
          "lat": 55.753995,
          "lon": 37.614069
         },
         "domain": {
          "x": [
           0,
           1
          ],
          "y": [
           0,
           1
          ]
         },
         "style": "open-street-map",
         "zoom": 9
        },
        "margin": {
         "t": 60
        },
        "template": {
         "data": {
          "bar": [
           {
            "error_x": {
             "color": "#2a3f5f"
            },
            "error_y": {
             "color": "#2a3f5f"
            },
            "marker": {
             "line": {
              "color": "#E5ECF6",
              "width": 0.5
             },
             "pattern": {
              "fillmode": "overlay",
              "size": 10,
              "solidity": 0.2
             }
            },
            "type": "bar"
           }
          ],
          "barpolar": [
           {
            "marker": {
             "line": {
              "color": "#E5ECF6",
              "width": 0.5
             },
             "pattern": {
              "fillmode": "overlay",
              "size": 10,
              "solidity": 0.2
             }
            },
            "type": "barpolar"
           }
          ],
          "carpet": [
           {
            "aaxis": {
             "endlinecolor": "#2a3f5f",
             "gridcolor": "white",
             "linecolor": "white",
             "minorgridcolor": "white",
             "startlinecolor": "#2a3f5f"
            },
            "baxis": {
             "endlinecolor": "#2a3f5f",
             "gridcolor": "white",
             "linecolor": "white",
             "minorgridcolor": "white",
             "startlinecolor": "#2a3f5f"
            },
            "type": "carpet"
           }
          ],
          "choropleth": [
           {
            "colorbar": {
             "outlinewidth": 0,
             "ticks": ""
            },
            "type": "choropleth"
           }
          ],
          "contour": [
           {
            "colorbar": {
             "outlinewidth": 0,
             "ticks": ""
            },
            "colorscale": [
             [
              0,
              "#0d0887"
             ],
             [
              0.1111111111111111,
              "#46039f"
             ],
             [
              0.2222222222222222,
              "#7201a8"
             ],
             [
              0.3333333333333333,
              "#9c179e"
             ],
             [
              0.4444444444444444,
              "#bd3786"
             ],
             [
              0.5555555555555556,
              "#d8576b"
             ],
             [
              0.6666666666666666,
              "#ed7953"
             ],
             [
              0.7777777777777778,
              "#fb9f3a"
             ],
             [
              0.8888888888888888,
              "#fdca26"
             ],
             [
              1,
              "#f0f921"
             ]
            ],
            "type": "contour"
           }
          ],
          "contourcarpet": [
           {
            "colorbar": {
             "outlinewidth": 0,
             "ticks": ""
            },
            "type": "contourcarpet"
           }
          ],
          "heatmap": [
           {
            "colorbar": {
             "outlinewidth": 0,
             "ticks": ""
            },
            "colorscale": [
             [
              0,
              "#0d0887"
             ],
             [
              0.1111111111111111,
              "#46039f"
             ],
             [
              0.2222222222222222,
              "#7201a8"
             ],
             [
              0.3333333333333333,
              "#9c179e"
             ],
             [
              0.4444444444444444,
              "#bd3786"
             ],
             [
              0.5555555555555556,
              "#d8576b"
             ],
             [
              0.6666666666666666,
              "#ed7953"
             ],
             [
              0.7777777777777778,
              "#fb9f3a"
             ],
             [
              0.8888888888888888,
              "#fdca26"
             ],
             [
              1,
              "#f0f921"
             ]
            ],
            "type": "heatmap"
           }
          ],
          "heatmapgl": [
           {
            "colorbar": {
             "outlinewidth": 0,
             "ticks": ""
            },
            "colorscale": [
             [
              0,
              "#0d0887"
             ],
             [
              0.1111111111111111,
              "#46039f"
             ],
             [
              0.2222222222222222,
              "#7201a8"
             ],
             [
              0.3333333333333333,
              "#9c179e"
             ],
             [
              0.4444444444444444,
              "#bd3786"
             ],
             [
              0.5555555555555556,
              "#d8576b"
             ],
             [
              0.6666666666666666,
              "#ed7953"
             ],
             [
              0.7777777777777778,
              "#fb9f3a"
             ],
             [
              0.8888888888888888,
              "#fdca26"
             ],
             [
              1,
              "#f0f921"
             ]
            ],
            "type": "heatmapgl"
           }
          ],
          "histogram": [
           {
            "marker": {
             "pattern": {
              "fillmode": "overlay",
              "size": 10,
              "solidity": 0.2
             }
            },
            "type": "histogram"
           }
          ],
          "histogram2d": [
           {
            "colorbar": {
             "outlinewidth": 0,
             "ticks": ""
            },
            "colorscale": [
             [
              0,
              "#0d0887"
             ],
             [
              0.1111111111111111,
              "#46039f"
             ],
             [
              0.2222222222222222,
              "#7201a8"
             ],
             [
              0.3333333333333333,
              "#9c179e"
             ],
             [
              0.4444444444444444,
              "#bd3786"
             ],
             [
              0.5555555555555556,
              "#d8576b"
             ],
             [
              0.6666666666666666,
              "#ed7953"
             ],
             [
              0.7777777777777778,
              "#fb9f3a"
             ],
             [
              0.8888888888888888,
              "#fdca26"
             ],
             [
              1,
              "#f0f921"
             ]
            ],
            "type": "histogram2d"
           }
          ],
          "histogram2dcontour": [
           {
            "colorbar": {
             "outlinewidth": 0,
             "ticks": ""
            },
            "colorscale": [
             [
              0,
              "#0d0887"
             ],
             [
              0.1111111111111111,
              "#46039f"
             ],
             [
              0.2222222222222222,
              "#7201a8"
             ],
             [
              0.3333333333333333,
              "#9c179e"
             ],
             [
              0.4444444444444444,
              "#bd3786"
             ],
             [
              0.5555555555555556,
              "#d8576b"
             ],
             [
              0.6666666666666666,
              "#ed7953"
             ],
             [
              0.7777777777777778,
              "#fb9f3a"
             ],
             [
              0.8888888888888888,
              "#fdca26"
             ],
             [
              1,
              "#f0f921"
             ]
            ],
            "type": "histogram2dcontour"
           }
          ],
          "mesh3d": [
           {
            "colorbar": {
             "outlinewidth": 0,
             "ticks": ""
            },
            "type": "mesh3d"
           }
          ],
          "parcoords": [
           {
            "line": {
             "colorbar": {
              "outlinewidth": 0,
              "ticks": ""
             }
            },
            "type": "parcoords"
           }
          ],
          "pie": [
           {
            "automargin": true,
            "type": "pie"
           }
          ],
          "scatter": [
           {
            "marker": {
             "colorbar": {
              "outlinewidth": 0,
              "ticks": ""
             }
            },
            "type": "scatter"
           }
          ],
          "scatter3d": [
           {
            "line": {
             "colorbar": {
              "outlinewidth": 0,
              "ticks": ""
             }
            },
            "marker": {
             "colorbar": {
              "outlinewidth": 0,
              "ticks": ""
             }
            },
            "type": "scatter3d"
           }
          ],
          "scattercarpet": [
           {
            "marker": {
             "colorbar": {
              "outlinewidth": 0,
              "ticks": ""
             }
            },
            "type": "scattercarpet"
           }
          ],
          "scattergeo": [
           {
            "marker": {
             "colorbar": {
              "outlinewidth": 0,
              "ticks": ""
             }
            },
            "type": "scattergeo"
           }
          ],
          "scattergl": [
           {
            "marker": {
             "colorbar": {
              "outlinewidth": 0,
              "ticks": ""
             }
            },
            "type": "scattergl"
           }
          ],
          "scattermapbox": [
           {
            "marker": {
             "colorbar": {
              "outlinewidth": 0,
              "ticks": ""
             }
            },
            "type": "scattermapbox"
           }
          ],
          "scatterpolar": [
           {
            "marker": {
             "colorbar": {
              "outlinewidth": 0,
              "ticks": ""
             }
            },
            "type": "scatterpolar"
           }
          ],
          "scatterpolargl": [
           {
            "marker": {
             "colorbar": {
              "outlinewidth": 0,
              "ticks": ""
             }
            },
            "type": "scatterpolargl"
           }
          ],
          "scatterternary": [
           {
            "marker": {
             "colorbar": {
              "outlinewidth": 0,
              "ticks": ""
             }
            },
            "type": "scatterternary"
           }
          ],
          "surface": [
           {
            "colorbar": {
             "outlinewidth": 0,
             "ticks": ""
            },
            "colorscale": [
             [
              0,
              "#0d0887"
             ],
             [
              0.1111111111111111,
              "#46039f"
             ],
             [
              0.2222222222222222,
              "#7201a8"
             ],
             [
              0.3333333333333333,
              "#9c179e"
             ],
             [
              0.4444444444444444,
              "#bd3786"
             ],
             [
              0.5555555555555556,
              "#d8576b"
             ],
             [
              0.6666666666666666,
              "#ed7953"
             ],
             [
              0.7777777777777778,
              "#fb9f3a"
             ],
             [
              0.8888888888888888,
              "#fdca26"
             ],
             [
              1,
              "#f0f921"
             ]
            ],
            "type": "surface"
           }
          ],
          "table": [
           {
            "cells": {
             "fill": {
              "color": "#EBF0F8"
             },
             "line": {
              "color": "white"
             }
            },
            "header": {
             "fill": {
              "color": "#C8D4E3"
             },
             "line": {
              "color": "white"
             }
            },
            "type": "table"
           }
          ]
         },
         "layout": {
          "annotationdefaults": {
           "arrowcolor": "#2a3f5f",
           "arrowhead": 0,
           "arrowwidth": 1
          },
          "autotypenumbers": "strict",
          "coloraxis": {
           "colorbar": {
            "outlinewidth": 0,
            "ticks": ""
           }
          },
          "colorscale": {
           "diverging": [
            [
             0,
             "#8e0152"
            ],
            [
             0.1,
             "#c51b7d"
            ],
            [
             0.2,
             "#de77ae"
            ],
            [
             0.3,
             "#f1b6da"
            ],
            [
             0.4,
             "#fde0ef"
            ],
            [
             0.5,
             "#f7f7f7"
            ],
            [
             0.6,
             "#e6f5d0"
            ],
            [
             0.7,
             "#b8e186"
            ],
            [
             0.8,
             "#7fbc41"
            ],
            [
             0.9,
             "#4d9221"
            ],
            [
             1,
             "#276419"
            ]
           ],
           "sequential": [
            [
             0,
             "#0d0887"
            ],
            [
             0.1111111111111111,
             "#46039f"
            ],
            [
             0.2222222222222222,
             "#7201a8"
            ],
            [
             0.3333333333333333,
             "#9c179e"
            ],
            [
             0.4444444444444444,
             "#bd3786"
            ],
            [
             0.5555555555555556,
             "#d8576b"
            ],
            [
             0.6666666666666666,
             "#ed7953"
            ],
            [
             0.7777777777777778,
             "#fb9f3a"
            ],
            [
             0.8888888888888888,
             "#fdca26"
            ],
            [
             1,
             "#f0f921"
            ]
           ],
           "sequentialminus": [
            [
             0,
             "#0d0887"
            ],
            [
             0.1111111111111111,
             "#46039f"
            ],
            [
             0.2222222222222222,
             "#7201a8"
            ],
            [
             0.3333333333333333,
             "#9c179e"
            ],
            [
             0.4444444444444444,
             "#bd3786"
            ],
            [
             0.5555555555555556,
             "#d8576b"
            ],
            [
             0.6666666666666666,
             "#ed7953"
            ],
            [
             0.7777777777777778,
             "#fb9f3a"
            ],
            [
             0.8888888888888888,
             "#fdca26"
            ],
            [
             1,
             "#f0f921"
            ]
           ]
          },
          "colorway": [
           "#636efa",
           "#EF553B",
           "#00cc96",
           "#ab63fa",
           "#FFA15A",
           "#19d3f3",
           "#FF6692",
           "#B6E880",
           "#FF97FF",
           "#FECB52"
          ],
          "font": {
           "color": "#2a3f5f"
          },
          "geo": {
           "bgcolor": "white",
           "lakecolor": "white",
           "landcolor": "#E5ECF6",
           "showlakes": true,
           "showland": true,
           "subunitcolor": "white"
          },
          "hoverlabel": {
           "align": "left"
          },
          "hovermode": "closest",
          "mapbox": {
           "style": "light"
          },
          "paper_bgcolor": "white",
          "plot_bgcolor": "#E5ECF6",
          "polar": {
           "angularaxis": {
            "gridcolor": "white",
            "linecolor": "white",
            "ticks": ""
           },
           "bgcolor": "#E5ECF6",
           "radialaxis": {
            "gridcolor": "white",
            "linecolor": "white",
            "ticks": ""
           }
          },
          "scene": {
           "xaxis": {
            "backgroundcolor": "#E5ECF6",
            "gridcolor": "white",
            "gridwidth": 2,
            "linecolor": "white",
            "showbackground": true,
            "ticks": "",
            "zerolinecolor": "white"
           },
           "yaxis": {
            "backgroundcolor": "#E5ECF6",
            "gridcolor": "white",
            "gridwidth": 2,
            "linecolor": "white",
            "showbackground": true,
            "ticks": "",
            "zerolinecolor": "white"
           },
           "zaxis": {
            "backgroundcolor": "#E5ECF6",
            "gridcolor": "white",
            "gridwidth": 2,
            "linecolor": "white",
            "showbackground": true,
            "ticks": "",
            "zerolinecolor": "white"
           }
          },
          "shapedefaults": {
           "line": {
            "color": "#2a3f5f"
           }
          },
          "ternary": {
           "aaxis": {
            "gridcolor": "white",
            "linecolor": "white",
            "ticks": ""
           },
           "baxis": {
            "gridcolor": "white",
            "linecolor": "white",
            "ticks": ""
           },
           "bgcolor": "#E5ECF6",
           "caxis": {
            "gridcolor": "white",
            "linecolor": "white",
            "ticks": ""
           }
          },
          "title": {
           "x": 0.05
          },
          "xaxis": {
           "automargin": true,
           "gridcolor": "white",
           "linecolor": "white",
           "ticks": "",
           "title": {
            "standoff": 15
           },
           "zerolinecolor": "white",
           "zerolinewidth": 2
          },
          "yaxis": {
           "automargin": true,
           "gridcolor": "white",
           "linecolor": "white",
           "ticks": "",
           "title": {
            "standoff": 15
           },
           "zerolinecolor": "white",
           "zerolinewidth": 2
          }
         }
        },
        "width": 1000
       }
      },
      "text/html": [
       "<div>                            <div id=\"03d3ad0e-e04f-4a47-bd0b-08fa14965e45\" class=\"plotly-graph-div\" style=\"height:700px; width:1000px;\"></div>            <script type=\"text/javascript\">                require([\"plotly\"], function(Plotly) {                    window.PLOTLYENV=window.PLOTLYENV || {};                                    if (document.getElementById(\"03d3ad0e-e04f-4a47-bd0b-08fa14965e45\")) {                    Plotly.newPlot(                        \"03d3ad0e-e04f-4a47-bd0b-08fa14965e45\",                        [{\"hovertemplate\":\"lat=%{lat}<br>lon=%{lon}<extra></extra>\",\"lat\":[55.821573,55.737527,null,55.683386,55.751133,null,null,55.711108,55.711108,55.711108,55.747485,55.795287,55.674585,45.037107,null,55.633816,null,null,55.796931,55.730421,null,null,55.737502,null,55.727582,null,null,55.711483,null,null,null,55.797974,null,null,null,null,null,55.792589,55.776137,null,55.848402,null,null,55.776527,55.776137,55.766233,55.751133,55.754203,55.7916104316,55.737502,null,null,null,55.756042,55.711483,null,55.790367,55.758109,null,null,null,null,55.7472329566,55.76527,null,55.736179,null,null,55.767494,55.730963,55.698584,null,55.838091,55.769783,null,null,null,45.037107,55.84024,55.804936,55.836438,null,55.633816,null,55.776527,null,null,null,null,null,null,55.776198,null,55.738591,null,null,55.716798,55.778122,null,55.834052,55.778122,null,55.792194,null,55.786004,55.78606,55.744698,55.800726,null,55.782517,null,55.747485,null,null,55.753103,59.960134,null,55.805756,55.768537,55.695022,null,null,null,null,55.653136,null,null,null,55.772168,null,55.69209,55.841165,55.750535,55.749451,55.789077,null,null,null,55.79014,55.756148,null,null,null,55.770071,55.776006,null,55.748716,55.736214,55.791582,null,55.731551,null,55.796931,null,55.726223,55.711361,55.776006,null,null,null,null,null,null,55.757957,55.748265,null,null,55.728702,null,null,null,null,55.741338,null,55.84024,null,null,52.23209,55.737938,null,null,null,null,55.755181,55.792589,55.762297,55.769145,null,55.791972,null,null,null,55.634181,null,55.771591,55.698584,55.720443,null,null,55.792194,55.775094,null,55.789704,null,null,55.633816,55.755991,null,null,55.796931,55.736174,55.699467,55.791972,null,55.74975,null,55.637327,55.792108,null,55.771358,null,55.74975,55.814396,55.778669,null,55.771591,null,null,null,55.7423399102,null,null,null,55.698548,55.698548,55.737502,55.633816,55.66076,null,null,null,55.6844851077,null,null,null,null,null,null,55.731551,55.732007,55.77592,null,55.755388,null,55.731551,null,55.781626,null,55.741004,null,null,null,null,null,null,55.7667953125,55.9283,55.767899,null,null,null,55.729731,55.857503,null,null,null,null,55.77194,null,null,null,55.803241,55.846745,null,55.768025,55.754471,null,55.707547,55.788515,null,null,null,55.688116,null,null,null,null,null,null,55.789704,null,null,55.776978,55.758904,null,null,55.846745,null,null,55.84024,null,51.230569,55.81168,55.7751,null,null,55.745848,55.84024,55.84024,null,55.716022,null,55.791582,55.747485,null,null,null,55.788515,null,55.75052,55.745848,null,55.770284,55.678458,55.803241,null,null,null,null,null,55.794887,null,55.794887,55.789704,null,55.741242,55.753833,null,null,34.687526,55.763336,55.779064,52.23209,null,55.796931,55.76527,55.720905,null,55.769808,55.800979,null,null,55.866445,null,55.762004,55.781489,55.653136,55.718288,null,null,null,null,null,55.729275,55.781489,null,55.73552,null,null,null,55.695022,55.762004,55.737502,55.778122,55.84024,null,null,55.770284,55.738885,55.737502,55.817466,null,55.741242,55.748706,55.79013,null,null,null,55.797974,null,null,55.762004,null,null,55.755373,null,55.695022,55.84024,55.77314,55.752825,null,null,null,null,55.736179,55.742119,null,55.779064,null,null,55.756153,null,55.737502,55.788677,55.776796,null,53.909318,null,null,55.734866,null,55.695022,55.790965,55.781818,null,null,null,55.7532150137,null,55.764536,55.737527,null,55.744982,55.719597,null,55.745716,55.764536,null,null,55.745716,55.757744,null,null,55.746203,null,null,55.794887,55.807709,null,55.737502,null,null,55.749633,null,55.806095,null,null,55.7676,null,55.685706,55.753103,null,null,55.65015,55.743446,55.761969,55.822964,null,null,55.714653,null,55.747485,null,55.697742,55.742605,55.746112,null,null,null,null,55.737502,null,null,55.791486,55.791486,55.771591,55.737502,null,55.695022,55.775479,55.747074,55.695022,55.695027,55.684031,55.664187,55.729275,null,null,55.695022,55.696595,null,55.80481,null,null,55.791486,null,55.7421189998,55.703992,null,55.763569,55.792589,null,55.844748,null,null,null,null,null,null,55.745716,55.660744,55.746963,null,null,55.856563,null,55.850408,null,55.798293,null,null,null,55.75671,null,55.796931,55.810106,55.774087,null,null,55.783924,55.762242,55.772634,null,55.723749,55.736341,55.791253,null,55.769788,55.74751,null,null,null,null,null,null,55.794887,55.779499,55.695454,55.650145,55.75052,null,null,55.742205,null,55.787913,55.701029,null,55.811219,55.776006,55.804056,null,55.731242,null,null,55.695022,null,null,null,55.767099,55.789082,55.755991,null,55.650145,null,null,55.77755,null,null,55.798966,55.767412346,55.767412346,55.710124,55.75322,55.748143,55.695022,55.838091,55.707989,55.772168,56.023168,0.0,null,55.705858,55.745716,null,55.804805,55.767412346,null,55.633993,55.761122,55.739823,55.708354,null,55.814396,55.776077,55.857781,55.803352,null,55.698584,55.757779,null,55.74751,55.650145,null,55.7209,null,55.737101,55.725164,55.783944,null,55.8142588747,55.857781,null,55.77792,null,55.776234,null,null,55.569052,null,null,null,null,55.74751,55.74751,55.762004,55.71124,55.722953,null,55.841165,null,55.787644,55.750028,55.768122,55.840245,null,55.683508,55.708841,null,55.747074,null,null,55.746228,null,55.75826,null,55.74751,55.71124,55.676367,55.814264,null,55.884853,55.693662,55.8142588747,55.751999,55.643886,55.745848,55.791354,55.74751,null,null,55.7421189998,null,55.761122,null,null,null,55.771393,null,null,55.783423,55.664472,55.804936,55.779064,55.771327,55.736179,null,55.722953,null,55.800529,55.761153,null,null,55.795818,null,null,55.773444,55.773444,55.732433,55.747074,55.709779,55.737309,null,55.699345,55.65015,55.723749,null,55.789704,null,null,null,55.84024,55.741698,55.695022,55.734866,null,55.762242,55.800726,null,null,55.74751,55.752095,55.720814,null,55.918434,55.839855,55.70983,55.723202,null,55.653136,55.797974,55.786004,null,null,null,55.698584,null,55.771591,null,null,null,55.804936,55.795287,null,55.781818,55.7925871108,55.699345,null,55.738814,55.875753,null,55.785539,55.728241,55.778487,55.368760983,null,55.807709,55.778021,55.739732,55.722193,55.745716,null,55.765346,null,null,55.783686,55.918434,55.742119,55.695022,55.779064,55.866445,55.761685,null,null,55.757744,null,55.770284,55.720585,55.778669,null,55.737527,55.769312,55.7667953125,null,55.737502,55.777317,55.747485,null,55.809742,null,null,55.7108304003,55.732433,55.90088,55.749511,null,null,55.727166,null,55.745716,55.761122,null,0.0,null,null,55.707989,null,null,null,null,null,55.6746342605,null,55.764455,55.736904,55.712492,null,null,55.756842,55.719597,55.773702,55.77317,55.669747,55.771591,null,null,55.817466,55.74751,null,null,null,55.585026,null,null,55.769535,55.840442,null,55.836438,55.796273,null,null,55.804471,null,55.836554,55.750028,null,null,55.678458,null,55.776193,null,55.727166,55.800863,55.728297,55.799178,null,null,55.751381,null,55.785068,55.74361,55.777251,55.7421189998,55.76721,null,55.77637,55.825275,55.752217,55.737182,55.759218,null,null,55.74751,55.796223,null,null,null,null,55.706472,null,null,null,null,55.683021,55.763356,55.766121,null,null,null,55.757744,55.770284,55.796223,55.770284,55.763224,55.879192,55.804471,55.621074,55.779631,null,null,null,null,null,null,55.734248,null,55.722953,null,null,55.678418,55.780213,55.735439,55.660744,null,null,null,55.768122,null,null,55.733123,55.66076,55.777251,55.747115,55.665584,55.70666,55.785068,null,55.77317,55.769423,55.677428,55.677428,55.77317,55.755013,null,null,55.776006,55.77317,55.782309,55.755013,55.750028,55.747378,55.725595,55.834305,55.762779,55.749511,null,55.778461,null,null,null,55.750028,55.73924,55.728854,null,55.875784,55.807319,55.721123,55.736174,55.633816,55.737101,55.664182,null,null,55.862398,null,55.815858,55.727607,55.821097,null,null,null,55.818463,55.749633,null,55.749248,55.77032,null,null,55.77594,null,null,55.7361458788,null,null,null,55.748143,55.672961,null,null,null,55.737527,null,55.7345221349,null,null,null,55.739635,55.763923,55.723749,null,55.84024,null,null,null,null,55.774796,null,null,55.796931,null,55.768426,55.719601,55.778669,55.836438,55.737938,null,55.749511,55.815858,55.834168,null,null,55.708354,55.757779,null,null,null,55.796607,null,null,55.741667,55.74751,55.883499,55.748179,null,55.66076,55.653136,55.7867001126,55.734481,55.743066,null,55.711316,null,55.762414,55.795287,55.804789,null,55.695611,55.801369,55.71446,55.690106,null,55.770284,55.732398,55.761441,null,null,null,null,null,55.749451,null,null,55.773236,55.776527,55.766131,55.532604,55.74751,55.783367,55.74823,null,55.718654,null,null,55.72632,null,null,55.74751,null,55.736463,null,55.719601,null,55.719601,55.761619,null,null,55.695022,55.695022,55.764389,55.682635,null,55.710595,55.74751,55.728626,55.723947,null,55.77317,null,55.783554,55.7777154271,55.777778,55.75052,null,55.797974,55.742696,55.695027,55.77317,null,null,null,55.741744,55.751796,55.979133,55.785068,55.794887,55.770284,null,null,null,55.786004,55.708841,55.757744,null,55.698584,55.698011,null,55.746228,55.795287,null,null,55.612868,null,55.762242,null,null,null,55.75052,null,55.764389,null,null,null,null,null,55.921612,55.650145,55.841215,55.695022,55.796223,55.709967,55.87589,null,55.754471,null,null,55.73925,null,55.776527,null,null,55.770076,55.716798,55.73925,55.804471,55.678458,null,55.793829,55.723435,55.754471,55.730421,55.800559,55.653136,null,null,55.761254,55.887473,null,55.771591,null,55.633816,null,null,null,55.740654,null,55.746,null,55.754968,null,55.72236,55.791714,55.6336426413,null,55.837207,55.713136,55.792189,55.633973,null,null,null,55.727166,55.773793,null,55.857235,null,55.761791,55.75671,null,null,null,null,55.636153,null,55.633816,55.756503,null,55.754203,null,null,null,null,null,null,null,null,55.765027,55.785068,null,null,null,55.771211,55.764729,55.737502,55.76053,55.672925,null,55.848352,55.796562,null,55.74071,55.695022,null,55.796931,55.742205,null,null,null,55.728702,55.732433,null,55.777793,55.769833,55.736179,null,null,55.683386,null,55.771591,55.695022,55.840897,null,55.759218,55.755181,null,null,55.750535,55.704002,null,55.768972,59.960134,55.759218,55.755181,55.792194,55.78731,55.786187,55.784931,null,55.672488,null,55.633816,55.755181,null,null,55.729275,null,null,null,55.79942,55.770284,55.755181,55.695109,55.7499950934,55.5371698941,null,null,null,55.74823,null,null,55.765595,55.783904,55.695611,55.770284,null,null,55.765027,55.746791,55.806429,55.665477,55.761041,null,null,null,null,55.683787,55.824895,55.856558,null,55.759238,null,null,55.695022,null,null,55.746593,null,null,55.732433,null,55.789704,55.7003499414,null,null,null,null,55.80909,null,55.790934,55.739433,55.856558,55.655209,null,55.5773339236,null,null,null,null,55.757779,null,null,null,55.856558,null,55.751381,55.752825,55.717594,null,0.0,null,null,55.800726,55.7267,55.888897,null,null,55.703992,null,55.785518,55.809661,null,null,55.814462,null,null,null,55.789628,55.781737,55.754502,55.736174,55.76015,55.730852,null,55.933564,null,null,null,null,55.728723,55.728723,55.695022,null,55.662136,null,null,null,null,55.6745154516,55.769145,55.711483,55.754471,55.79013,55.731551,55.652207,55.687076,null,55.765711,55.794887,null,null,null,55.766653,null,55.76212,55.74751,55.788824,null,null,null,null,55.762004,null,null,55.799077,55.743684,55.730421,null,null,null,55.7472329566,55.664472,55.735697,55.685046,55.695022,55.796931,55.795955,55.744145,null,null,null,null,null,55.800443,null,null,55.736417,55.790464,null,55.787143,55.796931,55.706472,null,55.765595,55.870779,55.728145,null,55.764754,55.661862,null,55.695022,null,null,55.786004,null,null,null,55.734724,null,null,55.781362,null,55.695022,null,55.773631,null,55.634140348,null,55.718288,55.977788,55.741434,null,null,null,55.695027,null,null,55.77317,null,55.736179,null,null,null,55.785513,55.742119,null,null,55.780937,55.720915,55.736316,null,null,null,null,null,55.674585,null,null,null,55.695022,58.016147,55.808644,55.742119,null,55.695611,55.778644,null,55.848104,55.770173,55.742119,55.756548,null,55.748716,null,55.732205,55.699862,55.765169,55.72416,null,55.7587444828,null,55.796931,null,55.664472,55.692318,null,55.751979,null,55.863207,55.792134,55.808644,55.732408,null,null,null,null,55.789704,55.728702,55.804805,55.72416,55.698548,55.692318,null,55.718288,null,55.771591,null,55.692318,55.701633,55.739433,55.77592,55.695611,55.691958,null,null,null,null,null,55.777793,null,null,null,55.73371,null,null,null,null,null,55.720915,55.921405,55.777793,54.85802,null,null,55.777793,null,55.738591,null,null,null,null,null,null,null,null,null,55.795175,55.715094,null,55.741338,null,55.757779,55.653309,null,null,55.748422,null,55.731551,55.609329,null,null,54.85802,null,null,55.737502,null,null,null,null,55.764749,55.778461,null,55.727166,null,null,55.790428,null,55.861312,55.729731,55.796764,55.695022,null,null,null,null,null,55.74751,55.770568,55.839855,null,null,55.759,null,null,55.808761,null,55.7844101141,55.805528,null,null,null,55.652791,55.74409,55.725113,55.725113,null,55.746461,null,null,null,55.74823,null,55.582508,null,55.705894,0.0,null,55.77317,55.750504,null,55.970035,55.728986,null,null,55.768122,null,null,55.723207,55.711803,null,null,null,null,null,55.740988,55.708841,null,55.776527,55.672686,55.7421189998,55.757744,55.768659,55.77317,55.651354,null,55.815145,55.771591,null,55.805528,null,null,null,null,null,55.733052,55.771591,null,null,null,null,55.737451,55.748762,null,55.756077,55.738333,null,null,55.777793,null,null,null,null,55.7968,null,55.778669,55.721503,55.789704,55.736179,null,55.756077,null,null,null,null,55.735414,55.67292,55.756908,55.737502,55.766131,55.732154,null,55.836438,55.75207,55.772234,null,55.772168,null,null,null,null,null,55.777049,null,55.74751,55.745716,55.770284,55.65015,55.777049,null,55.744642,null,null,null,null,null,55.747277,55.749511,56.418173,null,null,55.730421,null,55.815782,null,55.752171,55.790514,55.72236,null,null,null,55.66404,55.672488,null,null,55.802194,null,null,null,null,55.70387,55.69209,55.755991,null,null,55.634552,55.764891,null,0.0,55.791582,null,55.766273,55.840209,null,55.771591,55.777793,null,null,55.77317,null,null,55.723587,null,55.788677,55.693505,null,null,null,55.832672,55.761969,55.767914,55.842221,55.777586,55.758109,null,null,null,55.664182,55.683793,null,55.73667,55.737694,null,null,55.782547,55.60101,55.75211,null,55.805553,55.754471,null,55.796607,55.77717,55.736174,null,null,55.752825,55.678418,null,null,55.708506,null,55.746791,null,55.7751,null,55.790494,55.770244,55.837287,55.746593,null,55.678544,null,55.7782926509,55.672686,null,null,null,55.764688,null,55.7963265708,null,null,55.675352,null,55.767412346,55.807329,55.749451,null,55.901929,55.84024,55.781489,null,55.683518,55.770071,55.760884,55.788824,null,55.683518,55.7421189998,55.754203,59.960134,55.911537,null,null,null,null,null,null,null,55.77317,null,55.74,null,55.753625,null,null,null,null,55.724079,null,null,55.786971,55.76996,55.74825,55.777793,null,55.8142588747,55.765083,55.839835,null,55.796607,55.774006,null,null,55.7421189998,55.77717,55.761831,null,55.772168,55.8571775618,55.76053,null,55.712315,55.849711,55.750504,null,null,null,null,null,null,null,null,55.762409,55.762409,55.671747,55.695611,55.775965,null,55.784808087,null,55.683787,55.708374,55.7609692634,null,null,55.768208,55.74185,55.733447,55.777793,55.869794,null,55.792356,55.750504,55.653309,null,null,null,55.735778,null,null,55.759329,55.650439,55.718288,55.708354,55.686629,55.691866,55.77594,null,55.751675,null,null,55.815838],\"legendgroup\":\"\",\"lon\":[37.498725,37.505166,null,37.622863,37.533724,null,null,37.504717,37.504717,37.504717,37.581298,37.600343,37.503459,39.079913,null,37.431936,null,null,37.537847,37.634793,null,null,37.504789,null,37.630203,null,null,37.655859,null,null,null,37.529519,null,null,null,null,null,37.527588,37.673987,null,37.379914,null,null,37.679394,37.673987,37.581101,37.533724,37.556388,37.7072773988,37.504789,null,null,null,37.559523,37.655859,null,37.589805,37.555804,null,null,null,null,37.5365582907,37.596534,null,37.533194,null,null,37.641144,37.646687,37.624453,null,37.417167,37.629565,null,null,null,39.079913,37.492024,37.589922,37.48172,null,37.431936,null,37.679394,null,null,null,null,null,null,37.675604,null,37.411005,null,null,37.64489,37.626502,null,37.41087,37.626502,null,37.515964,null,37.639168,37.638871,37.566809,37.554933,null,37.58208,null,37.581307,null,null,37.610296,30.325264,null,37.58897,37.607951,37.66274,null,null,null,null,37.554035,null,null,null,37.648465,null,37.34762,37.650433,37.536526,37.542824,37.588808,null,null,null,37.661473,37.566638,null,null,null,37.622756,37.5531,null,37.657682,37.531693,37.705607,null,37.644261,null,37.537847,null,37.576906,37.652768,37.5531,null,null,null,null,null,null,37.624543,37.581406,null,null,37.63473,null,null,null,null,37.531127,null,37.492024,null,null,21.007139,37.571516,null,null,null,null,37.654529,37.527588,37.57174,37.643183,null,37.603235,null,null,null,37.439158,null,37.665336,37.624453,37.652831,null,null,37.515964,37.506523,null,37.558212,null,null,37.431936,37.56512,null,null,37.537847,37.533185,37.625594,37.603235,null,37.542581,null,37.597702,37.540748,null,37.595483,null,37.542581,37.385861,37.587964,null,37.665336,null,null,null,37.5596811964,null,null,null,37.359415,37.359415,37.504789,37.431936,37.54356,null,null,null,37.6265388541,null,null,null,null,null,null,37.644261,37.562254,37.617959,null,37.560664,null,37.644261,null,37.580894,null,37.609622,null,null,null,null,null,null,37.6002758307,37.518111,37.604125,null,null,null,37.64613,37.583203,null,null,null,null,37.675127,null,null,null,37.490865,37.563808,null,37.623483,37.648573,null,37.65116,37.567482,null,null,null,37.615677,null,null,null,null,null,null,37.558212,null,null,37.60752,37.656326,null,null,37.563808,null,null,37.492024,null,6.787428,37.635664,37.506523,null,null,37.599471,37.492024,37.492024,null,37.64648,null,37.705607,37.581298,null,null,null,37.567482,null,37.539401,37.599471,null,37.42006,37.632287,37.490865,null,null,null,null,null,37.712812,null,37.712812,37.558212,null,37.609056,37.662111,null,null,33.042165,37.60487,37.586922,21.007139,null,37.537847,37.596534,37.600729,null,37.596192,37.531765,null,null,37.404348,null,37.626448,37.572118,37.537973,37.792232,null,null,null,null,null,37.626313,37.572118,null,37.642474,null,null,null,37.66274,37.626448,37.504789,37.626502,37.492024,null,null,37.42006,37.612802,37.504789,37.655679,null,37.609056,37.580544,37.380354,null,null,null,37.529519,null,null,37.626448,null,null,37.56282,null,37.66274,37.492024,37.587182,37.610817,null,null,null,null,37.533194,37.558957,null,37.586922,null,null,37.63915,null,37.504789,37.589159,37.730122,null,27.596713,null,null,37.566189,null,37.66274,37.705643,37.59869,null,null,null,37.6337923644,null,37.579592,37.505166,null,37.507708,37.611626,null,37.663539,37.579592,null,null,37.663539,37.645744,null,null,37.722765,null,null,37.712812,37.478037,null,37.504789,null,null,37.537434,null,37.590785,null,null,37.600801,null,37.606963,37.610296,null,null,37.539626,37.63553,37.652328,37.625433,null,null,37.883581,null,37.581298,null,37.625424,37.599902,37.535502,null,null,null,null,37.504789,null,null,37.581173,37.581173,37.665336,37.504789,null,37.66274,37.698825,37.536589,37.66274,37.662812,37.342634,37.598672,37.626313,null,null,37.66274,37.790525,null,37.566243,null,null,37.581173,null,37.558828254,37.6259,null,37.569638,37.527588,null,37.575531,null,null,null,null,null,null,37.663539,37.612353,37.536356,null,null,37.599507,null,37.44409,null,37.604646,null,null,null,37.562533,null,37.537847,37.656281,37.62917,null,null,37.719675,37.640156,37.677059,null,37.654808,37.640641,37.587542,null,37.629565,37.534954,null,null,null,null,null,null,37.712812,37.711249,37.390999,37.539626,37.539401,null,null,37.672603,null,37.609074,37.625397,null,37.509748,37.5531,37.745969,null,37.561086,null,null,37.66274,null,null,null,37.678658,37.497629,37.56512,null,37.539626,null,null,37.649445,null,null,37.594036,37.6403500661,37.6403500661,37.654601,37.622513,37.540488,37.66274,37.417167,37.522522,37.648465,37.437137,0.0,null,37.725487,37.663539,null,37.515461,37.6403500661,null,37.442868,37.718947,37.783141,37.652705,null,37.385861,37.677203,37.6024,37.294592,null,37.624453,37.582619,null,37.534954,37.539626,null,37.651268,null,37.597199,37.396272,37.624642,null,37.386275623,37.6024,null,37.637668,null,37.675505,null,null,37.47951,null,null,null,null,37.534954,37.534954,37.626448,37.652436,37.665641,null,37.650433,null,37.500468,37.534397,37.627535,37.492024,null,37.573968,37.622621,null,37.536589,null,null,37.546093,null,37.631379,null,37.534954,37.652436,37.296937,37.735117,null,37.637856,37.349749,37.386275623,37.585143,37.512496,37.599471,37.483059,37.534954,null,null,37.558828254,null,37.718947,null,null,null,37.567392,null,null,37.707745,37.599238,37.589922,37.586922,37.595465,37.533194,null,37.665641,null,37.584676,37.520402,null,null,37.765839,null,null,37.63164,37.63164,37.534595,37.536589,37.438547,37.636662,null,37.359406,37.539626,37.654808,null,37.558212,null,null,null,37.492024,37.642402,37.66274,37.566189,null,37.640156,37.554933,null,null,37.534954,37.66512,37.600711,null,37.427147,37.490263,37.802922,37.653343,null,37.554035,37.529519,37.639168,null,null,null,37.624453,null,37.665336,null,null,null,37.589922,37.600343,null,37.59869,37.5275900117,37.359406,null,37.663135,37.447279,null,37.484882,37.586563,37.672379,38.9979630417,null,37.478037,37.57086,37.605508,37.630284,37.663539,null,37.532098,null,null,37.560107,37.427147,37.558957,37.66274,37.586922,37.404348,37.658527,null,null,37.645744,null,37.42006,37.609227,37.587964,null,37.505166,37.608751,37.6002758307,null,37.504789,37.586113,37.581298,null,37.560943,null,null,37.8010823829,37.534595,37.420877,37.537083,null,null,37.469871,null,37.663539,37.718947,null,0.0,null,null,37.599705,null,null,null,null,null,37.5033590877,null,37.561059,37.618695,37.631892,null,null,37.610323,37.611626,37.546004,37.665857,37.532143,37.665336,null,null,37.655679,37.534954,null,null,null,37.473626,null,null,37.628783,37.655526,null,37.48172,37.599687,null,null,37.590335,null,37.408489,37.534397,null,null,37.632287,null,37.55664,null,37.469871,37.554717,37.566593,37.604771,null,null,37.635314,null,37.65558,37.56735,37.586006,37.558828254,37.59339,null,37.571426,37.499857,37.595132,37.57254,37.665704,null,null,37.534954,37.59984,null,null,null,null,37.597001,null,null,null,null,37.618435,37.551259,37.582529,null,null,null,37.645744,37.42006,37.59984,37.42006,37.524839,37.595114,37.590335,37.473797,37.633464,null,null,null,null,null,null,37.662614,null,37.665641,null,null,37.632278,37.593075,37.584981,37.612353,null,null,null,37.627535,null,null,37.611751,37.54356,37.586006,37.539087,37.543704,37.618695,37.65558,null,37.665857,37.559371,37.509451,37.509451,37.665857,37.697639,null,null,37.5531,37.665857,37.600504,37.697639,37.534397,37.538521,37.449677,37.408534,37.620941,37.537083,null,37.585925,null,null,null,37.534397,37.611311,37.62033,null,37.44532,37.544764,37.636976,37.533185,37.431936,37.597199,37.598663,null,null,37.658967,null,37.527543,37.534047,37.641045,null,null,null,37.614752,37.537434,null,37.541027,37.661446,null,null,37.510942,null,null,37.5950155939,null,null,null,37.540488,37.630562,null,null,null,37.505166,null,37.6623097288,null,null,null,37.634434,37.606379,37.654808,null,37.492024,null,null,null,null,37.556316,null,null,37.537847,null,37.647091,37.609288,37.587964,37.48172,37.571516,null,37.537083,37.527543,37.626322,null,null,37.652705,37.582619,null,null,null,37.580032,null,null,37.716504,37.534954,37.434568,37.540245,null,37.54356,37.554035,37.6344718565,37.585089,37.638647,null,37.652777,null,37.551968,37.600343,37.642483,null,37.662371,37.672522,37.62431,37.569306,null,37.42006,37.68306,37.558733,null,null,null,null,null,37.542824,null,null,37.620474,37.679394,37.531954,37.578945,37.534954,37.59692,37.540497,null,37.689896,null,null,37.399399,null,null,37.534954,null,37.53261,null,37.609288,null,37.609288,37.640659,null,null,37.66274,37.66274,37.556137,37.624615,null,37.688036,37.534954,37.6448,37.497872,null,37.665857,null,37.632871,37.6025680159,37.607125,37.539401,null,37.529519,37.648762,37.662812,37.665857,null,null,null,37.524776,37.532637,37.26899,37.65558,37.712812,37.42006,null,null,null,37.639168,37.622612,37.645744,null,37.624453,37.625127,null,37.546093,37.600343,null,null,37.61512,null,37.640156,null,null,null,37.539401,null,37.556137,null,null,null,null,null,37.534918,37.539626,37.649579,37.66274,37.59984,37.625208,37.595025,null,37.648573,null,null,37.508229,null,37.679394,null,null,37.595079,37.64489,37.508229,37.590335,37.632287,null,37.601448,37.650873,37.648573,37.634793,37.585691,37.554035,null,null,37.60911,37.661527,null,37.665336,null,37.431936,null,null,null,37.609254,null,37.392437,null,37.509262,null,37.653873,37.54232,37.4320425605,null,37.452965,37.620222,37.515955,37.453315,null,null,null,37.469871,37.603577,null,37.51838,null,37.458364,37.562533,null,null,null,null,37.364185,null,37.431936,37.626439,null,37.556388,null,null,null,null,null,null,null,null,37.617276,37.65558,null,null,null,37.651313,37.571641,37.504789,37.619764,37.625181,null,37.544108,37.536922,null,37.634173,37.66274,null,37.537847,37.672603,null,null,null,37.63473,37.534595,null,37.585556,37.426492,37.533194,null,null,37.622863,null,37.665336,37.66274,37.48543,null,37.665704,37.654529,null,null,37.536526,37.656514,null,37.627705,30.325264,37.665704,37.654529,37.515964,37.634326,37.73694,37.557259,null,37.63146,null,37.431936,37.654529,null,null,37.626313,null,null,null,37.585856,37.42006,37.654529,37.42324,37.5377911032,37.7602081502,null,null,null,37.540497,null,null,37.364032,37.585682,37.662371,37.42006,null,null,37.617276,37.540991,37.705598,37.473303,37.637245,null,null,null,null,37.554169,37.38534,37.599498,null,37.409244,null,null,37.66274,null,null,37.537371,null,null,37.534595,null,37.558212,37.6243595351,null,null,null,null,37.482439,null,37.82087,37.623295,37.599498,37.475935,null,37.5550906905,null,null,null,null,37.582619,null,null,null,37.599498,null,37.635314,37.610817,37.68791,null,0.0,null,null,37.554933,37.576798,37.59515,null,null,37.6259,null,37.665408,37.598842,null,null,37.385412,null,null,null,37.659326,37.592384,37.642016,37.533185,37.602562,37.645411,null,37.514104,null,null,null,null,37.568596,37.568596,37.66274,null,37.547046,null,null,null,null,37.5032306429,37.643183,37.655859,37.648573,37.380354,37.644261,37.598384,37.664653,null,37.59118,37.712812,null,null,null,37.644091,null,37.570599,37.534954,37.590048,null,null,null,null,37.626448,null,null,37.529825,37.555148,37.634793,null,null,null,37.5365582907,37.599238,37.61371,37.350692,37.66274,37.537847,37.642572,37.58464,null,null,null,null,null,37.587281,null,null,37.475468,37.584712,null,37.542383,37.537847,37.597001,null,37.364032,37.44135,37.64622,null,37.561392,37.546561,null,37.66274,null,null,37.639168,null,null,null,37.622423,null,null,37.562074,null,37.66274,null,37.60558,null,37.4413865424,null,37.792232,37.372117,37.509173,null,null,null,37.662812,null,null,37.665857,null,37.533194,null,null,null,37.665408,37.558957,null,null,37.587263,37.650828,37.625612,null,null,null,null,null,37.503459,null,null,null,37.66274,56.233261,37.629403,37.558957,null,37.662371,37.674418,null,37.633868,37.66053,37.558957,37.595402,null,37.657682,null,37.545635,37.561679,37.525549,37.605499,null,37.629169876,null,37.537847,null,37.599238,37.347485,null,37.670905,null,37.604762,37.709623,37.629403,37.563305,null,null,null,null,37.558212,37.63473,37.566234,37.605499,37.359415,37.347485,null,37.792232,null,37.665336,null,37.347485,37.576798,37.623295,37.617968,37.662371,37.527956,null,null,null,null,null,37.585556,null,null,null,37.699094,null,null,null,null,null,37.650828,37.526807,37.585556,83.105662,null,null,37.585556,null,37.587335,null,null,null,null,null,null,null,null,null,37.725164,37.790309,null,37.531127,null,37.582619,37.537901,null,null,37.54188,null,37.644261,37.533697,null,null,83.105662,null,null,37.504789,null,null,null,null,37.615354,37.585925,null,37.469871,null,null,37.377291,null,37.626322,37.64613,37.599013,37.66274,null,null,null,null,null,37.534954,37.42138,37.490263,null,null,37.746256,null,null,37.612946,null,37.6221709098,37.521327,null,null,null,37.590632,37.663503,37.624112,37.624112,null,37.536356,null,null,null,37.540497,null,37.726071,null,37.613153,0.0,null,37.665857,37.653182,null,37.450872,37.643408,null,null,37.627535,null,null,37.561113,37.389158,null,null,null,null,null,37.612946,37.622612,null,37.679394,37.610583,37.558828254,37.645744,37.64922,37.665857,37.538431,null,37.637461,37.665336,null,37.521327,null,null,null,null,null,37.66495,37.665336,null,null,null,null,37.635485,37.538062,null,37.566018,37.637021,null,null,37.585556,null,null,null,null,37.549453,null,37.587964,37.615767,37.558212,37.533194,null,37.566018,null,null,null,null,37.641351,37.625181,37.566054,37.504789,37.531954,37.588763,null,37.499381,37.601367,37.663503,null,37.648456,null,null,null,null,null,37.622396,null,37.534954,37.711347,37.42006,37.540587,37.622396,null,37.552148,null,null,null,null,null,37.645717,37.537083,37.517581,null,null,37.634793,null,37.771274,null,37.532852,37.584829,37.653873,null,null,null,37.597971,37.63146,null,null,37.604529,null,null,null,null,37.623896,37.34762,37.56512,null,null,37.430983,37.615425,null,0.0,37.705607,null,37.67652,37.486616,null,37.665336,37.585556,null,null,37.665857,null,null,37.527256,null,37.589159,37.660548,null,null,null,37.483427,37.652328,37.603478,37.5016,37.737731,37.555804,null,null,null,37.598663,37.554169,null,37.625298,37.660718,null,null,37.629834,37.471102,37.641935,null,37.57121,37.648573,null,37.580032,37.607116,37.533185,null,null,37.610817,37.632278,null,null,37.602588,null,37.540991,null,37.506523,null,37.393559,37.647343,37.447917,37.537371,null,37.883258,null,37.5869229731,37.610583,null,null,null,37.623297,null,37.5811253241,null,null,37.580957,null,37.6403500661,37.544755,37.542824,null,37.570042,37.492024,37.572118,null,37.337505,37.622756,37.616773,37.590048,null,37.337505,37.558828254,37.556388,30.325264,37.542617,null,null,null,null,null,null,null,37.665857,null,37.618183,null,37.625882,null,null,null,null,37.504582,null,null,37.634362,37.595914,37.540829,37.585556,null,37.386275623,37.600028,37.674382,null,37.580032,37.596336,null,null,37.558828254,37.607116,37.683221,null,37.648465,37.6055757355,37.619764,null,37.654017,37.507592,37.653182,null,null,null,null,null,null,null,null,37.551959,37.551959,37.519737,37.662371,37.542222,null,37.67295966,null,37.554169,37.626915,37.7176425496,null,null,37.623393,37.629295,37.611473,37.585556,37.57691,null,37.527606,37.653182,37.537901,null,null,null,37.663961,null,null,37.610341,37.683302,37.792232,37.652705,37.4402,37.564653,37.510942,null,37.653873,null,null,37.581316],\"marker\":{\"color\":\"purple\"},\"mode\":\"markers\",\"name\":\"\",\"showlegend\":false,\"subplot\":\"mapbox\",\"type\":\"scattermapbox\"}],                        {\"template\":{\"data\":{\"bar\":[{\"error_x\":{\"color\":\"#2a3f5f\"},\"error_y\":{\"color\":\"#2a3f5f\"},\"marker\":{\"line\":{\"color\":\"#E5ECF6\",\"width\":0.5},\"pattern\":{\"fillmode\":\"overlay\",\"size\":10,\"solidity\":0.2}},\"type\":\"bar\"}],\"barpolar\":[{\"marker\":{\"line\":{\"color\":\"#E5ECF6\",\"width\":0.5},\"pattern\":{\"fillmode\":\"overlay\",\"size\":10,\"solidity\":0.2}},\"type\":\"barpolar\"}],\"carpet\":[{\"aaxis\":{\"endlinecolor\":\"#2a3f5f\",\"gridcolor\":\"white\",\"linecolor\":\"white\",\"minorgridcolor\":\"white\",\"startlinecolor\":\"#2a3f5f\"},\"baxis\":{\"endlinecolor\":\"#2a3f5f\",\"gridcolor\":\"white\",\"linecolor\":\"white\",\"minorgridcolor\":\"white\",\"startlinecolor\":\"#2a3f5f\"},\"type\":\"carpet\"}],\"choropleth\":[{\"colorbar\":{\"outlinewidth\":0,\"ticks\":\"\"},\"type\":\"choropleth\"}],\"contour\":[{\"colorbar\":{\"outlinewidth\":0,\"ticks\":\"\"},\"colorscale\":[[0.0,\"#0d0887\"],[0.1111111111111111,\"#46039f\"],[0.2222222222222222,\"#7201a8\"],[0.3333333333333333,\"#9c179e\"],[0.4444444444444444,\"#bd3786\"],[0.5555555555555556,\"#d8576b\"],[0.6666666666666666,\"#ed7953\"],[0.7777777777777778,\"#fb9f3a\"],[0.8888888888888888,\"#fdca26\"],[1.0,\"#f0f921\"]],\"type\":\"contour\"}],\"contourcarpet\":[{\"colorbar\":{\"outlinewidth\":0,\"ticks\":\"\"},\"type\":\"contourcarpet\"}],\"heatmap\":[{\"colorbar\":{\"outlinewidth\":0,\"ticks\":\"\"},\"colorscale\":[[0.0,\"#0d0887\"],[0.1111111111111111,\"#46039f\"],[0.2222222222222222,\"#7201a8\"],[0.3333333333333333,\"#9c179e\"],[0.4444444444444444,\"#bd3786\"],[0.5555555555555556,\"#d8576b\"],[0.6666666666666666,\"#ed7953\"],[0.7777777777777778,\"#fb9f3a\"],[0.8888888888888888,\"#fdca26\"],[1.0,\"#f0f921\"]],\"type\":\"heatmap\"}],\"heatmapgl\":[{\"colorbar\":{\"outlinewidth\":0,\"ticks\":\"\"},\"colorscale\":[[0.0,\"#0d0887\"],[0.1111111111111111,\"#46039f\"],[0.2222222222222222,\"#7201a8\"],[0.3333333333333333,\"#9c179e\"],[0.4444444444444444,\"#bd3786\"],[0.5555555555555556,\"#d8576b\"],[0.6666666666666666,\"#ed7953\"],[0.7777777777777778,\"#fb9f3a\"],[0.8888888888888888,\"#fdca26\"],[1.0,\"#f0f921\"]],\"type\":\"heatmapgl\"}],\"histogram\":[{\"marker\":{\"pattern\":{\"fillmode\":\"overlay\",\"size\":10,\"solidity\":0.2}},\"type\":\"histogram\"}],\"histogram2d\":[{\"colorbar\":{\"outlinewidth\":0,\"ticks\":\"\"},\"colorscale\":[[0.0,\"#0d0887\"],[0.1111111111111111,\"#46039f\"],[0.2222222222222222,\"#7201a8\"],[0.3333333333333333,\"#9c179e\"],[0.4444444444444444,\"#bd3786\"],[0.5555555555555556,\"#d8576b\"],[0.6666666666666666,\"#ed7953\"],[0.7777777777777778,\"#fb9f3a\"],[0.8888888888888888,\"#fdca26\"],[1.0,\"#f0f921\"]],\"type\":\"histogram2d\"}],\"histogram2dcontour\":[{\"colorbar\":{\"outlinewidth\":0,\"ticks\":\"\"},\"colorscale\":[[0.0,\"#0d0887\"],[0.1111111111111111,\"#46039f\"],[0.2222222222222222,\"#7201a8\"],[0.3333333333333333,\"#9c179e\"],[0.4444444444444444,\"#bd3786\"],[0.5555555555555556,\"#d8576b\"],[0.6666666666666666,\"#ed7953\"],[0.7777777777777778,\"#fb9f3a\"],[0.8888888888888888,\"#fdca26\"],[1.0,\"#f0f921\"]],\"type\":\"histogram2dcontour\"}],\"mesh3d\":[{\"colorbar\":{\"outlinewidth\":0,\"ticks\":\"\"},\"type\":\"mesh3d\"}],\"parcoords\":[{\"line\":{\"colorbar\":{\"outlinewidth\":0,\"ticks\":\"\"}},\"type\":\"parcoords\"}],\"pie\":[{\"automargin\":true,\"type\":\"pie\"}],\"scatter\":[{\"marker\":{\"colorbar\":{\"outlinewidth\":0,\"ticks\":\"\"}},\"type\":\"scatter\"}],\"scatter3d\":[{\"line\":{\"colorbar\":{\"outlinewidth\":0,\"ticks\":\"\"}},\"marker\":{\"colorbar\":{\"outlinewidth\":0,\"ticks\":\"\"}},\"type\":\"scatter3d\"}],\"scattercarpet\":[{\"marker\":{\"colorbar\":{\"outlinewidth\":0,\"ticks\":\"\"}},\"type\":\"scattercarpet\"}],\"scattergeo\":[{\"marker\":{\"colorbar\":{\"outlinewidth\":0,\"ticks\":\"\"}},\"type\":\"scattergeo\"}],\"scattergl\":[{\"marker\":{\"colorbar\":{\"outlinewidth\":0,\"ticks\":\"\"}},\"type\":\"scattergl\"}],\"scattermapbox\":[{\"marker\":{\"colorbar\":{\"outlinewidth\":0,\"ticks\":\"\"}},\"type\":\"scattermapbox\"}],\"scatterpolar\":[{\"marker\":{\"colorbar\":{\"outlinewidth\":0,\"ticks\":\"\"}},\"type\":\"scatterpolar\"}],\"scatterpolargl\":[{\"marker\":{\"colorbar\":{\"outlinewidth\":0,\"ticks\":\"\"}},\"type\":\"scatterpolargl\"}],\"scatterternary\":[{\"marker\":{\"colorbar\":{\"outlinewidth\":0,\"ticks\":\"\"}},\"type\":\"scatterternary\"}],\"surface\":[{\"colorbar\":{\"outlinewidth\":0,\"ticks\":\"\"},\"colorscale\":[[0.0,\"#0d0887\"],[0.1111111111111111,\"#46039f\"],[0.2222222222222222,\"#7201a8\"],[0.3333333333333333,\"#9c179e\"],[0.4444444444444444,\"#bd3786\"],[0.5555555555555556,\"#d8576b\"],[0.6666666666666666,\"#ed7953\"],[0.7777777777777778,\"#fb9f3a\"],[0.8888888888888888,\"#fdca26\"],[1.0,\"#f0f921\"]],\"type\":\"surface\"}],\"table\":[{\"cells\":{\"fill\":{\"color\":\"#EBF0F8\"},\"line\":{\"color\":\"white\"}},\"header\":{\"fill\":{\"color\":\"#C8D4E3\"},\"line\":{\"color\":\"white\"}},\"type\":\"table\"}]},\"layout\":{\"annotationdefaults\":{\"arrowcolor\":\"#2a3f5f\",\"arrowhead\":0,\"arrowwidth\":1},\"autotypenumbers\":\"strict\",\"coloraxis\":{\"colorbar\":{\"outlinewidth\":0,\"ticks\":\"\"}},\"colorscale\":{\"diverging\":[[0,\"#8e0152\"],[0.1,\"#c51b7d\"],[0.2,\"#de77ae\"],[0.3,\"#f1b6da\"],[0.4,\"#fde0ef\"],[0.5,\"#f7f7f7\"],[0.6,\"#e6f5d0\"],[0.7,\"#b8e186\"],[0.8,\"#7fbc41\"],[0.9,\"#4d9221\"],[1,\"#276419\"]],\"sequential\":[[0.0,\"#0d0887\"],[0.1111111111111111,\"#46039f\"],[0.2222222222222222,\"#7201a8\"],[0.3333333333333333,\"#9c179e\"],[0.4444444444444444,\"#bd3786\"],[0.5555555555555556,\"#d8576b\"],[0.6666666666666666,\"#ed7953\"],[0.7777777777777778,\"#fb9f3a\"],[0.8888888888888888,\"#fdca26\"],[1.0,\"#f0f921\"]],\"sequentialminus\":[[0.0,\"#0d0887\"],[0.1111111111111111,\"#46039f\"],[0.2222222222222222,\"#7201a8\"],[0.3333333333333333,\"#9c179e\"],[0.4444444444444444,\"#bd3786\"],[0.5555555555555556,\"#d8576b\"],[0.6666666666666666,\"#ed7953\"],[0.7777777777777778,\"#fb9f3a\"],[0.8888888888888888,\"#fdca26\"],[1.0,\"#f0f921\"]]},\"colorway\":[\"#636efa\",\"#EF553B\",\"#00cc96\",\"#ab63fa\",\"#FFA15A\",\"#19d3f3\",\"#FF6692\",\"#B6E880\",\"#FF97FF\",\"#FECB52\"],\"font\":{\"color\":\"#2a3f5f\"},\"geo\":{\"bgcolor\":\"white\",\"lakecolor\":\"white\",\"landcolor\":\"#E5ECF6\",\"showlakes\":true,\"showland\":true,\"subunitcolor\":\"white\"},\"hoverlabel\":{\"align\":\"left\"},\"hovermode\":\"closest\",\"mapbox\":{\"style\":\"light\"},\"paper_bgcolor\":\"white\",\"plot_bgcolor\":\"#E5ECF6\",\"polar\":{\"angularaxis\":{\"gridcolor\":\"white\",\"linecolor\":\"white\",\"ticks\":\"\"},\"bgcolor\":\"#E5ECF6\",\"radialaxis\":{\"gridcolor\":\"white\",\"linecolor\":\"white\",\"ticks\":\"\"}},\"scene\":{\"xaxis\":{\"backgroundcolor\":\"#E5ECF6\",\"gridcolor\":\"white\",\"gridwidth\":2,\"linecolor\":\"white\",\"showbackground\":true,\"ticks\":\"\",\"zerolinecolor\":\"white\"},\"yaxis\":{\"backgroundcolor\":\"#E5ECF6\",\"gridcolor\":\"white\",\"gridwidth\":2,\"linecolor\":\"white\",\"showbackground\":true,\"ticks\":\"\",\"zerolinecolor\":\"white\"},\"zaxis\":{\"backgroundcolor\":\"#E5ECF6\",\"gridcolor\":\"white\",\"gridwidth\":2,\"linecolor\":\"white\",\"showbackground\":true,\"ticks\":\"\",\"zerolinecolor\":\"white\"}},\"shapedefaults\":{\"line\":{\"color\":\"#2a3f5f\"}},\"ternary\":{\"aaxis\":{\"gridcolor\":\"white\",\"linecolor\":\"white\",\"ticks\":\"\"},\"baxis\":{\"gridcolor\":\"white\",\"linecolor\":\"white\",\"ticks\":\"\"},\"bgcolor\":\"#E5ECF6\",\"caxis\":{\"gridcolor\":\"white\",\"linecolor\":\"white\",\"ticks\":\"\"}},\"title\":{\"x\":0.05},\"xaxis\":{\"automargin\":true,\"gridcolor\":\"white\",\"linecolor\":\"white\",\"ticks\":\"\",\"title\":{\"standoff\":15},\"zerolinecolor\":\"white\",\"zerolinewidth\":2},\"yaxis\":{\"automargin\":true,\"gridcolor\":\"white\",\"linecolor\":\"white\",\"ticks\":\"\",\"title\":{\"standoff\":15},\"zerolinecolor\":\"white\",\"zerolinewidth\":2}}},\"mapbox\":{\"domain\":{\"x\":[0.0,1.0],\"y\":[0.0,1.0]},\"center\":{\"lat\":55.753995,\"lon\":37.614069},\"zoom\":9,\"style\":\"open-street-map\"},\"legend\":{\"tracegroupgap\":0},\"margin\":{\"t\":60},\"height\":700,\"width\":1000},                        {\"responsive\": true}                    ).then(function(){\n",
       "                            \n",
       "var gd = document.getElementById('03d3ad0e-e04f-4a47-bd0b-08fa14965e45');\n",
       "var x = new MutationObserver(function (mutations, observer) {{\n",
       "        var display = window.getComputedStyle(gd).display;\n",
       "        if (!display || display === 'none') {{\n",
       "            console.log([gd, 'removed!']);\n",
       "            Plotly.purge(gd);\n",
       "            observer.disconnect();\n",
       "        }}\n",
       "}});\n",
       "\n",
       "// Listen for the removal of the full notebook cells\n",
       "var notebookContainer = gd.closest('#notebook-container');\n",
       "if (notebookContainer) {{\n",
       "    x.observe(notebookContainer, {childList: true});\n",
       "}}\n",
       "\n",
       "// Listen for the clearing of the current output cell\n",
       "var outputEl = gd.closest('.output');\n",
       "if (outputEl) {{\n",
       "    x.observe(outputEl, {childList: true});\n",
       "}}\n",
       "\n",
       "                        })                };                });            </script>        </div>"
      ]
     },
     "metadata": {},
     "output_type": "display_data"
    }
   ],
   "source": [
    "new_fig = px.scatter_mapbox(lat=ds_pages_df['address.lat'],\n",
    "                            lon=ds_pages_df['address.lng'],\n",
    "                            color_discrete_sequence=[\"purple\"],\n",
    "                            zoom=9,\n",
    "                            width=1000 ,\n",
    "                            height=700,\n",
    "                            center = dict(\n",
    "                                lat = 55.753995,\n",
    "                                lon = 37.614069,\n",
    "                            ),\n",
    "                            mapbox_style=\"open-street-map\")\n",
    "new_fig.show()"
   ]
  },
  {
   "cell_type": "markdown",
   "metadata": {
    "pycharm": {
     "name": "#%% md\n"
    }
   },
   "source": [
    "Поскольку графики никак не экспортировались, с помощью `plotly.offline` я создала их копии и импортировала в документ с помощью `Image`, чтобы они оставались вне зависимости от директории размещения файла:"
   ]
  },
  {
   "cell_type": "markdown",
   "metadata": {
    "pycharm": {
     "name": "#%% md\n"
    }
   },
   "source": [
    "Далее объединим по районам, используя названия станций метро:"
   ]
  },
  {
   "cell_type": "code",
   "execution_count": 27,
   "metadata": {
    "pycharm": {
     "name": "#%%\n"
    }
   },
   "outputs": [
    {
     "data": {
      "application/vnd.plotly.v1+json": {
       "config": {
        "plotlyServerURL": "https://plot.ly"
       },
       "data": [
        {
         "hovertemplate": "<b>%{hovertext}</b><br><br>size=%{marker.size}<br>lat=%{lat}<br>lon=%{lon}<extra></extra>",
         "hovertext": [
          "Парк культуры",
          "Преображенская площадь",
          "Проспект Вернадского",
          "Сокольники",
          "Спортивная",
          "Бульвар Рокоссовского",
          "Университет",
          "Фрунзенская",
          "Юго-Западная",
          "Румянцево",
          "Комсомольская",
          "Красносельская",
          "Красные ворота",
          "Кропоткинская",
          "Коммунарка",
          "Охотный ряд",
          "Печатники",
          "Сретенский бульвар",
          "Трубная",
          "Достоевская",
          "Марьина Роща",
          "Волжская",
          "Бутырская ",
          "Окружная",
          "Крестьянская застава",
          "Чкаловская",
          "Бульвар Адмирала Ушакова",
          "Лобня",
          "Новодачная",
          "Тестовская",
          "Сетунь",
          "Сколково",
          "Одинцово",
          "Красный Балтиец",
          "Новохохловская",
          "Покровское",
          "Деловой центр",
          "Парк Победы",
          "Ломоносовский проспект",
          "Говорово ",
          "Боровское шоссе",
          "Горьковская",
          "Павелецкая",
          "Аэропорт",
          "Сокол",
          "Белорусская",
          "Автозаводская",
          "Водный стадион",
          "Динамо",
          "Технопарк",
          "Беломорская",
          "Маяковская",
          "Новокузнецкая",
          "Площадь Революции",
          "Партизанская",
          "Первомайская",
          "Семеновская",
          "Смоленская",
          "Электрозаводская",
          "Бауманская",
          "Парк Победы",
          "Строгино",
          "Славянский бульвар",
          "Мякинино",
          "Киевская",
          "Арбатская",
          "Крылатское",
          "Кунцевская",
          "Курская",
          "Молодежная",
          "Смоленская",
          "Багратионовская",
          "Фили",
          "Выставочная",
          "Международная",
          "Киевская",
          "Кутузовская",
          "Павелецкая",
          "Парк культуры",
          "Проспект Мира",
          "Белорусская",
          "Добрынинская",
          "Киевская",
          "Комсомольская",
          "Краснопресненская",
          "Курская",
          "Таганская",
          "Новослободская",
          "Октябрьская",
          "Проспект Мира",
          "Профсоюзная",
          "Рижская",
          "Бабушкинская",
          "Сухаревская",
          "Теплый Стан",
          "Шаболовская",
          "Беляево",
          "Новоясеневская",
          "Ботанический сад",
          "ВДНХ",
          "Академическая",
          "Калужская",
          "Китай-город",
          "Ленинский проспект",
          "Алексеевская",
          "Октябрьская",
          "Планерная",
          "Полежаевская",
          "Пушкинская",
          "Рязанский проспект",
          "Сходненская",
          "Тушинская",
          "Улица 1905 года",
          "Баррикадная",
          "Щукинская",
          "Беговая",
          "Волгоградский проспект",
          "Выхино",
          "Жулебино",
          "Китай-город",
          "Кузнецкий мост",
          "Октябрьское поле",
          "Авиамоторная",
          "Перово",
          "Площадь Ильича",
          "Марксистская",
          "Третьяковская",
          "Полянка",
          "Пражская",
          "Чеховская",
          "Савёловская",
          "Тимирязевская",
          "Тульская",
          "Цветной бульвар",
          "Чертановская",
          "Бульвар Дмитрия Донского",
          "Бибирево",
          "Дмитровская",
          "Серпуховская",
          "Севастопольская",
          "Менделеевская",
          "Нагатинская",
          "Нагорная",
          "Нахимовский проспект",
          "Алтуфьево",
          "Отрадное",
          "Ботанический сад",
          "Дубровка",
          "Автозаводская",
          "Лужники",
          "Деловой центр",
          "Зорге",
          "Панфиловская",
          "Балтийская",
          "Телецентр",
          "Хорошевская",
          "Деловой центр",
          "Косино"
         ],
         "lat": [
          55.736163,
          55.796322,
          55.676549,
          55.789282,
          55.722388,
          55.814916,
          55.69329,
          55.727462,
          55.663146,
          55.633,
          55.774072,
          55.780014,
          55.768307,
          55.745297,
          55.559765,
          55.757228,
          55.692921,
          55.766106,
          55.76771,
          55.781667,
          55.793723,
          55.690446,
          55.813333,
          55.848889,
          55.732278,
          55.755951,
          55.545207,
          56.0048,
          55.924459,
          55.754292,
          55.723713,
          55.666801,
          55.67798,
          55.815514,
          55.718523,
          55.814247,
          55.7491,
          55.736478,
          55.7055,
          55.6588,
          55.647,
          59.956112,
          55.729741,
          55.800441,
          55.805564,
          55.777439,
          55.706634,
          55.838978,
          55.789704,
          55.695,
          55.8651,
          55.769808,
          55.742391,
          55.756741,
          55.788401,
          55.794376,
          55.783096,
          55.747713,
          55.782057,
          55.772405,
          55.735679,
          55.803831,
          55.729542,
          55.823342,
          55.743117,
          55.752312,
          55.756842,
          55.730673,
          55.758564,
          55.741375,
          55.749083,
          55.743544,
          55.746763,
          55.750243,
          55.748324,
          55.743168,
          55.740544,
          55.731414,
          55.735221,
          55.779584,
          55.775179,
          55.728994,
          55.74361,
          55.775672,
          55.760378,
          55.758631,
          55.742396,
          55.779606,
          55.729264,
          55.781827,
          55.677671,
          55.792494,
          55.870641,
          55.772315,
          55.61873,
          55.718828,
          55.642357,
          55.601947,
          55.844597,
          55.819626,
          55.687147,
          55.656682,
          55.756498,
          55.70678,
          55.807794,
          55.731232,
          55.859676,
          55.777201,
          55.765607,
          55.716139,
          55.84926,
          55.825479,
          55.763944,
          55.760793,
          55.8094,
          55.773505,
          55.725546,
          55.715983,
          55.684722,
          55.75436,
          55.761498,
          55.793581,
          55.751933,
          55.75098,
          55.747115,
          55.740746,
          55.741125,
          55.736795,
          55.610962,
          55.765747,
          55.794054,
          55.81866,
          55.70961,
          55.771653,
          55.640538,
          55.568201,
          55.883868,
          55.808056,
          55.726548,
          55.651451,
          55.781999,
          55.682099,
          55.672962,
          55.662379,
          55.899034,
          55.864273,
          55.845556,
          55.71268,
          55.70631,
          55.720278,
          55.747222,
          55.787778,
          55.799167,
          55.825833,
          55.821795,
          55.77643,
          55.7491,
          55.7026
         ],
         "legendgroup": "",
         "lon": [
          37.595027,
          37.713582,
          37.504584,
          37.679895,
          37.562041,
          37.732227,
          37.534511,
          37.58022,
          37.482852,
          37.4419,
          37.654565,
          37.666097,
          37.6478,
          37.604217,
          37.468716,
          37.615078,
          37.728338,
          37.635688,
          37.621926,
          37.613889,
          37.61618,
          37.754314,
          37.602778,
          37.571111,
          37.665325,
          37.659293,
          37.542329,
          37.29057,
          37.527877,
          37.531551,
          37.397259,
          37.424618,
          37.27773,
          37.526367,
          37.719236,
          37.47678,
          37.5395,
          37.514401,
          37.5225,
          37.4174,
          37.3701,
          30.31889,
          37.638693,
          37.530477,
          37.515245,
          37.582107,
          37.657008,
          37.487515,
          37.558212,
          37.664167,
          37.4764,
          37.596192,
          37.62928,
          37.62236,
          37.74882,
          37.799364,
          37.719289,
          37.583802,
          37.7053,
          37.67904,
          37.516865,
          37.402405,
          37.470973,
          37.385214,
          37.564132,
          37.60349,
          37.408139,
          37.446522,
          37.659039,
          37.415627,
          37.582173,
          37.497042,
          37.514035,
          37.542641,
          37.533282,
          37.565425,
          37.5341,
          37.636294,
          37.593095,
          37.633646,
          37.582303,
          37.622533,
          37.56735,
          37.654772,
          37.577114,
          37.661059,
          37.653334,
          37.601252,
          37.611049,
          37.633199,
          37.562595,
          37.636114,
          37.664341,
          37.63285,
          37.505912,
          37.607892,
          37.526115,
          37.553017,
          37.637811,
          37.640751,
          37.5723,
          37.540075,
          37.631326,
          37.58499,
          37.638699,
          37.612851,
          37.436808,
          37.517895,
          37.604356,
          37.792694,
          37.44076,
          37.437024,
          37.562271,
          37.581242,
          37.463241,
          37.545518,
          37.685197,
          37.816788,
          37.855833,
          37.633877,
          37.624423,
          37.493317,
          37.717444,
          37.78422,
          37.680726,
          37.65604,
          37.626142,
          37.618594,
          37.602386,
          37.608493,
          37.587163,
          37.574498,
          37.622569,
          37.620466,
          37.606065,
          37.576856,
          37.603011,
          37.581734,
          37.624792,
          37.59809,
          37.599141,
          37.620917,
          37.610397,
          37.605274,
          37.586473,
          37.605066,
          37.640278,
          37.677775,
          37.66314,
          37.563056,
          37.532222,
          37.504444,
          37.498889,
          37.496111,
          37.608975,
          37.51981,
          37.5395,
          37.8511
         ],
         "marker": {
          "color": "purple",
          "size": [
           2,
           10,
           5,
           4,
           2,
           1,
           2,
           2,
           3,
           13,
           2,
           4,
           3,
           6,
           2,
           1,
           1,
           3,
           2,
           8,
           4,
           1,
           1,
           2,
           4,
           2,
           1,
           1,
           1,
           1,
           1,
           3,
           1,
           2,
           1,
           2,
           3,
           2,
           1,
           1,
           1,
           3,
           30,
           24,
           6,
           31,
           6,
           21,
           19,
           31,
           2,
           9,
           8,
           1,
           1,
           1,
           2,
           2,
           3,
           38,
           8,
           3,
           7,
           14,
           10,
           1,
           15,
           2,
           15,
           3,
           4,
           1,
           1,
           18,
           4,
           2,
           5,
           2,
           3,
           11,
           7,
           4,
           11,
           2,
           5,
           3,
           3,
           2,
           2,
           5,
           4,
           1,
           1,
           3,
           2,
           8,
           1,
           1,
           5,
           3,
           1,
           17,
           8,
           4,
           4,
           2,
           2,
           3,
           6,
           1,
           6,
           1,
           14,
           10,
           2,
           8,
           3,
           1,
           1,
           5,
           7,
           3,
           8,
           1,
           4,
           2,
           2,
           5,
           1,
           1,
           19,
           1,
           17,
           5,
           1,
           3,
           2,
           11,
           7,
           1,
           1,
           10,
           3,
           8,
           3,
           10,
           1,
           1,
           1,
           1,
           14,
           2,
           1,
           3,
           1,
           1,
           6,
           1
          ],
          "sizemode": "area",
          "sizeref": 0.095
         },
         "mode": "markers",
         "name": "",
         "showlegend": false,
         "subplot": "mapbox",
         "type": "scattermapbox"
        }
       ],
       "layout": {
        "height": 700,
        "legend": {
         "itemsizing": "constant",
         "tracegroupgap": 0
        },
        "mapbox": {
         "center": {
          "lat": 55.753995,
          "lon": 37.614069
         },
         "domain": {
          "x": [
           0,
           1
          ],
          "y": [
           0,
           1
          ]
         },
         "style": "open-street-map",
         "zoom": 10
        },
        "margin": {
         "t": 60
        },
        "template": {
         "data": {
          "bar": [
           {
            "error_x": {
             "color": "#2a3f5f"
            },
            "error_y": {
             "color": "#2a3f5f"
            },
            "marker": {
             "line": {
              "color": "#E5ECF6",
              "width": 0.5
             },
             "pattern": {
              "fillmode": "overlay",
              "size": 10,
              "solidity": 0.2
             }
            },
            "type": "bar"
           }
          ],
          "barpolar": [
           {
            "marker": {
             "line": {
              "color": "#E5ECF6",
              "width": 0.5
             },
             "pattern": {
              "fillmode": "overlay",
              "size": 10,
              "solidity": 0.2
             }
            },
            "type": "barpolar"
           }
          ],
          "carpet": [
           {
            "aaxis": {
             "endlinecolor": "#2a3f5f",
             "gridcolor": "white",
             "linecolor": "white",
             "minorgridcolor": "white",
             "startlinecolor": "#2a3f5f"
            },
            "baxis": {
             "endlinecolor": "#2a3f5f",
             "gridcolor": "white",
             "linecolor": "white",
             "minorgridcolor": "white",
             "startlinecolor": "#2a3f5f"
            },
            "type": "carpet"
           }
          ],
          "choropleth": [
           {
            "colorbar": {
             "outlinewidth": 0,
             "ticks": ""
            },
            "type": "choropleth"
           }
          ],
          "contour": [
           {
            "colorbar": {
             "outlinewidth": 0,
             "ticks": ""
            },
            "colorscale": [
             [
              0,
              "#0d0887"
             ],
             [
              0.1111111111111111,
              "#46039f"
             ],
             [
              0.2222222222222222,
              "#7201a8"
             ],
             [
              0.3333333333333333,
              "#9c179e"
             ],
             [
              0.4444444444444444,
              "#bd3786"
             ],
             [
              0.5555555555555556,
              "#d8576b"
             ],
             [
              0.6666666666666666,
              "#ed7953"
             ],
             [
              0.7777777777777778,
              "#fb9f3a"
             ],
             [
              0.8888888888888888,
              "#fdca26"
             ],
             [
              1,
              "#f0f921"
             ]
            ],
            "type": "contour"
           }
          ],
          "contourcarpet": [
           {
            "colorbar": {
             "outlinewidth": 0,
             "ticks": ""
            },
            "type": "contourcarpet"
           }
          ],
          "heatmap": [
           {
            "colorbar": {
             "outlinewidth": 0,
             "ticks": ""
            },
            "colorscale": [
             [
              0,
              "#0d0887"
             ],
             [
              0.1111111111111111,
              "#46039f"
             ],
             [
              0.2222222222222222,
              "#7201a8"
             ],
             [
              0.3333333333333333,
              "#9c179e"
             ],
             [
              0.4444444444444444,
              "#bd3786"
             ],
             [
              0.5555555555555556,
              "#d8576b"
             ],
             [
              0.6666666666666666,
              "#ed7953"
             ],
             [
              0.7777777777777778,
              "#fb9f3a"
             ],
             [
              0.8888888888888888,
              "#fdca26"
             ],
             [
              1,
              "#f0f921"
             ]
            ],
            "type": "heatmap"
           }
          ],
          "heatmapgl": [
           {
            "colorbar": {
             "outlinewidth": 0,
             "ticks": ""
            },
            "colorscale": [
             [
              0,
              "#0d0887"
             ],
             [
              0.1111111111111111,
              "#46039f"
             ],
             [
              0.2222222222222222,
              "#7201a8"
             ],
             [
              0.3333333333333333,
              "#9c179e"
             ],
             [
              0.4444444444444444,
              "#bd3786"
             ],
             [
              0.5555555555555556,
              "#d8576b"
             ],
             [
              0.6666666666666666,
              "#ed7953"
             ],
             [
              0.7777777777777778,
              "#fb9f3a"
             ],
             [
              0.8888888888888888,
              "#fdca26"
             ],
             [
              1,
              "#f0f921"
             ]
            ],
            "type": "heatmapgl"
           }
          ],
          "histogram": [
           {
            "marker": {
             "pattern": {
              "fillmode": "overlay",
              "size": 10,
              "solidity": 0.2
             }
            },
            "type": "histogram"
           }
          ],
          "histogram2d": [
           {
            "colorbar": {
             "outlinewidth": 0,
             "ticks": ""
            },
            "colorscale": [
             [
              0,
              "#0d0887"
             ],
             [
              0.1111111111111111,
              "#46039f"
             ],
             [
              0.2222222222222222,
              "#7201a8"
             ],
             [
              0.3333333333333333,
              "#9c179e"
             ],
             [
              0.4444444444444444,
              "#bd3786"
             ],
             [
              0.5555555555555556,
              "#d8576b"
             ],
             [
              0.6666666666666666,
              "#ed7953"
             ],
             [
              0.7777777777777778,
              "#fb9f3a"
             ],
             [
              0.8888888888888888,
              "#fdca26"
             ],
             [
              1,
              "#f0f921"
             ]
            ],
            "type": "histogram2d"
           }
          ],
          "histogram2dcontour": [
           {
            "colorbar": {
             "outlinewidth": 0,
             "ticks": ""
            },
            "colorscale": [
             [
              0,
              "#0d0887"
             ],
             [
              0.1111111111111111,
              "#46039f"
             ],
             [
              0.2222222222222222,
              "#7201a8"
             ],
             [
              0.3333333333333333,
              "#9c179e"
             ],
             [
              0.4444444444444444,
              "#bd3786"
             ],
             [
              0.5555555555555556,
              "#d8576b"
             ],
             [
              0.6666666666666666,
              "#ed7953"
             ],
             [
              0.7777777777777778,
              "#fb9f3a"
             ],
             [
              0.8888888888888888,
              "#fdca26"
             ],
             [
              1,
              "#f0f921"
             ]
            ],
            "type": "histogram2dcontour"
           }
          ],
          "mesh3d": [
           {
            "colorbar": {
             "outlinewidth": 0,
             "ticks": ""
            },
            "type": "mesh3d"
           }
          ],
          "parcoords": [
           {
            "line": {
             "colorbar": {
              "outlinewidth": 0,
              "ticks": ""
             }
            },
            "type": "parcoords"
           }
          ],
          "pie": [
           {
            "automargin": true,
            "type": "pie"
           }
          ],
          "scatter": [
           {
            "marker": {
             "colorbar": {
              "outlinewidth": 0,
              "ticks": ""
             }
            },
            "type": "scatter"
           }
          ],
          "scatter3d": [
           {
            "line": {
             "colorbar": {
              "outlinewidth": 0,
              "ticks": ""
             }
            },
            "marker": {
             "colorbar": {
              "outlinewidth": 0,
              "ticks": ""
             }
            },
            "type": "scatter3d"
           }
          ],
          "scattercarpet": [
           {
            "marker": {
             "colorbar": {
              "outlinewidth": 0,
              "ticks": ""
             }
            },
            "type": "scattercarpet"
           }
          ],
          "scattergeo": [
           {
            "marker": {
             "colorbar": {
              "outlinewidth": 0,
              "ticks": ""
             }
            },
            "type": "scattergeo"
           }
          ],
          "scattergl": [
           {
            "marker": {
             "colorbar": {
              "outlinewidth": 0,
              "ticks": ""
             }
            },
            "type": "scattergl"
           }
          ],
          "scattermapbox": [
           {
            "marker": {
             "colorbar": {
              "outlinewidth": 0,
              "ticks": ""
             }
            },
            "type": "scattermapbox"
           }
          ],
          "scatterpolar": [
           {
            "marker": {
             "colorbar": {
              "outlinewidth": 0,
              "ticks": ""
             }
            },
            "type": "scatterpolar"
           }
          ],
          "scatterpolargl": [
           {
            "marker": {
             "colorbar": {
              "outlinewidth": 0,
              "ticks": ""
             }
            },
            "type": "scatterpolargl"
           }
          ],
          "scatterternary": [
           {
            "marker": {
             "colorbar": {
              "outlinewidth": 0,
              "ticks": ""
             }
            },
            "type": "scatterternary"
           }
          ],
          "surface": [
           {
            "colorbar": {
             "outlinewidth": 0,
             "ticks": ""
            },
            "colorscale": [
             [
              0,
              "#0d0887"
             ],
             [
              0.1111111111111111,
              "#46039f"
             ],
             [
              0.2222222222222222,
              "#7201a8"
             ],
             [
              0.3333333333333333,
              "#9c179e"
             ],
             [
              0.4444444444444444,
              "#bd3786"
             ],
             [
              0.5555555555555556,
              "#d8576b"
             ],
             [
              0.6666666666666666,
              "#ed7953"
             ],
             [
              0.7777777777777778,
              "#fb9f3a"
             ],
             [
              0.8888888888888888,
              "#fdca26"
             ],
             [
              1,
              "#f0f921"
             ]
            ],
            "type": "surface"
           }
          ],
          "table": [
           {
            "cells": {
             "fill": {
              "color": "#EBF0F8"
             },
             "line": {
              "color": "white"
             }
            },
            "header": {
             "fill": {
              "color": "#C8D4E3"
             },
             "line": {
              "color": "white"
             }
            },
            "type": "table"
           }
          ]
         },
         "layout": {
          "annotationdefaults": {
           "arrowcolor": "#2a3f5f",
           "arrowhead": 0,
           "arrowwidth": 1
          },
          "autotypenumbers": "strict",
          "coloraxis": {
           "colorbar": {
            "outlinewidth": 0,
            "ticks": ""
           }
          },
          "colorscale": {
           "diverging": [
            [
             0,
             "#8e0152"
            ],
            [
             0.1,
             "#c51b7d"
            ],
            [
             0.2,
             "#de77ae"
            ],
            [
             0.3,
             "#f1b6da"
            ],
            [
             0.4,
             "#fde0ef"
            ],
            [
             0.5,
             "#f7f7f7"
            ],
            [
             0.6,
             "#e6f5d0"
            ],
            [
             0.7,
             "#b8e186"
            ],
            [
             0.8,
             "#7fbc41"
            ],
            [
             0.9,
             "#4d9221"
            ],
            [
             1,
             "#276419"
            ]
           ],
           "sequential": [
            [
             0,
             "#0d0887"
            ],
            [
             0.1111111111111111,
             "#46039f"
            ],
            [
             0.2222222222222222,
             "#7201a8"
            ],
            [
             0.3333333333333333,
             "#9c179e"
            ],
            [
             0.4444444444444444,
             "#bd3786"
            ],
            [
             0.5555555555555556,
             "#d8576b"
            ],
            [
             0.6666666666666666,
             "#ed7953"
            ],
            [
             0.7777777777777778,
             "#fb9f3a"
            ],
            [
             0.8888888888888888,
             "#fdca26"
            ],
            [
             1,
             "#f0f921"
            ]
           ],
           "sequentialminus": [
            [
             0,
             "#0d0887"
            ],
            [
             0.1111111111111111,
             "#46039f"
            ],
            [
             0.2222222222222222,
             "#7201a8"
            ],
            [
             0.3333333333333333,
             "#9c179e"
            ],
            [
             0.4444444444444444,
             "#bd3786"
            ],
            [
             0.5555555555555556,
             "#d8576b"
            ],
            [
             0.6666666666666666,
             "#ed7953"
            ],
            [
             0.7777777777777778,
             "#fb9f3a"
            ],
            [
             0.8888888888888888,
             "#fdca26"
            ],
            [
             1,
             "#f0f921"
            ]
           ]
          },
          "colorway": [
           "#636efa",
           "#EF553B",
           "#00cc96",
           "#ab63fa",
           "#FFA15A",
           "#19d3f3",
           "#FF6692",
           "#B6E880",
           "#FF97FF",
           "#FECB52"
          ],
          "font": {
           "color": "#2a3f5f"
          },
          "geo": {
           "bgcolor": "white",
           "lakecolor": "white",
           "landcolor": "#E5ECF6",
           "showlakes": true,
           "showland": true,
           "subunitcolor": "white"
          },
          "hoverlabel": {
           "align": "left"
          },
          "hovermode": "closest",
          "mapbox": {
           "style": "light"
          },
          "paper_bgcolor": "white",
          "plot_bgcolor": "#E5ECF6",
          "polar": {
           "angularaxis": {
            "gridcolor": "white",
            "linecolor": "white",
            "ticks": ""
           },
           "bgcolor": "#E5ECF6",
           "radialaxis": {
            "gridcolor": "white",
            "linecolor": "white",
            "ticks": ""
           }
          },
          "scene": {
           "xaxis": {
            "backgroundcolor": "#E5ECF6",
            "gridcolor": "white",
            "gridwidth": 2,
            "linecolor": "white",
            "showbackground": true,
            "ticks": "",
            "zerolinecolor": "white"
           },
           "yaxis": {
            "backgroundcolor": "#E5ECF6",
            "gridcolor": "white",
            "gridwidth": 2,
            "linecolor": "white",
            "showbackground": true,
            "ticks": "",
            "zerolinecolor": "white"
           },
           "zaxis": {
            "backgroundcolor": "#E5ECF6",
            "gridcolor": "white",
            "gridwidth": 2,
            "linecolor": "white",
            "showbackground": true,
            "ticks": "",
            "zerolinecolor": "white"
           }
          },
          "shapedefaults": {
           "line": {
            "color": "#2a3f5f"
           }
          },
          "ternary": {
           "aaxis": {
            "gridcolor": "white",
            "linecolor": "white",
            "ticks": ""
           },
           "baxis": {
            "gridcolor": "white",
            "linecolor": "white",
            "ticks": ""
           },
           "bgcolor": "#E5ECF6",
           "caxis": {
            "gridcolor": "white",
            "linecolor": "white",
            "ticks": ""
           }
          },
          "title": {
           "x": 0.05
          },
          "xaxis": {
           "automargin": true,
           "gridcolor": "white",
           "linecolor": "white",
           "ticks": "",
           "title": {
            "standoff": 15
           },
           "zerolinecolor": "white",
           "zerolinewidth": 2
          },
          "yaxis": {
           "automargin": true,
           "gridcolor": "white",
           "linecolor": "white",
           "ticks": "",
           "title": {
            "standoff": 15
           },
           "zerolinecolor": "white",
           "zerolinewidth": 2
          }
         }
        },
        "width": 1000
       }
      },
      "text/html": [
       "<div>                            <div id=\"3beec510-3cd4-40a4-a26f-485aad064b27\" class=\"plotly-graph-div\" style=\"height:700px; width:1000px;\"></div>            <script type=\"text/javascript\">                require([\"plotly\"], function(Plotly) {                    window.PLOTLYENV=window.PLOTLYENV || {};                                    if (document.getElementById(\"3beec510-3cd4-40a4-a26f-485aad064b27\")) {                    Plotly.newPlot(                        \"3beec510-3cd4-40a4-a26f-485aad064b27\",                        [{\"hovertemplate\":\"<b>%{hovertext}</b><br><br>size=%{marker.size}<br>lat=%{lat}<br>lon=%{lon}<extra></extra>\",\"hovertext\":[\"\\u041f\\u0430\\u0440\\u043a \\u043a\\u0443\\u043b\\u044c\\u0442\\u0443\\u0440\\u044b\",\"\\u041f\\u0440\\u0435\\u043e\\u0431\\u0440\\u0430\\u0436\\u0435\\u043d\\u0441\\u043a\\u0430\\u044f \\u043f\\u043b\\u043e\\u0449\\u0430\\u0434\\u044c\",\"\\u041f\\u0440\\u043e\\u0441\\u043f\\u0435\\u043a\\u0442 \\u0412\\u0435\\u0440\\u043d\\u0430\\u0434\\u0441\\u043a\\u043e\\u0433\\u043e\",\"\\u0421\\u043e\\u043a\\u043e\\u043b\\u044c\\u043d\\u0438\\u043a\\u0438\",\"\\u0421\\u043f\\u043e\\u0440\\u0442\\u0438\\u0432\\u043d\\u0430\\u044f\",\"\\u0411\\u0443\\u043b\\u044c\\u0432\\u0430\\u0440 \\u0420\\u043e\\u043a\\u043e\\u0441\\u0441\\u043e\\u0432\\u0441\\u043a\\u043e\\u0433\\u043e\",\"\\u0423\\u043d\\u0438\\u0432\\u0435\\u0440\\u0441\\u0438\\u0442\\u0435\\u0442\",\"\\u0424\\u0440\\u0443\\u043d\\u0437\\u0435\\u043d\\u0441\\u043a\\u0430\\u044f\",\"\\u042e\\u0433\\u043e-\\u0417\\u0430\\u043f\\u0430\\u0434\\u043d\\u0430\\u044f\",\"\\u0420\\u0443\\u043c\\u044f\\u043d\\u0446\\u0435\\u0432\\u043e\",\"\\u041a\\u043e\\u043c\\u0441\\u043e\\u043c\\u043e\\u043b\\u044c\\u0441\\u043a\\u0430\\u044f\",\"\\u041a\\u0440\\u0430\\u0441\\u043d\\u043e\\u0441\\u0435\\u043b\\u044c\\u0441\\u043a\\u0430\\u044f\",\"\\u041a\\u0440\\u0430\\u0441\\u043d\\u044b\\u0435 \\u0432\\u043e\\u0440\\u043e\\u0442\\u0430\",\"\\u041a\\u0440\\u043e\\u043f\\u043e\\u0442\\u043a\\u0438\\u043d\\u0441\\u043a\\u0430\\u044f\",\"\\u041a\\u043e\\u043c\\u043c\\u0443\\u043d\\u0430\\u0440\\u043a\\u0430\",\"\\u041e\\u0445\\u043e\\u0442\\u043d\\u044b\\u0439 \\u0440\\u044f\\u0434\",\"\\u041f\\u0435\\u0447\\u0430\\u0442\\u043d\\u0438\\u043a\\u0438\",\"\\u0421\\u0440\\u0435\\u0442\\u0435\\u043d\\u0441\\u043a\\u0438\\u0439 \\u0431\\u0443\\u043b\\u044c\\u0432\\u0430\\u0440\",\"\\u0422\\u0440\\u0443\\u0431\\u043d\\u0430\\u044f\",\"\\u0414\\u043e\\u0441\\u0442\\u043e\\u0435\\u0432\\u0441\\u043a\\u0430\\u044f\",\"\\u041c\\u0430\\u0440\\u044c\\u0438\\u043d\\u0430 \\u0420\\u043e\\u0449\\u0430\",\"\\u0412\\u043e\\u043b\\u0436\\u0441\\u043a\\u0430\\u044f\",\"\\u0411\\u0443\\u0442\\u044b\\u0440\\u0441\\u043a\\u0430\\u044f \",\"\\u041e\\u043a\\u0440\\u0443\\u0436\\u043d\\u0430\\u044f\",\"\\u041a\\u0440\\u0435\\u0441\\u0442\\u044c\\u044f\\u043d\\u0441\\u043a\\u0430\\u044f \\u0437\\u0430\\u0441\\u0442\\u0430\\u0432\\u0430\",\"\\u0427\\u043a\\u0430\\u043b\\u043e\\u0432\\u0441\\u043a\\u0430\\u044f\",\"\\u0411\\u0443\\u043b\\u044c\\u0432\\u0430\\u0440 \\u0410\\u0434\\u043c\\u0438\\u0440\\u0430\\u043b\\u0430 \\u0423\\u0448\\u0430\\u043a\\u043e\\u0432\\u0430\",\"\\u041b\\u043e\\u0431\\u043d\\u044f\",\"\\u041d\\u043e\\u0432\\u043e\\u0434\\u0430\\u0447\\u043d\\u0430\\u044f\",\"\\u0422\\u0435\\u0441\\u0442\\u043e\\u0432\\u0441\\u043a\\u0430\\u044f\",\"\\u0421\\u0435\\u0442\\u0443\\u043d\\u044c\",\"\\u0421\\u043a\\u043e\\u043b\\u043a\\u043e\\u0432\\u043e\",\"\\u041e\\u0434\\u0438\\u043d\\u0446\\u043e\\u0432\\u043e\",\"\\u041a\\u0440\\u0430\\u0441\\u043d\\u044b\\u0439 \\u0411\\u0430\\u043b\\u0442\\u0438\\u0435\\u0446\",\"\\u041d\\u043e\\u0432\\u043e\\u0445\\u043e\\u0445\\u043b\\u043e\\u0432\\u0441\\u043a\\u0430\\u044f\",\"\\u041f\\u043e\\u043a\\u0440\\u043e\\u0432\\u0441\\u043a\\u043e\\u0435\",\"\\u0414\\u0435\\u043b\\u043e\\u0432\\u043e\\u0439 \\u0446\\u0435\\u043d\\u0442\\u0440\",\"\\u041f\\u0430\\u0440\\u043a \\u041f\\u043e\\u0431\\u0435\\u0434\\u044b\",\"\\u041b\\u043e\\u043c\\u043e\\u043d\\u043e\\u0441\\u043e\\u0432\\u0441\\u043a\\u0438\\u0439 \\u043f\\u0440\\u043e\\u0441\\u043f\\u0435\\u043a\\u0442\",\"\\u0413\\u043e\\u0432\\u043e\\u0440\\u043e\\u0432\\u043e \",\"\\u0411\\u043e\\u0440\\u043e\\u0432\\u0441\\u043a\\u043e\\u0435 \\u0448\\u043e\\u0441\\u0441\\u0435\",\"\\u0413\\u043e\\u0440\\u044c\\u043a\\u043e\\u0432\\u0441\\u043a\\u0430\\u044f\",\"\\u041f\\u0430\\u0432\\u0435\\u043b\\u0435\\u0446\\u043a\\u0430\\u044f\",\"\\u0410\\u044d\\u0440\\u043e\\u043f\\u043e\\u0440\\u0442\",\"\\u0421\\u043e\\u043a\\u043e\\u043b\",\"\\u0411\\u0435\\u043b\\u043e\\u0440\\u0443\\u0441\\u0441\\u043a\\u0430\\u044f\",\"\\u0410\\u0432\\u0442\\u043e\\u0437\\u0430\\u0432\\u043e\\u0434\\u0441\\u043a\\u0430\\u044f\",\"\\u0412\\u043e\\u0434\\u043d\\u044b\\u0439 \\u0441\\u0442\\u0430\\u0434\\u0438\\u043e\\u043d\",\"\\u0414\\u0438\\u043d\\u0430\\u043c\\u043e\",\"\\u0422\\u0435\\u0445\\u043d\\u043e\\u043f\\u0430\\u0440\\u043a\",\"\\u0411\\u0435\\u043b\\u043e\\u043c\\u043e\\u0440\\u0441\\u043a\\u0430\\u044f\",\"\\u041c\\u0430\\u044f\\u043a\\u043e\\u0432\\u0441\\u043a\\u0430\\u044f\",\"\\u041d\\u043e\\u0432\\u043e\\u043a\\u0443\\u0437\\u043d\\u0435\\u0446\\u043a\\u0430\\u044f\",\"\\u041f\\u043b\\u043e\\u0449\\u0430\\u0434\\u044c \\u0420\\u0435\\u0432\\u043e\\u043b\\u044e\\u0446\\u0438\\u0438\",\"\\u041f\\u0430\\u0440\\u0442\\u0438\\u0437\\u0430\\u043d\\u0441\\u043a\\u0430\\u044f\",\"\\u041f\\u0435\\u0440\\u0432\\u043e\\u043c\\u0430\\u0439\\u0441\\u043a\\u0430\\u044f\",\"\\u0421\\u0435\\u043c\\u0435\\u043d\\u043e\\u0432\\u0441\\u043a\\u0430\\u044f\",\"\\u0421\\u043c\\u043e\\u043b\\u0435\\u043d\\u0441\\u043a\\u0430\\u044f\",\"\\u042d\\u043b\\u0435\\u043a\\u0442\\u0440\\u043e\\u0437\\u0430\\u0432\\u043e\\u0434\\u0441\\u043a\\u0430\\u044f\",\"\\u0411\\u0430\\u0443\\u043c\\u0430\\u043d\\u0441\\u043a\\u0430\\u044f\",\"\\u041f\\u0430\\u0440\\u043a \\u041f\\u043e\\u0431\\u0435\\u0434\\u044b\",\"\\u0421\\u0442\\u0440\\u043e\\u0433\\u0438\\u043d\\u043e\",\"\\u0421\\u043b\\u0430\\u0432\\u044f\\u043d\\u0441\\u043a\\u0438\\u0439 \\u0431\\u0443\\u043b\\u044c\\u0432\\u0430\\u0440\",\"\\u041c\\u044f\\u043a\\u0438\\u043d\\u0438\\u043d\\u043e\",\"\\u041a\\u0438\\u0435\\u0432\\u0441\\u043a\\u0430\\u044f\",\"\\u0410\\u0440\\u0431\\u0430\\u0442\\u0441\\u043a\\u0430\\u044f\",\"\\u041a\\u0440\\u044b\\u043b\\u0430\\u0442\\u0441\\u043a\\u043e\\u0435\",\"\\u041a\\u0443\\u043d\\u0446\\u0435\\u0432\\u0441\\u043a\\u0430\\u044f\",\"\\u041a\\u0443\\u0440\\u0441\\u043a\\u0430\\u044f\",\"\\u041c\\u043e\\u043b\\u043e\\u0434\\u0435\\u0436\\u043d\\u0430\\u044f\",\"\\u0421\\u043c\\u043e\\u043b\\u0435\\u043d\\u0441\\u043a\\u0430\\u044f\",\"\\u0411\\u0430\\u0433\\u0440\\u0430\\u0442\\u0438\\u043e\\u043d\\u043e\\u0432\\u0441\\u043a\\u0430\\u044f\",\"\\u0424\\u0438\\u043b\\u0438\",\"\\u0412\\u044b\\u0441\\u0442\\u0430\\u0432\\u043e\\u0447\\u043d\\u0430\\u044f\",\"\\u041c\\u0435\\u0436\\u0434\\u0443\\u043d\\u0430\\u0440\\u043e\\u0434\\u043d\\u0430\\u044f\",\"\\u041a\\u0438\\u0435\\u0432\\u0441\\u043a\\u0430\\u044f\",\"\\u041a\\u0443\\u0442\\u0443\\u0437\\u043e\\u0432\\u0441\\u043a\\u0430\\u044f\",\"\\u041f\\u0430\\u0432\\u0435\\u043b\\u0435\\u0446\\u043a\\u0430\\u044f\",\"\\u041f\\u0430\\u0440\\u043a \\u043a\\u0443\\u043b\\u044c\\u0442\\u0443\\u0440\\u044b\",\"\\u041f\\u0440\\u043e\\u0441\\u043f\\u0435\\u043a\\u0442 \\u041c\\u0438\\u0440\\u0430\",\"\\u0411\\u0435\\u043b\\u043e\\u0440\\u0443\\u0441\\u0441\\u043a\\u0430\\u044f\",\"\\u0414\\u043e\\u0431\\u0440\\u044b\\u043d\\u0438\\u043d\\u0441\\u043a\\u0430\\u044f\",\"\\u041a\\u0438\\u0435\\u0432\\u0441\\u043a\\u0430\\u044f\",\"\\u041a\\u043e\\u043c\\u0441\\u043e\\u043c\\u043e\\u043b\\u044c\\u0441\\u043a\\u0430\\u044f\",\"\\u041a\\u0440\\u0430\\u0441\\u043d\\u043e\\u043f\\u0440\\u0435\\u0441\\u043d\\u0435\\u043d\\u0441\\u043a\\u0430\\u044f\",\"\\u041a\\u0443\\u0440\\u0441\\u043a\\u0430\\u044f\",\"\\u0422\\u0430\\u0433\\u0430\\u043d\\u0441\\u043a\\u0430\\u044f\",\"\\u041d\\u043e\\u0432\\u043e\\u0441\\u043b\\u043e\\u0431\\u043e\\u0434\\u0441\\u043a\\u0430\\u044f\",\"\\u041e\\u043a\\u0442\\u044f\\u0431\\u0440\\u044c\\u0441\\u043a\\u0430\\u044f\",\"\\u041f\\u0440\\u043e\\u0441\\u043f\\u0435\\u043a\\u0442 \\u041c\\u0438\\u0440\\u0430\",\"\\u041f\\u0440\\u043e\\u0444\\u0441\\u043e\\u044e\\u0437\\u043d\\u0430\\u044f\",\"\\u0420\\u0438\\u0436\\u0441\\u043a\\u0430\\u044f\",\"\\u0411\\u0430\\u0431\\u0443\\u0448\\u043a\\u0438\\u043d\\u0441\\u043a\\u0430\\u044f\",\"\\u0421\\u0443\\u0445\\u0430\\u0440\\u0435\\u0432\\u0441\\u043a\\u0430\\u044f\",\"\\u0422\\u0435\\u043f\\u043b\\u044b\\u0439 \\u0421\\u0442\\u0430\\u043d\",\"\\u0428\\u0430\\u0431\\u043e\\u043b\\u043e\\u0432\\u0441\\u043a\\u0430\\u044f\",\"\\u0411\\u0435\\u043b\\u044f\\u0435\\u0432\\u043e\",\"\\u041d\\u043e\\u0432\\u043e\\u044f\\u0441\\u0435\\u043d\\u0435\\u0432\\u0441\\u043a\\u0430\\u044f\",\"\\u0411\\u043e\\u0442\\u0430\\u043d\\u0438\\u0447\\u0435\\u0441\\u043a\\u0438\\u0439 \\u0441\\u0430\\u0434\",\"\\u0412\\u0414\\u041d\\u0425\",\"\\u0410\\u043a\\u0430\\u0434\\u0435\\u043c\\u0438\\u0447\\u0435\\u0441\\u043a\\u0430\\u044f\",\"\\u041a\\u0430\\u043b\\u0443\\u0436\\u0441\\u043a\\u0430\\u044f\",\"\\u041a\\u0438\\u0442\\u0430\\u0439-\\u0433\\u043e\\u0440\\u043e\\u0434\",\"\\u041b\\u0435\\u043d\\u0438\\u043d\\u0441\\u043a\\u0438\\u0439 \\u043f\\u0440\\u043e\\u0441\\u043f\\u0435\\u043a\\u0442\",\"\\u0410\\u043b\\u0435\\u043a\\u0441\\u0435\\u0435\\u0432\\u0441\\u043a\\u0430\\u044f\",\"\\u041e\\u043a\\u0442\\u044f\\u0431\\u0440\\u044c\\u0441\\u043a\\u0430\\u044f\",\"\\u041f\\u043b\\u0430\\u043d\\u0435\\u0440\\u043d\\u0430\\u044f\",\"\\u041f\\u043e\\u043b\\u0435\\u0436\\u0430\\u0435\\u0432\\u0441\\u043a\\u0430\\u044f\",\"\\u041f\\u0443\\u0448\\u043a\\u0438\\u043d\\u0441\\u043a\\u0430\\u044f\",\"\\u0420\\u044f\\u0437\\u0430\\u043d\\u0441\\u043a\\u0438\\u0439 \\u043f\\u0440\\u043e\\u0441\\u043f\\u0435\\u043a\\u0442\",\"\\u0421\\u0445\\u043e\\u0434\\u043d\\u0435\\u043d\\u0441\\u043a\\u0430\\u044f\",\"\\u0422\\u0443\\u0448\\u0438\\u043d\\u0441\\u043a\\u0430\\u044f\",\"\\u0423\\u043b\\u0438\\u0446\\u0430 1905 \\u0433\\u043e\\u0434\\u0430\",\"\\u0411\\u0430\\u0440\\u0440\\u0438\\u043a\\u0430\\u0434\\u043d\\u0430\\u044f\",\"\\u0429\\u0443\\u043a\\u0438\\u043d\\u0441\\u043a\\u0430\\u044f\",\"\\u0411\\u0435\\u0433\\u043e\\u0432\\u0430\\u044f\",\"\\u0412\\u043e\\u043b\\u0433\\u043e\\u0433\\u0440\\u0430\\u0434\\u0441\\u043a\\u0438\\u0439 \\u043f\\u0440\\u043e\\u0441\\u043f\\u0435\\u043a\\u0442\",\"\\u0412\\u044b\\u0445\\u0438\\u043d\\u043e\",\"\\u0416\\u0443\\u043b\\u0435\\u0431\\u0438\\u043d\\u043e\",\"\\u041a\\u0438\\u0442\\u0430\\u0439-\\u0433\\u043e\\u0440\\u043e\\u0434\",\"\\u041a\\u0443\\u0437\\u043d\\u0435\\u0446\\u043a\\u0438\\u0439 \\u043c\\u043e\\u0441\\u0442\",\"\\u041e\\u043a\\u0442\\u044f\\u0431\\u0440\\u044c\\u0441\\u043a\\u043e\\u0435 \\u043f\\u043e\\u043b\\u0435\",\"\\u0410\\u0432\\u0438\\u0430\\u043c\\u043e\\u0442\\u043e\\u0440\\u043d\\u0430\\u044f\",\"\\u041f\\u0435\\u0440\\u043e\\u0432\\u043e\",\"\\u041f\\u043b\\u043e\\u0449\\u0430\\u0434\\u044c \\u0418\\u043b\\u044c\\u0438\\u0447\\u0430\",\"\\u041c\\u0430\\u0440\\u043a\\u0441\\u0438\\u0441\\u0442\\u0441\\u043a\\u0430\\u044f\",\"\\u0422\\u0440\\u0435\\u0442\\u044c\\u044f\\u043a\\u043e\\u0432\\u0441\\u043a\\u0430\\u044f\",\"\\u041f\\u043e\\u043b\\u044f\\u043d\\u043a\\u0430\",\"\\u041f\\u0440\\u0430\\u0436\\u0441\\u043a\\u0430\\u044f\",\"\\u0427\\u0435\\u0445\\u043e\\u0432\\u0441\\u043a\\u0430\\u044f\",\"\\u0421\\u0430\\u0432\\u0451\\u043b\\u043e\\u0432\\u0441\\u043a\\u0430\\u044f\",\"\\u0422\\u0438\\u043c\\u0438\\u0440\\u044f\\u0437\\u0435\\u0432\\u0441\\u043a\\u0430\\u044f\",\"\\u0422\\u0443\\u043b\\u044c\\u0441\\u043a\\u0430\\u044f\",\"\\u0426\\u0432\\u0435\\u0442\\u043d\\u043e\\u0439 \\u0431\\u0443\\u043b\\u044c\\u0432\\u0430\\u0440\",\"\\u0427\\u0435\\u0440\\u0442\\u0430\\u043d\\u043e\\u0432\\u0441\\u043a\\u0430\\u044f\",\"\\u0411\\u0443\\u043b\\u044c\\u0432\\u0430\\u0440 \\u0414\\u043c\\u0438\\u0442\\u0440\\u0438\\u044f \\u0414\\u043e\\u043d\\u0441\\u043a\\u043e\\u0433\\u043e\",\"\\u0411\\u0438\\u0431\\u0438\\u0440\\u0435\\u0432\\u043e\",\"\\u0414\\u043c\\u0438\\u0442\\u0440\\u043e\\u0432\\u0441\\u043a\\u0430\\u044f\",\"\\u0421\\u0435\\u0440\\u043f\\u0443\\u0445\\u043e\\u0432\\u0441\\u043a\\u0430\\u044f\",\"\\u0421\\u0435\\u0432\\u0430\\u0441\\u0442\\u043e\\u043f\\u043e\\u043b\\u044c\\u0441\\u043a\\u0430\\u044f\",\"\\u041c\\u0435\\u043d\\u0434\\u0435\\u043b\\u0435\\u0435\\u0432\\u0441\\u043a\\u0430\\u044f\",\"\\u041d\\u0430\\u0433\\u0430\\u0442\\u0438\\u043d\\u0441\\u043a\\u0430\\u044f\",\"\\u041d\\u0430\\u0433\\u043e\\u0440\\u043d\\u0430\\u044f\",\"\\u041d\\u0430\\u0445\\u0438\\u043c\\u043e\\u0432\\u0441\\u043a\\u0438\\u0439 \\u043f\\u0440\\u043e\\u0441\\u043f\\u0435\\u043a\\u0442\",\"\\u0410\\u043b\\u0442\\u0443\\u0444\\u044c\\u0435\\u0432\\u043e\",\"\\u041e\\u0442\\u0440\\u0430\\u0434\\u043d\\u043e\\u0435\",\"\\u0411\\u043e\\u0442\\u0430\\u043d\\u0438\\u0447\\u0435\\u0441\\u043a\\u0438\\u0439 \\u0441\\u0430\\u0434\",\"\\u0414\\u0443\\u0431\\u0440\\u043e\\u0432\\u043a\\u0430\",\"\\u0410\\u0432\\u0442\\u043e\\u0437\\u0430\\u0432\\u043e\\u0434\\u0441\\u043a\\u0430\\u044f\",\"\\u041b\\u0443\\u0436\\u043d\\u0438\\u043a\\u0438\",\"\\u0414\\u0435\\u043b\\u043e\\u0432\\u043e\\u0439 \\u0446\\u0435\\u043d\\u0442\\u0440\",\"\\u0417\\u043e\\u0440\\u0433\\u0435\",\"\\u041f\\u0430\\u043d\\u0444\\u0438\\u043b\\u043e\\u0432\\u0441\\u043a\\u0430\\u044f\",\"\\u0411\\u0430\\u043b\\u0442\\u0438\\u0439\\u0441\\u043a\\u0430\\u044f\",\"\\u0422\\u0435\\u043b\\u0435\\u0446\\u0435\\u043d\\u0442\\u0440\",\"\\u0425\\u043e\\u0440\\u043e\\u0448\\u0435\\u0432\\u0441\\u043a\\u0430\\u044f\",\"\\u0414\\u0435\\u043b\\u043e\\u0432\\u043e\\u0439 \\u0446\\u0435\\u043d\\u0442\\u0440\",\"\\u041a\\u043e\\u0441\\u0438\\u043d\\u043e\"],\"lat\":[55.736163,55.796322,55.676549,55.789282,55.722388,55.814916,55.69329,55.727462,55.663146,55.633,55.774072,55.780014,55.768307,55.745297,55.559765,55.757228,55.692921,55.766106,55.76771,55.781667,55.793723,55.690446,55.813333,55.848889,55.732278,55.755951,55.545207,56.0048,55.924459,55.754292,55.723713,55.666801,55.67798,55.815514,55.718523,55.814247,55.7491,55.736478,55.7055,55.6588,55.647,59.956112,55.729741,55.800441,55.805564,55.777439,55.706634,55.838978,55.789704,55.695,55.8651,55.769808,55.742391,55.756741,55.788401,55.794376,55.783096,55.747713,55.782057,55.772405,55.735679,55.803831,55.729542,55.823342,55.743117,55.752312,55.756842,55.730673,55.758564,55.741375,55.749083,55.743544,55.746763,55.750243,55.748324,55.743168,55.740544,55.731414,55.735221,55.779584,55.775179,55.728994,55.74361,55.775672,55.760378,55.758631,55.742396,55.779606,55.729264,55.781827,55.677671,55.792494,55.870641,55.772315,55.61873,55.718828,55.642357,55.601947,55.844597,55.819626,55.687147,55.656682,55.756498,55.70678,55.807794,55.731232,55.859676,55.777201,55.765607,55.716139,55.84926,55.825479,55.763944,55.760793,55.8094,55.773505,55.725546,55.715983,55.684722,55.75436,55.761498,55.793581,55.751933,55.75098,55.747115,55.740746,55.741125,55.736795,55.610962,55.765747,55.794054,55.81866,55.70961,55.771653,55.640538,55.568201,55.883868,55.808056,55.726548,55.651451,55.781999,55.682099,55.672962,55.662379,55.899034,55.864273,55.845556,55.71268,55.70631,55.720278,55.747222,55.787778,55.799167,55.825833,55.821795,55.77643,55.7491,55.7026],\"legendgroup\":\"\",\"lon\":[37.595027,37.713582,37.504584,37.679895,37.562041,37.732227,37.534511,37.58022,37.482852,37.4419,37.654565,37.666097,37.6478,37.604217,37.468716,37.615078,37.728338,37.635688,37.621926,37.613889,37.61618,37.754314,37.602778,37.571111,37.665325,37.659293,37.542329,37.29057,37.527877,37.531551,37.397259,37.424618,37.27773,37.526367,37.719236,37.47678,37.5395,37.514401,37.5225,37.4174,37.3701,30.31889,37.638693,37.530477,37.515245,37.582107,37.657008,37.487515,37.558212,37.664167,37.4764,37.596192,37.62928,37.62236,37.74882,37.799364,37.719289,37.583802,37.7053,37.67904,37.516865,37.402405,37.470973,37.385214,37.564132,37.60349,37.408139,37.446522,37.659039,37.415627,37.582173,37.497042,37.514035,37.542641,37.533282,37.565425,37.5341,37.636294,37.593095,37.633646,37.582303,37.622533,37.56735,37.654772,37.577114,37.661059,37.653334,37.601252,37.611049,37.633199,37.562595,37.636114,37.664341,37.63285,37.505912,37.607892,37.526115,37.553017,37.637811,37.640751,37.5723,37.540075,37.631326,37.58499,37.638699,37.612851,37.436808,37.517895,37.604356,37.792694,37.44076,37.437024,37.562271,37.581242,37.463241,37.545518,37.685197,37.816788,37.855833,37.633877,37.624423,37.493317,37.717444,37.78422,37.680726,37.65604,37.626142,37.618594,37.602386,37.608493,37.587163,37.574498,37.622569,37.620466,37.606065,37.576856,37.603011,37.581734,37.624792,37.59809,37.599141,37.620917,37.610397,37.605274,37.586473,37.605066,37.640278,37.677775,37.66314,37.563056,37.532222,37.504444,37.498889,37.496111,37.608975,37.51981,37.5395,37.8511],\"marker\":{\"color\":\"purple\",\"size\":[2,10,5,4,2,1,2,2,3,13,2,4,3,6,2,1,1,3,2,8,4,1,1,2,4,2,1,1,1,1,1,3,1,2,1,2,3,2,1,1,1,3,30,24,6,31,6,21,19,31,2,9,8,1,1,1,2,2,3,38,8,3,7,14,10,1,15,2,15,3,4,1,1,18,4,2,5,2,3,11,7,4,11,2,5,3,3,2,2,5,4,1,1,3,2,8,1,1,5,3,1,17,8,4,4,2,2,3,6,1,6,1,14,10,2,8,3,1,1,5,7,3,8,1,4,2,2,5,1,1,19,1,17,5,1,3,2,11,7,1,1,10,3,8,3,10,1,1,1,1,14,2,1,3,1,1,6,1],\"sizemode\":\"area\",\"sizeref\":0.095},\"mode\":\"markers\",\"name\":\"\",\"showlegend\":false,\"subplot\":\"mapbox\",\"type\":\"scattermapbox\"}],                        {\"template\":{\"data\":{\"bar\":[{\"error_x\":{\"color\":\"#2a3f5f\"},\"error_y\":{\"color\":\"#2a3f5f\"},\"marker\":{\"line\":{\"color\":\"#E5ECF6\",\"width\":0.5},\"pattern\":{\"fillmode\":\"overlay\",\"size\":10,\"solidity\":0.2}},\"type\":\"bar\"}],\"barpolar\":[{\"marker\":{\"line\":{\"color\":\"#E5ECF6\",\"width\":0.5},\"pattern\":{\"fillmode\":\"overlay\",\"size\":10,\"solidity\":0.2}},\"type\":\"barpolar\"}],\"carpet\":[{\"aaxis\":{\"endlinecolor\":\"#2a3f5f\",\"gridcolor\":\"white\",\"linecolor\":\"white\",\"minorgridcolor\":\"white\",\"startlinecolor\":\"#2a3f5f\"},\"baxis\":{\"endlinecolor\":\"#2a3f5f\",\"gridcolor\":\"white\",\"linecolor\":\"white\",\"minorgridcolor\":\"white\",\"startlinecolor\":\"#2a3f5f\"},\"type\":\"carpet\"}],\"choropleth\":[{\"colorbar\":{\"outlinewidth\":0,\"ticks\":\"\"},\"type\":\"choropleth\"}],\"contour\":[{\"colorbar\":{\"outlinewidth\":0,\"ticks\":\"\"},\"colorscale\":[[0.0,\"#0d0887\"],[0.1111111111111111,\"#46039f\"],[0.2222222222222222,\"#7201a8\"],[0.3333333333333333,\"#9c179e\"],[0.4444444444444444,\"#bd3786\"],[0.5555555555555556,\"#d8576b\"],[0.6666666666666666,\"#ed7953\"],[0.7777777777777778,\"#fb9f3a\"],[0.8888888888888888,\"#fdca26\"],[1.0,\"#f0f921\"]],\"type\":\"contour\"}],\"contourcarpet\":[{\"colorbar\":{\"outlinewidth\":0,\"ticks\":\"\"},\"type\":\"contourcarpet\"}],\"heatmap\":[{\"colorbar\":{\"outlinewidth\":0,\"ticks\":\"\"},\"colorscale\":[[0.0,\"#0d0887\"],[0.1111111111111111,\"#46039f\"],[0.2222222222222222,\"#7201a8\"],[0.3333333333333333,\"#9c179e\"],[0.4444444444444444,\"#bd3786\"],[0.5555555555555556,\"#d8576b\"],[0.6666666666666666,\"#ed7953\"],[0.7777777777777778,\"#fb9f3a\"],[0.8888888888888888,\"#fdca26\"],[1.0,\"#f0f921\"]],\"type\":\"heatmap\"}],\"heatmapgl\":[{\"colorbar\":{\"outlinewidth\":0,\"ticks\":\"\"},\"colorscale\":[[0.0,\"#0d0887\"],[0.1111111111111111,\"#46039f\"],[0.2222222222222222,\"#7201a8\"],[0.3333333333333333,\"#9c179e\"],[0.4444444444444444,\"#bd3786\"],[0.5555555555555556,\"#d8576b\"],[0.6666666666666666,\"#ed7953\"],[0.7777777777777778,\"#fb9f3a\"],[0.8888888888888888,\"#fdca26\"],[1.0,\"#f0f921\"]],\"type\":\"heatmapgl\"}],\"histogram\":[{\"marker\":{\"pattern\":{\"fillmode\":\"overlay\",\"size\":10,\"solidity\":0.2}},\"type\":\"histogram\"}],\"histogram2d\":[{\"colorbar\":{\"outlinewidth\":0,\"ticks\":\"\"},\"colorscale\":[[0.0,\"#0d0887\"],[0.1111111111111111,\"#46039f\"],[0.2222222222222222,\"#7201a8\"],[0.3333333333333333,\"#9c179e\"],[0.4444444444444444,\"#bd3786\"],[0.5555555555555556,\"#d8576b\"],[0.6666666666666666,\"#ed7953\"],[0.7777777777777778,\"#fb9f3a\"],[0.8888888888888888,\"#fdca26\"],[1.0,\"#f0f921\"]],\"type\":\"histogram2d\"}],\"histogram2dcontour\":[{\"colorbar\":{\"outlinewidth\":0,\"ticks\":\"\"},\"colorscale\":[[0.0,\"#0d0887\"],[0.1111111111111111,\"#46039f\"],[0.2222222222222222,\"#7201a8\"],[0.3333333333333333,\"#9c179e\"],[0.4444444444444444,\"#bd3786\"],[0.5555555555555556,\"#d8576b\"],[0.6666666666666666,\"#ed7953\"],[0.7777777777777778,\"#fb9f3a\"],[0.8888888888888888,\"#fdca26\"],[1.0,\"#f0f921\"]],\"type\":\"histogram2dcontour\"}],\"mesh3d\":[{\"colorbar\":{\"outlinewidth\":0,\"ticks\":\"\"},\"type\":\"mesh3d\"}],\"parcoords\":[{\"line\":{\"colorbar\":{\"outlinewidth\":0,\"ticks\":\"\"}},\"type\":\"parcoords\"}],\"pie\":[{\"automargin\":true,\"type\":\"pie\"}],\"scatter\":[{\"marker\":{\"colorbar\":{\"outlinewidth\":0,\"ticks\":\"\"}},\"type\":\"scatter\"}],\"scatter3d\":[{\"line\":{\"colorbar\":{\"outlinewidth\":0,\"ticks\":\"\"}},\"marker\":{\"colorbar\":{\"outlinewidth\":0,\"ticks\":\"\"}},\"type\":\"scatter3d\"}],\"scattercarpet\":[{\"marker\":{\"colorbar\":{\"outlinewidth\":0,\"ticks\":\"\"}},\"type\":\"scattercarpet\"}],\"scattergeo\":[{\"marker\":{\"colorbar\":{\"outlinewidth\":0,\"ticks\":\"\"}},\"type\":\"scattergeo\"}],\"scattergl\":[{\"marker\":{\"colorbar\":{\"outlinewidth\":0,\"ticks\":\"\"}},\"type\":\"scattergl\"}],\"scattermapbox\":[{\"marker\":{\"colorbar\":{\"outlinewidth\":0,\"ticks\":\"\"}},\"type\":\"scattermapbox\"}],\"scatterpolar\":[{\"marker\":{\"colorbar\":{\"outlinewidth\":0,\"ticks\":\"\"}},\"type\":\"scatterpolar\"}],\"scatterpolargl\":[{\"marker\":{\"colorbar\":{\"outlinewidth\":0,\"ticks\":\"\"}},\"type\":\"scatterpolargl\"}],\"scatterternary\":[{\"marker\":{\"colorbar\":{\"outlinewidth\":0,\"ticks\":\"\"}},\"type\":\"scatterternary\"}],\"surface\":[{\"colorbar\":{\"outlinewidth\":0,\"ticks\":\"\"},\"colorscale\":[[0.0,\"#0d0887\"],[0.1111111111111111,\"#46039f\"],[0.2222222222222222,\"#7201a8\"],[0.3333333333333333,\"#9c179e\"],[0.4444444444444444,\"#bd3786\"],[0.5555555555555556,\"#d8576b\"],[0.6666666666666666,\"#ed7953\"],[0.7777777777777778,\"#fb9f3a\"],[0.8888888888888888,\"#fdca26\"],[1.0,\"#f0f921\"]],\"type\":\"surface\"}],\"table\":[{\"cells\":{\"fill\":{\"color\":\"#EBF0F8\"},\"line\":{\"color\":\"white\"}},\"header\":{\"fill\":{\"color\":\"#C8D4E3\"},\"line\":{\"color\":\"white\"}},\"type\":\"table\"}]},\"layout\":{\"annotationdefaults\":{\"arrowcolor\":\"#2a3f5f\",\"arrowhead\":0,\"arrowwidth\":1},\"autotypenumbers\":\"strict\",\"coloraxis\":{\"colorbar\":{\"outlinewidth\":0,\"ticks\":\"\"}},\"colorscale\":{\"diverging\":[[0,\"#8e0152\"],[0.1,\"#c51b7d\"],[0.2,\"#de77ae\"],[0.3,\"#f1b6da\"],[0.4,\"#fde0ef\"],[0.5,\"#f7f7f7\"],[0.6,\"#e6f5d0\"],[0.7,\"#b8e186\"],[0.8,\"#7fbc41\"],[0.9,\"#4d9221\"],[1,\"#276419\"]],\"sequential\":[[0.0,\"#0d0887\"],[0.1111111111111111,\"#46039f\"],[0.2222222222222222,\"#7201a8\"],[0.3333333333333333,\"#9c179e\"],[0.4444444444444444,\"#bd3786\"],[0.5555555555555556,\"#d8576b\"],[0.6666666666666666,\"#ed7953\"],[0.7777777777777778,\"#fb9f3a\"],[0.8888888888888888,\"#fdca26\"],[1.0,\"#f0f921\"]],\"sequentialminus\":[[0.0,\"#0d0887\"],[0.1111111111111111,\"#46039f\"],[0.2222222222222222,\"#7201a8\"],[0.3333333333333333,\"#9c179e\"],[0.4444444444444444,\"#bd3786\"],[0.5555555555555556,\"#d8576b\"],[0.6666666666666666,\"#ed7953\"],[0.7777777777777778,\"#fb9f3a\"],[0.8888888888888888,\"#fdca26\"],[1.0,\"#f0f921\"]]},\"colorway\":[\"#636efa\",\"#EF553B\",\"#00cc96\",\"#ab63fa\",\"#FFA15A\",\"#19d3f3\",\"#FF6692\",\"#B6E880\",\"#FF97FF\",\"#FECB52\"],\"font\":{\"color\":\"#2a3f5f\"},\"geo\":{\"bgcolor\":\"white\",\"lakecolor\":\"white\",\"landcolor\":\"#E5ECF6\",\"showlakes\":true,\"showland\":true,\"subunitcolor\":\"white\"},\"hoverlabel\":{\"align\":\"left\"},\"hovermode\":\"closest\",\"mapbox\":{\"style\":\"light\"},\"paper_bgcolor\":\"white\",\"plot_bgcolor\":\"#E5ECF6\",\"polar\":{\"angularaxis\":{\"gridcolor\":\"white\",\"linecolor\":\"white\",\"ticks\":\"\"},\"bgcolor\":\"#E5ECF6\",\"radialaxis\":{\"gridcolor\":\"white\",\"linecolor\":\"white\",\"ticks\":\"\"}},\"scene\":{\"xaxis\":{\"backgroundcolor\":\"#E5ECF6\",\"gridcolor\":\"white\",\"gridwidth\":2,\"linecolor\":\"white\",\"showbackground\":true,\"ticks\":\"\",\"zerolinecolor\":\"white\"},\"yaxis\":{\"backgroundcolor\":\"#E5ECF6\",\"gridcolor\":\"white\",\"gridwidth\":2,\"linecolor\":\"white\",\"showbackground\":true,\"ticks\":\"\",\"zerolinecolor\":\"white\"},\"zaxis\":{\"backgroundcolor\":\"#E5ECF6\",\"gridcolor\":\"white\",\"gridwidth\":2,\"linecolor\":\"white\",\"showbackground\":true,\"ticks\":\"\",\"zerolinecolor\":\"white\"}},\"shapedefaults\":{\"line\":{\"color\":\"#2a3f5f\"}},\"ternary\":{\"aaxis\":{\"gridcolor\":\"white\",\"linecolor\":\"white\",\"ticks\":\"\"},\"baxis\":{\"gridcolor\":\"white\",\"linecolor\":\"white\",\"ticks\":\"\"},\"bgcolor\":\"#E5ECF6\",\"caxis\":{\"gridcolor\":\"white\",\"linecolor\":\"white\",\"ticks\":\"\"}},\"title\":{\"x\":0.05},\"xaxis\":{\"automargin\":true,\"gridcolor\":\"white\",\"linecolor\":\"white\",\"ticks\":\"\",\"title\":{\"standoff\":15},\"zerolinecolor\":\"white\",\"zerolinewidth\":2},\"yaxis\":{\"automargin\":true,\"gridcolor\":\"white\",\"linecolor\":\"white\",\"ticks\":\"\",\"title\":{\"standoff\":15},\"zerolinecolor\":\"white\",\"zerolinewidth\":2}}},\"mapbox\":{\"domain\":{\"x\":[0.0,1.0],\"y\":[0.0,1.0]},\"center\":{\"lat\":55.753995,\"lon\":37.614069},\"zoom\":10,\"style\":\"open-street-map\"},\"legend\":{\"tracegroupgap\":0,\"itemsizing\":\"constant\"},\"margin\":{\"t\":60},\"height\":700,\"width\":1000},                        {\"responsive\": true}                    ).then(function(){\n",
       "                            \n",
       "var gd = document.getElementById('3beec510-3cd4-40a4-a26f-485aad064b27');\n",
       "var x = new MutationObserver(function (mutations, observer) {{\n",
       "        var display = window.getComputedStyle(gd).display;\n",
       "        if (!display || display === 'none') {{\n",
       "            console.log([gd, 'removed!']);\n",
       "            Plotly.purge(gd);\n",
       "            observer.disconnect();\n",
       "        }}\n",
       "}});\n",
       "\n",
       "// Listen for the removal of the full notebook cells\n",
       "var notebookContainer = gd.closest('#notebook-container');\n",
       "if (notebookContainer) {{\n",
       "    x.observe(notebookContainer, {childList: true});\n",
       "}}\n",
       "\n",
       "// Listen for the clearing of the current output cell\n",
       "var outputEl = gd.closest('.output');\n",
       "if (outputEl) {{\n",
       "    x.observe(outputEl, {childList: true});\n",
       "}}\n",
       "\n",
       "                        })                };                });            </script>        </div>"
      ]
     },
     "metadata": {},
     "output_type": "display_data"
    }
   ],
   "source": [
    "target_col = ['address.metro.station_id', 'address.metro.lat', 'address.metro.lng', 'address.metro.station_name']\n",
    "stages = ds_pages_df.groupby(target_col).count().reset_index()\n",
    "\n",
    "px.scatter_mapbox(\n",
    "    lat=stages['address.metro.lat'],\n",
    "    lon=stages['address.metro.lng'],\n",
    "    zoom=10,\n",
    "    color_discrete_sequence=[\"purple\"],\n",
    "    width=1000 ,\n",
    "    height=700,\n",
    "    center = dict(\n",
    "        lat = 55.753995,\n",
    "        lon = 37.614069,\n",
    "    ),\n",
    "    mapbox_style=\"open-street-map\",\n",
    "    size=stages['id'],\n",
    "    hover_name=stages['address.metro.station_name']\n",
    ")"
   ]
  },
  {
   "cell_type": "markdown",
   "metadata": {
    "pycharm": {
     "name": "#%% md\n"
    }
   },
   "source": [
    "Какие выводы можно сделать из построенных графиков?\n",
    "\n",
    "**Вывод:**\n",
    "Таким образом, офисы нанимателей располагаются ближе к центру Москвы. Внутри третьего транспортного кольца располагается подавляющее большинство вакансий, вне него не такое большое количество, что можно заметить по второму графику. Особая концентрация вакансия находится в районе Делового Центра в Москва-Сити, что связано с большим расположением офисов различных компаний и в Замоскорецком районе, где рядом с Павелецким вокзалом располагается крупный бизнес-центр.\n",
    "\n",
    "Популярными для размещения офисов нанимателей стали станции метро Бауманская, Белорусская, Павелецкая, Технопарк, Аэропорт, Динамо."
   ]
  }
 ],
 "metadata": {
  "colab": {
   "collapsed_sections": [],
   "name": "stats.ipynb",
   "provenance": [],
   "version": "0.3.2"
  },
  "hide_input": false,
  "kernelspec": {
   "display_name": "Python 3",
   "language": "python",
   "name": "python3"
  },
  "language_info": {
   "codemirror_mode": {
    "name": "ipython",
    "version": 3
   },
   "file_extension": ".py",
   "mimetype": "text/x-python",
   "name": "python",
   "nbconvert_exporter": "python",
   "pygments_lexer": "ipython3",
   "version": "3.8.10"
  },
  "latex_envs": {
   "LaTeX_envs_menu_present": true,
   "autoclose": true,
   "autocomplete": true,
   "bibliofile": "biblio.bib",
   "cite_by": "apalike",
   "current_citInitial": 1,
   "eqLabelWithNumbers": true,
   "eqNumInitial": 1,
   "hotkeys": {
    "equation": "Ctrl-E",
    "itemize": "Ctrl-I"
   },
   "labels_anchors": false,
   "latex_user_defs": false,
   "report_style_numbering": false,
   "user_envs_cfg": false
  }
 },
 "nbformat": 4,
 "nbformat_minor": 1
}
