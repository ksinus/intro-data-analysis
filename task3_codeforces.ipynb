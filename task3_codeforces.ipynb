{
 "cells":[
  {
   "cell_type":"markdown",
   "source":[
    "# <a href=\"https:\/\/mipt-stats.gitlab.io\/courses\/ad_fivt.html\">Введение в анализ данных<\/a>\n",
    "## Домашнее задание 3. Сбор и анализ данных.\n",
    "\n",
    "- [<a href=\"https:\/\/mipt-stats.gitlab.io\/courses\/ad_fivt.html\">Введение в анализ данных<\/a>](#<a-href=\"https:\/\/mipt-stats.gitlab.io\/courses\/ad_fivt.html\">Введение-в-анализ-данных<\/a>)\n",
    "    * [Работа с URL](attachment:.\/#Работа-с-URL)\n",
    "    * [Анализ сайта](attachment:.\/#Анализ-сайта)\n",
    "    * [Цель исследования](attachment:.\/#Цель-исследования)\n",
    "    * [Распределение количества слов](attachment:.\/#Распределение-количества-слов)\n",
    "    * [Визуализация страниц](attachment:.\/#Визуализация-страниц)\n",
    "    * [Новый критерий](attachment:.\/#Новый-критерий)\n",
    "    * [Выводы](attachment:.\/#Выводы)"
   ],
   "attachments":{
    
   },
   "metadata":{
    "datalore":{
     "type":"MD",
     "hide_input_from_viewers":false,
     "hide_output_from_viewers":false
    }
   }
  },
  {
   "cell_type":"code",
   "source":[
    "import numpy as np\n",
    "import pandas as pd\n",
    "import matplotlib.pyplot as plt\n",
    "import seaborn as sns\n",
    "\n",
    "from url_normalize import url_normalize\n",
    "from urllib.parse import urljoin\n",
    "from urllib.request import urlopen\n",
    "from bs4 import BeautifulSoup\n",
    "from queue import Queue\n",
    "import time\n",
    "\n",
    "sns.set(style='darkgrid', font_scale=1.3, palette='Set2')\n",
    "%matplotlib inline"
   ],
   "execution_count":14,
   "outputs":[
    
   ],
   "metadata":{
    "datalore":{
     "type":"CODE",
     "hide_input_from_viewers":false,
     "hide_output_from_viewers":false
    }
   }
  },
  {
   "cell_type":"markdown",
   "source":[
    "### Задача 3.\n",
    "#### Работа с URL\n",
    "В данной задаче вам предстоит распарсить сайт, который вы выберeте.\n",
    "\n",
    "Прочитайте, как именно функция `url_normalize` меняет ссылку, и приведите примеры $4$ урлов, которые нормализуются к одному и тому же. Примеры должны демонстрировать различные этапы процедуры нормализации. Одним из этих примеров может быть сам нормализованный урл."
   ],
   "attachments":{
    
   },
   "metadata":{
    "datalore":{
     "type":"MD",
     "hide_input_from_viewers":false,
     "hide_output_from_viewers":false
    }
   }
  },
  {
   "cell_type":"code",
   "source":[
    "print(url_normalize('http:\/\/www.example.com\/z%C2%B1b'))\n",
    "print(url_normalize('HTTP:\/\/www.example.com\/z%C2%B1b'))\n",
    "print(url_normalize('http:\/\/www.example.com:80\/z%C2%B1b'))\n",
    "print(url_normalize('http:\/\/www.example.com\/z%c2%b1b'))"
   ],
   "execution_count":3,
   "outputs":[
    {
     "name":"stdout",
     "text":[
      "http:\/\/www.example.com\/z%C2%B1b\n",
      "http:\/\/www.example.com\/z%C2%B1b\n",
      "http:\/\/www.example.com\/z%C2%B1b\n",
      "http:\/\/www.example.com\/z%C2%B1b\n"
     ],
     "output_type":"stream"
    }
   ],
   "metadata":{
    "datalore":{
     "type":"CODE",
     "hide_input_from_viewers":false,
     "hide_output_from_viewers":false
    }
   }
  },
  {
   "cell_type":"markdown",
   "source":[
    "#### Анализ сайта\n",
    "\n",
    "Изучите код, в котором скачиваются страницы сайта `simple.wikipedia.org` с <a href=\"https:\/\/mipt-stats.gitlab.io\/courses\/ad_fivt\/data_parsing.html\">занятия про парсинг данных<\/a> и **скопируйте его в решение данной задачи**. Код, реализующий обход в ширину с фильтрацией и нормализацией урлов, приведён в виде функции.\n",
    "\n",
    "Код обхода в ширину:"
   ],
   "attachments":{
    
   },
   "metadata":{
    "datalore":{
     "type":"MD",
     "hide_input_from_viewers":false,
     "hide_output_from_viewers":false
    }
   }
  },
  {
   "cell_type":"code",
   "source":[
    "def load_web_pages(seed, max_downloads, filtration_function):\n",
    "    \"\"\"Обходит web-страницы в ширину и загружает информацию о них.\n",
    "    \n",
    "    Принимает:\n",
    "        seed (str) -- страница, с которой начинать обход.\n",
    "        max_downloads (int) -- максимальное число загруженных страниц.\n",
    "        filtration_function (str -> bool) -- функция, указывающая, \n",
    "            стоит ли загружать страницу. Пример: is_wiki_article.\n",
    "            \n",
    "    Возвращает:\n",
    "        pages_json (list) - список словарей с информацией о страницах.\n",
    "    \"\"\"\n",
    "\n",
    "    # Создаём cписки с интересующими данными\n",
    "    pages_json = []\n",
    "    num_links = []\n",
    "    download_time = []\n",
    "    deep_level = []\n",
    "    \n",
    "    # Создаём очередь для обхода в ширину\n",
    "    q = Queue()\n",
    "    # Второй аргумент - глубина\n",
    "    q.put((seed, 0))\n",
    "\n",
    "    already_visited = set()\n",
    "    n_downloads = 0\n",
    "\n",
    "    while not q.empty():\n",
    "        # Нормализуем урл\n",
    "        url_queue, level = q.get()\n",
    "        main_url = url_normalize(url_queue)\n",
    "        if main_url in already_visited:\n",
    "            continue\n",
    "        already_visited.add(main_url)\n",
    "        \n",
    "        start = time.time()\n",
    "        html = download_from_the_internet(main_url)\n",
    "        end = time.time()\n",
    "        \n",
    "        if html is None or main_url is None:\n",
    "            continue\n",
    "  \n",
    "        # Извлекаем ссылки из страницы\n",
    "        children_links = extract_links_from_html(main_url, html)\n",
    "        time.sleep(1)\n",
    "\n",
    "        # Извлекаем текст страницы\n",
    "        text_info = extract_text_info_from_html(html)\n",
    "\n",
    "        # Добавляем запись в таблицу\n",
    "        text_info['url'] = main_url\n",
    "        \n",
    "        pages_json.append(text_info)\n",
    "        num_links.append(len(children_links))\n",
    "        download_time.append(end - start)\n",
    "        deep_level.append(level)\n",
    "\n",
    "        n_downloads += 1\n",
    "        if n_downloads > max_downloads:\n",
    "            break\n",
    "          \n",
    "        # Добавляем ещё не посещённые ссылки в очередь\n",
    "        for child in children_links:\n",
    "            if url_normalize(child) not in already_visited \\\n",
    "            and filtration_function(child):\n",
    "                q.put([child, level + 1])\n",
    "    \n",
    "    data = pd.DataFrame(pages_json)\n",
    "    data['link_count'] = pd.DataFrame(num_links)\n",
    "    data['download_time'] = pd.DataFrame(download_time)\n",
    "    data['deep'] = pd.DataFrame(deep_level)\n",
    "\n",
    "    return data"
   ],
   "execution_count":9,
   "outputs":[
    
   ],
   "metadata":{
    "datalore":{
     "type":"CODE",
     "hide_input_from_viewers":false,
     "hide_output_from_viewers":false
    }
   }
  },
  {
   "cell_type":"code",
   "source":[
    "def download_from_the_internet(url):\n",
    "    try:\n",
    "        return urlopen(url).read().decode('utf-8')\n",
    "    except KeyboardInterrupt:\n",
    "        raise\n",
    "    except:\n",
    "        return None\n",
    "\n",
    "\n",
    "def extract_links_from_html(url, html):\n",
    "    parser = BeautifulSoup(html)\n",
    "    return [urljoin(url, link.get('href')) for link in parser.findAll('a')]\n",
    "\n",
    "\n",
    "def extract_text_info_from_html(html):\n",
    "    soup = BeautifulSoup(html, features=\"html.parser\")\n",
    "    for script in soup([\"script\", \"style\"]):\n",
    "        script.extract()\n",
    "\n",
    "    text = soup.get_text()\n",
    "    lines = (line.strip() for line in text.splitlines())\n",
    "    chunks = (phrase.strip() for line in lines for phrase in line.split(\"  \"))\n",
    "    text = '\\n'.join(chunk for chunk in chunks if chunk)\n",
    "\n",
    "    title = soup.find('title').string\n",
    "\n",
    "    return {'text': text, 'title': title}\n",
    "\n",
    "\n",
    "def is_codeforces(url):\n",
    "    \"\"\"Проверяет, является ли ссылка страницей на codeforces\"\"\"\n",
    "    if 'codeforces' not in url:\n",
    "        return False\n",
    "    return True"
   ],
   "execution_count":4,
   "outputs":[
    
   ],
   "metadata":{
    "datalore":{
     "type":"CODE",
     "hide_input_from_viewers":false,
     "hide_output_from_viewers":false
    }
   }
  },
  {
   "cell_type":"markdown",
   "source":[
    "#### Цель исследования\n",
    "\n",
    "**2.** Выберите достаточно крупный сайт, который вам интересен, а также некоторую категорию страниц в нём. Поймите, с какой страницы сайта надо начать обход, чтобы обходить сайты данной категории.\n",
    "\n",
    "**Укажите, что выбрали:**\n",
    "Ищу задачи страницы с условиями задач на https:\/\/codeforces.com, начинаю со страницы https:\/\/codeforces.com\/problemset\/\n",
    "\n",
    "Придумайте критерий, который по тексту из HTML-страницы будет определять, находится ли страница в определённой вами категории.\n",
    "\n",
    "**Опишите критерий:** \n",
    "На странице должно быть 'ограничение по времени на тест' или 'time limit per test'\n",
    "\n",
    "Начав с выбранной страницы, скачайте не менее $500$ страниц сайта. В качестве функции фильтрации возьмите функцию, которая отделяет страницы с выбранного сайта от других."
   ],
   "attachments":{
    
   },
   "metadata":{
    "datalore":{
     "type":"MD",
     "hide_input_from_viewers":false,
     "hide_output_from_viewers":false
    }
   }
  },
  {
   "cell_type":"code",
   "source":[
    "def criteria(text):\n",
    "    if 'ограничение по времени на тест' in text or 'time limit per test' in text:\n",
    "        return True\n",
    "    return False"
   ],
   "execution_count":5,
   "outputs":[
    
   ],
   "metadata":{
    "datalore":{
     "type":"CODE",
     "hide_input_from_viewers":false,
     "hide_output_from_viewers":false
    }
   }
  },
  {
   "cell_type":"markdown",
   "source":[
    "Cделайте `pandas`-таблицу со следующей информацией:\n",
    "\n",
    "* количество слов в тексте статьи;\n",
    "* принадлежит ли страница выбранной категории.\n",
    "\n",
    "Для последнего пункта можете воспользоваться функцией поиска слов по заданным префиксам, рассмотренной на <a href=\"https:\/\/mipt-stats.gitlab.io\/courses\/ad_fivt\/data_parsing.html\">занятии<\/a>."
   ],
   "attachments":{
    
   },
   "metadata":{
    "datalore":{
     "type":"MD",
     "hide_input_from_viewers":false,
     "hide_output_from_viewers":false
    }
   }
  },
  {
   "cell_type":"code",
   "source":[
    "SEED = \"https:\/\/codeforces.com\/problemset\"\n",
    "n = 500\n",
    "cf_data = load_web_pages(SEED, n, is_codeforces)"
   ],
   "execution_count":8,
   "outputs":[
    
   ],
   "metadata":{
    "datalore":{
     "type":"CODE",
     "hide_input_from_viewers":false,
     "hide_output_from_viewers":false
    }
   }
  },
  {
   "cell_type":"markdown",
   "source":[
    "Определите, какой процент скачанных страниц принадлежит выбранной категории:"
   ],
   "attachments":{
    
   },
   "metadata":{
    "datalore":{
     "type":"MD",
     "hide_input_from_viewers":false,
     "hide_output_from_viewers":false
    }
   }
  },
  {
   "cell_type":"code",
   "source":[
    "cf_data_copy = cf_data.copy()\n",
    "\n",
    "# определяю принадлежность target\n",
    "cf_data_copy['target'] = cf_data_copy['text'].apply(lambda x: False if criteria(x) == False else True)\n",
    "\n",
    "total_number = cf_data_copy.shape[0]\n",
    "target_number = cf_data_copy[cf_data_copy.target == True].shape[0]"
   ],
   "execution_count":9,
   "outputs":[
    
   ],
   "metadata":{
    "datalore":{
     "type":"CODE",
     "hide_input_from_viewers":false,
     "hide_output_from_viewers":false
    }
   }
  },
  {
   "cell_type":"code",
   "source":[
    "print(target_number)\n",
    "print(total_number)\n",
    "print(target_number \/ total_number)"
   ],
   "execution_count":10,
   "outputs":[
    {
     "name":"stdout",
     "text":[
      "100\n",
      "501\n",
      "0.1996007984031936\n"
     ],
     "output_type":"stream"
    }
   ],
   "metadata":{
    "datalore":{
     "type":"CODE",
     "hide_input_from_viewers":false,
     "hide_output_from_viewers":false
    }
   }
  },
  {
   "cell_type":"markdown",
   "source":[
    "**Таким образом, принадлежит $19.6\\%$ процентов загруженных страниц.**"
   ],
   "attachments":{
    
   },
   "metadata":{
    "datalore":{
     "type":"MD",
     "hide_input_from_viewers":false,
     "hide_output_from_viewers":false
    }
   }
  },
  {
   "cell_type":"markdown",
   "source":[
    "#### Распределение количества слов\n",
    "\n",
    "C помощью гистограмм сравните визуально распределения количества слов в статьях из выбранной категории и во всех остальных.\n",
    "\n",
    "Для этих двух распределений вычислите средние, медианы и дисперсии. Средние и медианы отобразите на графиках с гистограммами. Сделайте выводы."
   ],
   "attachments":{
    
   },
   "metadata":{
    "datalore":{
     "type":"MD",
     "hide_input_from_viewers":false,
     "hide_output_from_viewers":false
    }
   }
  },
  {
   "cell_type":"code",
   "source":[
    "# считаю слова\n",
    "cf_data_copy['word_count'] = cf_data_copy['text'].apply(lambda x: len(x.split()))\n",
    "cf_data_copy.head()\n",
    "\n",
    "target_pages = cf_data_copy[cf_data_copy['target'] == True]\n",
    "not_target_pages = cf_data_copy[cf_data_copy['target'] == False]\n",
    "\n",
    "# уберём выбросы по нетаргетированным страницам\n",
    "q1 = not_target_pages['word_count'].quantile(0.25)\n",
    "q3 = not_target_pages['word_count'].quantile(0.75)\n",
    "\n",
    "not_target_pages = not_target_pages[(not_target_pages['word_count'] > q1) & (not_target_pages['word_count'] < q3)]"
   ],
   "execution_count":12,
   "outputs":[
    
   ],
   "metadata":{
    "datalore":{
     "type":"CODE",
     "hide_input_from_viewers":false,
     "hide_output_from_viewers":false
    }
   }
  },
  {
   "cell_type":"markdown",
   "source":[
    "Вычислим среднее, медианы и дисперсии. Для целевой категории:"
   ],
   "attachments":{
    
   },
   "metadata":{
    "datalore":{
     "type":"MD",
     "hide_input_from_viewers":false,
     "hide_output_from_viewers":false
    }
   }
  },
  {
   "cell_type":"code",
   "source":[
    "tp_describe = target_pages.describe()\n",
    "tp_median = np.median(target_pages['word_count'])\n",
    "tp_describe"
   ],
   "execution_count":13,
   "outputs":[
    {
     "data":{
      "text\/html":[
       "<div>\n",
       "<style scoped>\n",
       "    .dataframe tbody tr th:only-of-type {\n",
       "        vertical-align: middle;\n",
       "    }\n",
       "\n",
       "    .dataframe tbody tr th {\n",
       "        vertical-align: top;\n",
       "    }\n",
       "\n",
       "    .dataframe thead th {\n",
       "        text-align: right;\n",
       "    }\n",
       "<\/style>\n",
       "<table border=\"1\" class=\"dataframe\">\n",
       "  <thead>\n",
       "    <tr style=\"text-align: right;\">\n",
       "      <th><\/th>\n",
       "      <th>link_count<\/th>\n",
       "      <th>download_time<\/th>\n",
       "      <th>deep<\/th>\n",
       "      <th>word_count<\/th>\n",
       "    <\/tr>\n",
       "  <\/thead>\n",
       "  <tbody>\n",
       "    <tr>\n",
       "      <th>count<\/th>\n",
       "      <td>100.000000<\/td>\n",
       "      <td>100.000000<\/td>\n",
       "      <td>100.0<\/td>\n",
       "      <td>100.000000<\/td>\n",
       "    <\/tr>\n",
       "    <tr>\n",
       "      <th>mean<\/th>\n",
       "      <td>32.220000<\/td>\n",
       "      <td>0.376697<\/td>\n",
       "      <td>1.0<\/td>\n",
       "      <td>660.750000<\/td>\n",
       "    <\/tr>\n",
       "    <tr>\n",
       "      <th>std<\/th>\n",
       "      <td>3.119117<\/td>\n",
       "      <td>0.051379<\/td>\n",
       "      <td>0.0<\/td>\n",
       "      <td>204.234831<\/td>\n",
       "    <\/tr>\n",
       "    <tr>\n",
       "      <th>min<\/th>\n",
       "      <td>31.000000<\/td>\n",
       "      <td>0.290247<\/td>\n",
       "      <td>1.0<\/td>\n",
       "      <td>383.000000<\/td>\n",
       "    <\/tr>\n",
       "    <tr>\n",
       "      <th>25%<\/th>\n",
       "      <td>31.000000<\/td>\n",
       "      <td>0.340494<\/td>\n",
       "      <td>1.0<\/td>\n",
       "      <td>525.500000<\/td>\n",
       "    <\/tr>\n",
       "    <tr>\n",
       "      <th>50%<\/th>\n",
       "      <td>31.000000<\/td>\n",
       "      <td>0.365093<\/td>\n",
       "      <td>1.0<\/td>\n",
       "      <td>594.000000<\/td>\n",
       "    <\/tr>\n",
       "    <tr>\n",
       "      <th>75%<\/th>\n",
       "      <td>31.000000<\/td>\n",
       "      <td>0.397039<\/td>\n",
       "      <td>1.0<\/td>\n",
       "      <td>719.750000<\/td>\n",
       "    <\/tr>\n",
       "    <tr>\n",
       "      <th>max<\/th>\n",
       "      <td>41.000000<\/td>\n",
       "      <td>0.512200<\/td>\n",
       "      <td>1.0<\/td>\n",
       "      <td>1116.000000<\/td>\n",
       "    <\/tr>\n",
       "  <\/tbody>\n",
       "<\/table>\n",
       "<\/div>"
      ]
     },
     "metadata":{
      
     },
     "output_type":"display_data"
    }
   ],
   "metadata":{
    "datalore":{
     "type":"CODE",
     "hide_input_from_viewers":false,
     "hide_output_from_viewers":false
    }
   }
  },
  {
   "cell_type":"markdown",
   "source":[
    "Для нецелевой категории:"
   ],
   "attachments":{
    
   },
   "metadata":{
    "datalore":{
     "type":"MD",
     "hide_input_from_viewers":false,
     "hide_output_from_viewers":false
    }
   }
  },
  {
   "cell_type":"code",
   "source":[
    "ntp_describe = not_target_pages.describe()\n",
    "ntp_median = np.median(not_target_pages['word_count'])\n",
    "ntp_describe"
   ],
   "execution_count":14,
   "outputs":[
    {
     "data":{
      "text\/html":[
       "<div>\n",
       "<style scoped>\n",
       "    .dataframe tbody tr th:only-of-type {\n",
       "        vertical-align: middle;\n",
       "    }\n",
       "\n",
       "    .dataframe tbody tr th {\n",
       "        vertical-align: top;\n",
       "    }\n",
       "\n",
       "    .dataframe thead th {\n",
       "        text-align: right;\n",
       "    }\n",
       "<\/style>\n",
       "<table border=\"1\" class=\"dataframe\">\n",
       "  <thead>\n",
       "    <tr style=\"text-align: right;\">\n",
       "      <th><\/th>\n",
       "      <th>link_count<\/th>\n",
       "      <th>download_time<\/th>\n",
       "      <th>deep<\/th>\n",
       "      <th>word_count<\/th>\n",
       "    <\/tr>\n",
       "  <\/thead>\n",
       "  <tbody>\n",
       "    <tr>\n",
       "      <th>count<\/th>\n",
       "      <td>169.000000<\/td>\n",
       "      <td>169.000000<\/td>\n",
       "      <td>169.000000<\/td>\n",
       "      <td>169.000000<\/td>\n",
       "    <\/tr>\n",
       "    <tr>\n",
       "      <th>mean<\/th>\n",
       "      <td>334.065089<\/td>\n",
       "      <td>0.637715<\/td>\n",
       "      <td>1.189349<\/td>\n",
       "      <td>1072.473373<\/td>\n",
       "    <\/tr>\n",
       "    <tr>\n",
       "      <th>std<\/th>\n",
       "      <td>266.484904<\/td>\n",
       "      <td>0.499624<\/td>\n",
       "      <td>0.407817<\/td>\n",
       "      <td>277.417020<\/td>\n",
       "    <\/tr>\n",
       "    <tr>\n",
       "      <th>min<\/th>\n",
       "      <td>29.000000<\/td>\n",
       "      <td>0.305082<\/td>\n",
       "      <td>0.000000<\/td>\n",
       "      <td>476.000000<\/td>\n",
       "    <\/tr>\n",
       "    <tr>\n",
       "      <th>25%<\/th>\n",
       "      <td>187.000000<\/td>\n",
       "      <td>0.454535<\/td>\n",
       "      <td>1.000000<\/td>\n",
       "      <td>1006.000000<\/td>\n",
       "    <\/tr>\n",
       "    <tr>\n",
       "      <th>50%<\/th>\n",
       "      <td>189.000000<\/td>\n",
       "      <td>0.512029<\/td>\n",
       "      <td>1.000000<\/td>\n",
       "      <td>1054.000000<\/td>\n",
       "    <\/tr>\n",
       "    <tr>\n",
       "      <th>75%<\/th>\n",
       "      <td>420.000000<\/td>\n",
       "      <td>0.701687<\/td>\n",
       "      <td>1.000000<\/td>\n",
       "      <td>1162.000000<\/td>\n",
       "    <\/tr>\n",
       "    <tr>\n",
       "      <th>max<\/th>\n",
       "      <td>957.000000<\/td>\n",
       "      <td>5.506915<\/td>\n",
       "      <td>2.000000<\/td>\n",
       "      <td>2208.000000<\/td>\n",
       "    <\/tr>\n",
       "  <\/tbody>\n",
       "<\/table>\n",
       "<\/div>"
      ]
     },
     "metadata":{
      
     },
     "output_type":"display_data"
    }
   ],
   "metadata":{
    "datalore":{
     "type":"CODE",
     "hide_input_from_viewers":false,
     "hide_output_from_viewers":false
    }
   }
  },
  {
   "cell_type":"markdown",
   "source":[
    "Выведем требуемые величины:"
   ],
   "attachments":{
    
   },
   "metadata":{
    "datalore":{
     "type":"MD",
     "hide_input_from_viewers":false,
     "hide_output_from_viewers":false
    }
   }
  },
  {
   "cell_type":"code",
   "source":[
    "# медианы\n",
    "print(tp_median)\n",
    "print(ntp_median)\n",
    "# дисперсии\n",
    "print(tp_describe['word_count']['std'] ** 2)\n",
    "print(ntp_describe['word_count']['std'] ** 2)"
   ],
   "execution_count":15,
   "outputs":[
    {
     "name":"stdout",
     "text":[
      "594.0\n",
      "1054.0\n",
      "41711.86616161616\n",
      "76960.20315581851\n"
     ],
     "output_type":"stream"
    }
   ],
   "metadata":{
    "datalore":{
     "type":"CODE",
     "hide_input_from_viewers":false,
     "hide_output_from_viewers":false
    }
   }
  },
  {
   "cell_type":"code",
   "source":[
    "plt.rcParams[\"figure.figsize\"] = (16, 4)\n",
    "\n",
    "# основные графики\n",
    "sns.histplot(x=target_pages['word_count'], color='green', alpha = 0.5, label='target')\n",
    "sns.histplot(x=not_target_pages['word_count'], color='blue', alpha = 0.5, label='not target')\n",
    "\n",
    "# медиана\n",
    "plt.axvline(tp_median, 0, 40, linewidth = 3, color='lime', label='median target')\n",
    "plt.axvline(ntp_median, 0, 40, linewidth = 3, color='purple', label='median not target')\n",
    "\n",
    "# средняя\n",
    "plt.axvline(tp_describe['word_count']['mean'], 0, 40, linewidth = 3, color='darkgreen', label='mean target')\n",
    "plt.axvline(ntp_describe['word_count']['mean'], 0, 40, linewidth = 3, color='navy', label='mean not target')\n",
    "\n",
    "plt.xlabel('Количество слов', fontsize = 15)\n",
    "plt.ylabel('Число страниц', fontsize = 15)\n",
    "plt.title('Число страниц для двух выборок', fontsize = 13)\n",
    "plt.legend()"
   ],
   "execution_count":61,
   "outputs":[
    {
     "data":{
      "text\/plain":[
       "<matplotlib.legend.Legend at 0x7fa69560ea60>"
      ],
      "image\/png":"[encoded data removed]"
     },
     "metadata":{
      "image\/png":{
       
      }
     },
     "output_type":"display_data"
    }
   ],
   "metadata":{
    "datalore":{
     "type":"CODE",
     "hide_input_from_viewers":false,
     "hide_output_from_viewers":false
    }
   }
  },
  {
   "cell_type":"markdown",
   "source":[
    "**Выводы:**\n",
    "Поскольку данные для нецелевого сектора статей были избавлены от выбросов, то различие между медианой и средним не столь велико, как в целевой категории. В среднем, целевая категория статей имеет $550-600$ слов, а нецелевая $1000-1100$.\n",
    "\n",
    "Постройте boxplot-графики для того, чтобы сравнить эти 2 распределения. Какой способ сравнения кажется вам более удобным?"
   ],
   "attachments":{
    
   },
   "metadata":{
    "datalore":{
     "type":"MD",
     "hide_input_from_viewers":false,
     "hide_output_from_viewers":false
    }
   }
  },
  {
   "cell_type":"code",
   "source":[
    "plt.rcParams[\"figure.figsize\"] = (16, 4)\n",
    "fig, ax = plt.subplots()\n",
    "sns.boxplot(x=target_pages['word_count'], color='green')\n",
    "sns.boxplot(x=not_target_pages['word_count'], color='blue')\n",
    "\n",
    "plt.xlabel('Количество слов', fontsize = 13)\n",
    "plt.title('Число страниц для двух выборок', fontsize = 13)"
   ],
   "execution_count":70,
   "outputs":[
    {
     "data":{
      "text\/plain":[
       "Text(0.5, 1.0, 'Число страниц для двух выборок')"
      ],
      "image\/png":"[encoded data removed]"
     },
     "metadata":{
      "image\/png":{
       
      }
     },
     "output_type":"display_data"
    }
   ],
   "metadata":{
    "datalore":{
     "type":"CODE",
     "hide_input_from_viewers":false,
     "hide_output_from_viewers":false
    }
   }
  },
  {
   "cell_type":"markdown",
   "source":[
    "**Мнение:** Мне кажется, что график более нагляден и лучше демонстрирует динамику."
   ],
   "attachments":{
    
   },
   "metadata":{
    "datalore":{
     "type":"MD",
     "hide_input_from_viewers":false,
     "hide_output_from_viewers":false
    }
   }
  },
  {
   "cell_type":"markdown",
   "source":[
    "#### Визуализация страниц\n",
    "\n",
    "**3.** Визуализируйте скачанные страницы сайта. В качестве значений по осям возьмите количество слов на странице и количество ссылок на ней. Цветом обозначьте принадлежность выбранной вами категории. "
   ],
   "attachments":{
    
   },
   "metadata":{
    "datalore":{
     "type":"MD",
     "hide_input_from_viewers":false,
     "hide_output_from_viewers":false
    }
   }
  },
  {
   "cell_type":"code",
   "source":[
    "# уберём выбросы по ссылкам\n",
    "q1 = cf_data_copy['word_count'].quantile(0.25)\n",
    "q3 = cf_data_copy['word_count'].quantile(0.75)\n",
    "cp = cf_data_copy[(cf_data_copy['word_count'] > q1) & (cf_data_copy['word_count'] < q3)]"
   ],
   "execution_count":78,
   "outputs":[
    
   ],
   "metadata":{
    "datalore":{
     "type":"CODE",
     "hide_input_from_viewers":false,
     "hide_output_from_viewers":false
    }
   }
  },
  {
   "cell_type":"code",
   "source":[
    "plt.figure(figsize = (16, 6))\n",
    "\n",
    "fig = sns.scatterplot(\n",
    "    data=cp,\n",
    "    x='word_count',\n",
    "    y='link_count',\n",
    "    s=70,\n",
    "    linewidth=0, \n",
    "    hue='target',\n",
    "    palette='viridis',\n",
    "    alpha=0.6,\n",
    "    )\n",
    "\n",
    "plt.xlabel('Количество слов', fontsize = 13)\n",
    "plt.ylabel('Количество ссылок', fontsize = 13)\n",
    "plt.title('Зависимость ссылок от слов', fontsize = 13)\n",
    "plt.legend()"
   ],
   "execution_count":86,
   "outputs":[
    {
     "data":{
      "text\/plain":[
       "<matplotlib.legend.Legend at 0x7fa6948bd970>"
      ],
      "image\/png":"[encoded data removed]"
     },
     "metadata":{
      "image\/png":{
       
      }
     },
     "output_type":"display_data"
    }
   ],
   "metadata":{
    "datalore":{
     "type":"CODE",
     "hide_input_from_viewers":false,
     "hide_output_from_viewers":false
    }
   }
  },
  {
   "cell_type":"markdown",
   "source":[
    "**Вывод:** Таким образом, целевые страницы содержат в среднем $30-33$ ссылки, а иные страницы обладают сильным разбросом, хотя среди них также можно выделить смысловые группы. "
   ],
   "attachments":{
    
   },
   "metadata":{
    "datalore":{
     "type":"MD",
     "hide_input_from_viewers":false,
     "hide_output_from_viewers":false
    }
   }
  },
  {
   "cell_type":"markdown",
   "source":[
    "#### Новый критерий\n",
    "\n",
    "**4.** Предложите функцию фильтрации web-страниц, которую нужно подать в `load_web_pages`, чтобы среди скачанных сайтов был больше процент страниц из выбранной вами категории."
   ],
   "attachments":{
    
   },
   "metadata":{
    "datalore":{
     "type":"MD",
     "hide_input_from_viewers":false,
     "hide_output_from_viewers":false
    }
   }
  },
  {
   "cell_type":"code",
   "source":[
    "def is_task_page(url):\n",
    "    \"\"\"Проверяет, является ли ссылка страницей с задачей на codeforces\"\"\"\n",
    "\n",
    "    if 'codeforces' in url and 'problem' in url:\n",
    "        prohibited = ['status', 'submit']\n",
    "        # Проверяем, есть ли запрещённые строки в ссылке\n",
    "        for token in prohibited:\n",
    "            if token in url:\n",
    "                return False\n",
    "        return True\n",
    "\n",
    "    return False"
   ],
   "execution_count":40,
   "outputs":[
    
   ],
   "metadata":{
    "datalore":{
     "type":"CODE",
     "hide_input_from_viewers":false,
     "hide_output_from_viewers":false
    }
   }
  },
  {
   "cell_type":"markdown",
   "source":[
    "Скачайте снова не менее $500$ страниц, но уже с новой функцией фильтрации. Добавьте следующую информацию к каждой странице:\n",
    "\n",
    "* глубина в обходе,\n",
    "* время скачивания страницы.\n",
    "\n",
    "Для замера времени можете воспользоваться функцией `time` из пакета `time`."
   ],
   "attachments":{
    
   },
   "metadata":{
    "datalore":{
     "type":"MD",
     "hide_input_from_viewers":false,
     "hide_output_from_viewers":false
    }
   }
  },
  {
   "cell_type":"code",
   "source":[
    "cf_data_new_criteria = load_web_pages(SEED, n, is_task_page)"
   ],
   "execution_count":42,
   "outputs":[
    
   ],
   "metadata":{
    "datalore":{
     "type":"CODE",
     "hide_input_from_viewers":false,
     "hide_output_from_viewers":false
    }
   }
  },
  {
   "cell_type":"code",
   "source":[
    "cf_new_data_copy = cf_data_new_criteria.copy()\n",
    "cf_new_data_copy['target'] = cf_new_data_copy['text'].apply(lambda x: False if criteria(x) == False else True)\n",
    "\n",
    "total_number_new_criteria = cf_new_data_copy.shape[0]\n",
    "target_number_new_criteria  = cf_new_data_copy[cf_new_data_copy.target == True].shape[0]\n",
    "\n",
    "cf_new_data_copy.head()"
   ],
   "execution_count":43,
   "outputs":[
    {
     "data":{
      "text\/html":[
       "<div>\n",
       "<style scoped>\n",
       "    .dataframe tbody tr th:only-of-type {\n",
       "        vertical-align: middle;\n",
       "    }\n",
       "\n",
       "    .dataframe tbody tr th {\n",
       "        vertical-align: top;\n",
       "    }\n",
       "\n",
       "    .dataframe thead th {\n",
       "        text-align: right;\n",
       "    }\n",
       "<\/style>\n",
       "<table border=\"1\" class=\"dataframe\">\n",
       "  <thead>\n",
       "    <tr style=\"text-align: right;\">\n",
       "      <th><\/th>\n",
       "      <th>text<\/th>\n",
       "      <th>title<\/th>\n",
       "      <th>url<\/th>\n",
       "      <th>link_count<\/th>\n",
       "      <th>download_time<\/th>\n",
       "      <th>deep<\/th>\n",
       "      <th>target<\/th>\n",
       "    <\/tr>\n",
       "  <\/thead>\n",
       "  <tbody>\n",
       "    <tr>\n",
       "      <th>0<\/th>\n",
       "      <td>Problemset - Codeforces\\nEnter\\n|\\nRegister\\nH...<\/td>\n",
       "      <td>Problemset - Codeforces<\/td>\n",
       "      <td>https:\/\/codeforces.com\/problemset<\/td>\n",
       "      <td>765<\/td>\n",
       "      <td>0.725019<\/td>\n",
       "      <td>0<\/td>\n",
       "      <td>False<\/td>\n",
       "    <\/tr>\n",
       "    <tr>\n",
       "      <th>1<\/th>\n",
       "      <td>Problemset - Codeforces\\nEnter\\n|\\nRegister\\nH...<\/td>\n",
       "      <td>Problemset - Codeforces<\/td>\n",
       "      <td>https:\/\/codeforces.com\/problemset?locale=en<\/td>\n",
       "      <td>765<\/td>\n",
       "      <td>0.504148<\/td>\n",
       "      <td>1<\/td>\n",
       "      <td>False<\/td>\n",
       "    <\/tr>\n",
       "    <tr>\n",
       "      <th>2<\/th>\n",
       "      <td>Архив - Codeforces\\nВойти\\n|\\nЗарегистрировать...<\/td>\n",
       "      <td>Архив - Codeforces<\/td>\n",
       "      <td>https:\/\/codeforces.com\/problemset?locale=ru<\/td>\n",
       "      <td>766<\/td>\n",
       "      <td>0.464785<\/td>\n",
       "      <td>1<\/td>\n",
       "      <td>False<\/td>\n",
       "    <\/tr>\n",
       "    <tr>\n",
       "      <th>3<\/th>\n",
       "      <td>Login - Codeforces\\nEnter\\n|\\nRegister\\nHome\\n...<\/td>\n",
       "      <td>Login - Codeforces<\/td>\n",
       "      <td>https:\/\/codeforces.com\/enter?back=\/problemset<\/td>\n",
       "      <td>28<\/td>\n",
       "      <td>0.279936<\/td>\n",
       "      <td>1<\/td>\n",
       "      <td>False<\/td>\n",
       "    <\/tr>\n",
       "    <tr>\n",
       "      <th>4<\/th>\n",
       "      <td>Problemset - Codeforces\\nEnter\\n|\\nRegister\\nH...<\/td>\n",
       "      <td>Problemset - Codeforces<\/td>\n",
       "      <td>https:\/\/codeforces.com\/problemsets\/acmsguru<\/td>\n",
       "      <td>438<\/td>\n",
       "      <td>0.837663<\/td>\n",
       "      <td>1<\/td>\n",
       "      <td>False<\/td>\n",
       "    <\/tr>\n",
       "  <\/tbody>\n",
       "<\/table>\n",
       "<\/div>"
      ]
     },
     "metadata":{
      
     },
     "output_type":"display_data"
    }
   ],
   "metadata":{
    "datalore":{
     "type":"CODE",
     "hide_input_from_viewers":false,
     "hide_output_from_viewers":false
    }
   }
  },
  {
   "cell_type":"code",
   "source":[
    "print(target_number_new_criteria)\n",
    "print(total_number_new_criteria)\n",
    "print(target_number_new_criteria \/ total_number_new_criteria)"
   ],
   "execution_count":44,
   "outputs":[
    {
     "name":"stdout",
     "text":[
      "263\n",
      "501\n",
      "0.5249500998003992\n"
     ],
     "output_type":"stream"
    }
   ],
   "metadata":{
    "datalore":{
     "type":"CODE",
     "hide_input_from_viewers":false,
     "hide_output_from_viewers":false
    }
   }
  },
  {
   "cell_type":"markdown",
   "source":[
    "Таким образом, $52\\%$ страниц принадлежат целевой группе.\n",
    "\n",
    "Постройте гистограмму для времени скачивания страницы. Предположите, каким известным вам стандартным распределением оно может быть приближено? \n",
    "\n",
    "Чтобы лучше наблюдать распределение, ограничим сверху значения:"
   ],
   "attachments":{
    
   },
   "metadata":{
    "datalore":{
     "type":"MD",
     "hide_input_from_viewers":false,
     "hide_output_from_viewers":false
    }
   }
  },
  {
   "cell_type":"code",
   "source":[
    "\n",
    "data = cf_new_data_copy.loc[cf_new_data_copy['download_time'] < 2]\n",
    "sns.histplot(x='download_time', data=data)\n",
    "\n",
    "plt.xlabel('Время загрузки', fontsize = 13)\n",
    "plt.ylabel('Число страниц', fontsize = 13)\n",
    "plt.title('Распределение времени загрузки страницы', fontsize = 13)"
   ],
   "execution_count":81,
   "outputs":[
    {
     "data":{
      "text\/plain":[
       "Text(0.5, 1.0, 'Распределение времени загрузки страницы')"
      ],
      "image\/png":"[encoded data removed]"
     },
     "metadata":{
      "image\/png":{
       
      }
     },
     "output_type":"display_data"
    }
   ],
   "metadata":{
    "datalore":{
     "type":"CODE",
     "hide_input_from_viewers":false,
     "hide_output_from_viewers":false
    }
   }
  },
  {
   "cell_type":"markdown",
   "source":[
    "#### Выводы\n",
    "Таким образом, гистограмма скачивания страниц напоминает гамма-распределение с параметром $\\nu = 1, \\lambda = 2$, умноженном на поправочный коэффициент $k=20$.\n",
    "\n",
    "<img src=\"https:\/\/studfile.net\/html\/6745\/262\/html_TRTiDp2LJq.wNut\/htmlconvd-Ozs5E35x1.jpg\" width=400 height=250 \/>\n",
    "\n",
    "Отметим, что в результате работы мы определили, что целевая категория страниц содержит $30-32$ ссылки, а нецелевая, как правило, больше. \n",
    "\n",
    "Второй критерий повысил эффективность до $52\\%$, потому что я точечно убрала ряд нецелевых страниц.\n",
    "\n",
    "В результате анализа, мы получили основные статистические величины по столбцам, построили гистограмму и boxplot. В связи с тем, что в нецелевой категории были сильные выбросы (например, $50 000$ ссылок на странице при медиане $600$), в ряде графиков я убрала выбивающиеся значения."
   ],
   "attachments":{
    
   },
   "metadata":{
    "datalore":{
     "type":"MD",
     "hide_input_from_viewers":false,
     "hide_output_from_viewers":false
    }
   }
  }
 ],
 "metadata":{
  "datalore":{
   "version":1,
   "computation_mode":"JUPYTER",
   "package_manager":"pip",
   "base_environment":"default",
   "packages":[
    {
     "name":"url-normalize",
     "version":"1.4.3",
     "source":"PIP"
    },
    {
     "name":"bs4",
     "source":"PIP"
    }
   ]
  }
 },
 "nbformat":4,
 "nbformat_minor":4
}